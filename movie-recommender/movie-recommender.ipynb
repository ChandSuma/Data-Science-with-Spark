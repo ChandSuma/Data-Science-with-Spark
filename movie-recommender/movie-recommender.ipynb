{
 "cells": [
  {
   "cell_type": "markdown",
   "metadata": {},
   "source": [
    "### Exploring the ALS algorithm"
   ]
  },
  {
   "cell_type": "code",
   "execution_count": 1,
   "metadata": {
    "collapsed": true
   },
   "outputs": [],
   "source": [
    "import os\n",
    "import pandas as pd\n",
    "import numpy as np\n",
    "\n",
    "from pyspark import SparkConf, SparkContext\n",
    "from pyspark.sql import SparkSession, SQLContext\n",
    "\n",
    "from pyspark.sql.types import *\n",
    "from pyspark.sql.functions import udf, col\n",
    "import pyspark.sql.functions as F\n",
    "\n",
    "from pyspark.ml.recommendation import ALS #, Rating #, MatrixFactorizationModel"
   ]
  },
  {
   "cell_type": "code",
   "execution_count": 2,
   "metadata": {
    "collapsed": true
   },
   "outputs": [],
   "source": [
    "# Visualization\n",
    "from IPython.core.interactiveshell import InteractiveShell\n",
    "InteractiveShell.ast_node_interactivity = \"all\"\n",
    "\n",
    "pd.set_option('display.max_columns', 200)\n",
    "pd.set_option('display.max_colwidth', 400)\n",
    "\n",
    "import matplotlib.pyplot as plt\n",
    "plt.rc('figure', figsize=(18, 4))\n",
    "\n",
    "import seaborn as sns\n",
    "sns.set(context='notebook', style='whitegrid', rc={'figure.figsize': (18,4)})\n",
    "\n",
    "np.set_printoptions(precision=4, suppress=True)\n",
    "\n",
    "%matplotlib inline\n",
    "%config InlineBackend.figure_format = 'retina'"
   ]
  },
  {
   "cell_type": "code",
   "execution_count": 3,
   "metadata": {
    "collapsed": true
   },
   "outputs": [],
   "source": [
    "# setting random seed for notebook reproducability\n",
    "rnd_seed=42\n",
    "np.random.seed=rnd_seed\n",
    "np.random.set_state=rnd_seed"
   ]
  },
  {
   "cell_type": "markdown",
   "metadata": {},
   "source": [
    "## 2. Creating the Spark Session"
   ]
  },
  {
   "cell_type": "code",
   "execution_count": 4,
   "metadata": {},
   "outputs": [],
   "source": [
    "#os.environ['SPARK_HOME']"
   ]
  },
  {
   "cell_type": "code",
   "execution_count": 5,
   "metadata": {},
   "outputs": [
    {
     "data": {
      "text/html": [
       "\n",
       "            <div>\n",
       "                <p><b>SparkSession - in-memory</b></p>\n",
       "                \n",
       "        <div>\n",
       "            <p><b>SparkContext</b></p>\n",
       "\n",
       "            <p><a href=\"http://ip-172-30-5-82.ec2.internal:4040\">Spark UI</a></p>\n",
       "\n",
       "            <dl>\n",
       "              <dt>Version</dt>\n",
       "                <dd><code>v2.3.0</code></dd>\n",
       "              <dt>Master</dt>\n",
       "                <dd><code>local[2]</code></dd>\n",
       "              <dt>AppName</dt>\n",
       "                <dd><code>movie-recommender</code></dd>\n",
       "            </dl>\n",
       "        </div>\n",
       "        \n",
       "            </div>\n",
       "        "
      ],
      "text/plain": [
       "<pyspark.sql.session.SparkSession at 0x7fcca83fce10>"
      ]
     },
     "execution_count": 5,
     "metadata": {},
     "output_type": "execute_result"
    }
   ],
   "source": [
    "spark = SparkSession.builder.master(\"local[2]\").appName(\"movie-recommender\").getOrCreate()\n",
    "spark"
   ]
  },
  {
   "cell_type": "code",
   "execution_count": 6,
   "metadata": {},
   "outputs": [
    {
     "data": {
      "text/html": [
       "\n",
       "        <div>\n",
       "            <p><b>SparkContext</b></p>\n",
       "\n",
       "            <p><a href=\"http://ip-172-30-5-82.ec2.internal:4040\">Spark UI</a></p>\n",
       "\n",
       "            <dl>\n",
       "              <dt>Version</dt>\n",
       "                <dd><code>v2.3.0</code></dd>\n",
       "              <dt>Master</dt>\n",
       "                <dd><code>local[2]</code></dd>\n",
       "              <dt>AppName</dt>\n",
       "                <dd><code>movie-recommender</code></dd>\n",
       "            </dl>\n",
       "        </div>\n",
       "        "
      ],
      "text/plain": [
       "<SparkContext master=local[2] appName=movie-recommender>"
      ]
     },
     "execution_count": 6,
     "metadata": {},
     "output_type": "execute_result"
    }
   ],
   "source": [
    "sc = spark.sparkContext\n",
    "sc"
   ]
  },
  {
   "cell_type": "code",
   "execution_count": 7,
   "metadata": {},
   "outputs": [
    {
     "data": {
      "text/plain": [
       "<pyspark.sql.context.SQLContext at 0x7fccb17307f0>"
      ]
     },
     "execution_count": 7,
     "metadata": {},
     "output_type": "execute_result"
    }
   ],
   "source": [
    "sqlContext = SQLContext(spark.sparkContext)\n",
    "sqlContext"
   ]
  },
  {
   "cell_type": "markdown",
   "metadata": {},
   "source": [
    "## 3. Load The Data From a File Into a Dataframe"
   ]
  },
  {
   "cell_type": "markdown",
   "metadata": {},
   "source": [
    "### Loading the Ratings Data Set"
   ]
  },
  {
   "cell_type": "code",
   "execution_count": 8,
   "metadata": {
    "collapsed": true
   },
   "outputs": [],
   "source": [
    "ratings_schema = StructType([\n",
    "    StructField(\"user_id\", IntegerType(), nullable=False),\n",
    "    StructField(\"movie_id\", IntegerType(), nullable=False),\n",
    "    StructField(\"rating\", IntegerType(), nullable=False),\n",
    "    StructField(\"timestamp\", LongType(), nullable=False)]\n",
    "  )"
   ]
  },
  {
   "cell_type": "code",
   "execution_count": 9,
   "metadata": {},
   "outputs": [
    {
     "data": {
      "text/plain": [
       "Row(user_id=196, movie_id=242, rating=3)"
      ]
     },
     "execution_count": 9,
     "metadata": {},
     "output_type": "execute_result"
    }
   ],
   "source": [
    "# load the dats set\n",
    "ratings_df = spark.read.csv(\"data/ml-100k/u.data\", sep='\\t', schema=ratings_schema)\n",
    "ratings_df = ratings_df.drop('timestamp')\n",
    "ratings_df.first()"
   ]
  },
  {
   "cell_type": "code",
   "execution_count": 10,
   "metadata": {
    "scrolled": true
   },
   "outputs": [
    {
     "name": "stdout",
     "output_type": "stream",
     "text": [
      "+-------+--------+------+\n",
      "|user_id|movie_id|rating|\n",
      "+-------+--------+------+\n",
      "|    196|     242|     3|\n",
      "|    186|     302|     3|\n",
      "|     22|     377|     1|\n",
      "|    244|      51|     2|\n",
      "|    166|     346|     1|\n",
      "+-------+--------+------+\n",
      "only showing top 5 rows\n",
      "\n"
     ]
    }
   ],
   "source": [
    "ratings_df.show(5)"
   ]
  },
  {
   "cell_type": "markdown",
   "metadata": {},
   "source": [
    "## 4. Build the ALS Model"
   ]
  },
  {
   "cell_type": "code",
   "execution_count": 11,
   "metadata": {
    "collapsed": true
   },
   "outputs": [],
   "source": [
    "# Build the recommendation model using Alternating Least Squares\n",
    "als = ALS(rank=10, maxIter=10, regParam=0.01, userCol='user_id', itemCol='movie_id', ratingCol='rating', seed=rnd_seed)"
   ]
  },
  {
   "cell_type": "code",
   "execution_count": 12,
   "metadata": {},
   "outputs": [],
   "source": [
    "model = als.fit(ratings_df)"
   ]
  },
  {
   "cell_type": "markdown",
   "metadata": {},
   "source": [
    "**Latent Factors for the Users:**"
   ]
  },
  {
   "cell_type": "code",
   "execution_count": 13,
   "metadata": {
    "scrolled": false
   },
   "outputs": [
    {
     "name": "stdout",
     "output_type": "stream",
     "text": [
      "+---+----------------------------------------------------------------------------------------------------+\n",
      "| id|                                                                                            features|\n",
      "+---+----------------------------------------------------------------------------------------------------+\n",
      "| 10|[-0.54010206, -0.84998554, 0.31779268, -0.2886768, 0.23462527, 0.5715468, 0.46049356, 0.83112156,...|\n",
      "| 20|[-1.033407, -0.2879485, 1.2173023, -1.8964379, 0.22374271, 0.99104583, -0.50815064, 0.53431267, 0...|\n",
      "| 30|[-0.6141571, -1.2998686, -0.35556945, -0.49162617, 0.2718643, 0.38572592, 0.5292643, 0.8750414, 1...|\n",
      "| 40|[-0.97532904, -0.34082136, 0.7854108, -0.2649228, -0.3352775, 0.0044832723, 0.17719568, 0.6497875...|\n",
      "| 50|[-0.49595955, 1.5031621, 1.1059343, -1.40197, 1.6300769, 0.5451597, 0.93870777, -0.42847547, 1.67...|\n",
      "| 60|[-0.5351085, -1.138615, -0.0115808295, -0.6367293, 0.10694349, 0.6845996, 0.12883754, 0.8526163, ...|\n",
      "| 70|[-0.2827961, -0.6142456, 0.5276025, -0.39997116, -0.025367882, 0.76077384, 0.51131207, 0.80699855...|\n",
      "| 80|[-0.6146447, -0.77691394, 0.44070545, -1.9995309, -0.04046407, -0.1221711, 0.13788334, 1.0166839,...|\n",
      "| 90|[-1.1321124, -0.7219661, 0.26655057, -0.030745085, 0.44174415, 0.670641, 0.7202157, 0.76494205, 0...|\n",
      "|100|[-0.36760077, -0.7657839, -0.36279258, -0.7862027, 0.17618558, 0.22403572, 0.39537165, 1.6550546,...|\n",
      "+---+----------------------------------------------------------------------------------------------------+\n",
      "only showing top 10 rows\n",
      "\n"
     ]
    }
   ],
   "source": [
    "model.userFactors.show(10, 100)"
   ]
  },
  {
   "cell_type": "markdown",
   "metadata": {},
   "source": [
    "**Latent Factors for the Movies:**"
   ]
  },
  {
   "cell_type": "code",
   "execution_count": 14,
   "metadata": {},
   "outputs": [
    {
     "name": "stdout",
     "output_type": "stream",
     "text": [
      "+---+----------------------------------------------------------------------------------------------------+\n",
      "| id|                                                                                            features|\n",
      "+---+----------------------------------------------------------------------------------------------------+\n",
      "| 10|[-0.69717366, -1.2098774, -0.7123832, -0.82355976, 0.79044044, 1.1545237, 1.1774782, 0.476662, 0....|\n",
      "| 20|[-0.37784293, -1.2001355, 0.68151534, -0.05149225, -0.25763956, 1.4960907, 1.7991132, 0.2601949, ...|\n",
      "| 30|[-0.85375524, -1.4291214, -0.12453982, -0.010670745, 1.2250174, 0.2534764, 1.3009347, 1.0005549, ...|\n",
      "| 40|[-0.91000855, -1.0365245, 0.22827172, -0.8106577, 0.9263951, 1.3194665, -0.25297254, 0.07458614, ...|\n",
      "| 50|[-0.7174377, -0.80812925, 0.22620797, -0.6710367, -0.4492444, 1.1530977, 0.50407505, 1.2884802, 0...|\n",
      "| 60|[-0.16236, -1.6731288, -0.5522944, -0.30527198, 0.2654121, 1.7868787, 0.83437276, 0.33115077, 1.4...|\n",
      "| 70|[-0.3798019, -1.1385587, 0.4520589, -0.31576398, 0.21611938, 0.937684, 0.5706947, 1.3481929, 0.67...|\n",
      "| 80|[-1.0126859, -0.13223326, 0.47377616, -0.7281673, -0.06491153, 0.5755237, 0.22837202, 0.08454976,...|\n",
      "| 90|[-0.34269956, -0.22525077, 0.4554675, 0.06839739, 0.16974854, 1.0465709, -0.137466, 0.117869005, ...|\n",
      "|100|[-0.6924366, -0.81557995, -0.33334297, -0.18336101, 0.14631858, 1.0667571, 0.86433005, 1.5523338,...|\n",
      "+---+----------------------------------------------------------------------------------------------------+\n",
      "only showing top 10 rows\n",
      "\n"
     ]
    }
   ],
   "source": [
    "model.itemFactors.show(10, 100)"
   ]
  },
  {
   "cell_type": "code",
   "execution_count": 15,
   "metadata": {},
   "outputs": [
    {
     "data": {
      "text/plain": [
       "10"
      ]
     },
     "execution_count": 15,
     "metadata": {},
     "output_type": "execute_result"
    }
   ],
   "source": [
    "model.rank"
   ]
  },
  {
   "cell_type": "markdown",
   "metadata": {},
   "source": [
    "### Generate Predictions"
   ]
  },
  {
   "cell_type": "markdown",
   "metadata": {},
   "source": [
    "**Create a Test Set:**"
   ]
  },
  {
   "cell_type": "code",
   "execution_count": 16,
   "metadata": {
    "collapsed": true
   },
   "outputs": [],
   "source": [
    "# take a sample of the available data and generate predictions\n",
    "test_ratings_df = ratings_df.select('user_id', 'movie_id').sample(fraction=0.01, seed=rnd_seed).limit(5)"
   ]
  },
  {
   "cell_type": "code",
   "execution_count": 17,
   "metadata": {},
   "outputs": [
    {
     "name": "stdout",
     "output_type": "stream",
     "text": [
      "+-------+--------+\n",
      "|user_id|movie_id|\n",
      "+-------+--------+\n",
      "|    115|     265|\n",
      "|     90|     382|\n",
      "|     90|     648|\n",
      "|    184|     187|\n",
      "|    307|     174|\n",
      "+-------+--------+\n",
      "\n"
     ]
    }
   ],
   "source": [
    "test_ratings_df.show()"
   ]
  },
  {
   "cell_type": "code",
   "execution_count": 18,
   "metadata": {},
   "outputs": [],
   "source": [
    "movie_rating_preds = model.transform(test_ratings_df)"
   ]
  },
  {
   "cell_type": "code",
   "execution_count": 19,
   "metadata": {
    "scrolled": true
   },
   "outputs": [
    {
     "name": "stdout",
     "output_type": "stream",
     "text": [
      "+-------+--------+----------+------+\n",
      "|user_id|movie_id|prediction|rating|\n",
      "+-------+--------+----------+------+\n",
      "|     90|     648|  4.927757|     4|\n",
      "|     90|     382| 4.3809342|     5|\n",
      "|    115|     265| 3.3165402|     2|\n",
      "|    307|     174| 4.1435966|     4|\n",
      "|    184|     187|  3.857808|     4|\n",
      "+-------+--------+----------+------+\n",
      "\n"
     ]
    }
   ],
   "source": [
    "(movie_rating_preds\n",
    " .join(ratings_df, on=['user_id', 'movie_id'], how='inner').show())"
   ]
  },
  {
   "cell_type": "markdown",
   "metadata": {},
   "source": [
    "### Top 3 Movie Recommendations for All Users"
   ]
  },
  {
   "cell_type": "code",
   "execution_count": 20,
   "metadata": {
    "collapsed": true
   },
   "outputs": [],
   "source": [
    "# top 3 movies recommended for each user, for all users.\n",
    "user_recs = model.recommendForAllUsers(3)"
   ]
  },
  {
   "cell_type": "code",
   "execution_count": 21,
   "metadata": {},
   "outputs": [
    {
     "name": "stdout",
     "output_type": "stream",
     "text": [
      "+-------+--------------------------------------------------------+\n",
      "|user_id|recommendations                                         |\n",
      "+-------+--------------------------------------------------------+\n",
      "|471    |[[1286, 12.138259], [1157, 9.89244], [909, 9.815423]]   |\n",
      "|463    |[[1159, 7.4255023], [1473, 6.0584435], [1269, 5.988885]]|\n",
      "|833    |[[1368, 6.954572], [1205, 6.66879], [390, 6.251658]]    |\n",
      "|496    |[[1288, 10.510149], [1120, 9.43979], [267, 8.924306]]   |\n",
      "|148    |[[1314, 11.984594], [700, 11.881374], [1615, 11.267052]]|\n",
      "|540    |[[1643, 5.667913], [1449, 5.588215], [1463, 5.3312726]] |\n",
      "|392    |[[1121, 6.8301516], [1367, 6.3946433], [1643, 6.308919]]|\n",
      "|243    |[[1643, 5.6771665], [1512, 5.649006], [1131, 5.055449]] |\n",
      "|623    |[[1120, 6.458686], [574, 6.229914], [1286, 6.126714]]   |\n",
      "|737    |[[695, 8.843273], [1005, 7.6665554], [516, 7.2666683]]  |\n",
      "|897    |[[914, 7.284672], [624, 6.965919], [1446, 6.859709]]    |\n",
      "|858    |[[1643, 7.6432023], [1438, 7.2011805], [1242, 7.116013]]|\n",
      "|31     |[[793, 8.998359], [1368, 8.382692], [390, 8.193753]]    |\n",
      "|516    |[[718, 8.554041], [1344, 8.251155], [1141, 7.9194183]]  |\n",
      "|580    |[[1022, 7.686644], [700, 7.0201473], [1314, 7.004835]]  |\n",
      "|251    |[[1643, 6.3749685], [1473, 5.687131], [1449, 5.6624928]]|\n",
      "|451    |[[1297, 8.263042], [752, 7.240096], [669, 7.1507134]]   |\n",
      "|85     |[[1463, 5.1482697], [718, 5.066502], [1643, 4.9139524]] |\n",
      "|137    |[[267, 8.923164], [1218, 8.245642], [1164, 7.392915]]   |\n",
      "|808    |[[1022, 10.387688], [1160, 10.133135], [793, 9.084827]] |\n",
      "+-------+--------------------------------------------------------+\n",
      "only showing top 20 rows\n",
      "\n"
     ]
    }
   ],
   "source": [
    "user_recs.show(truncate=False)"
   ]
  },
  {
   "cell_type": "markdown",
   "metadata": {},
   "source": [
    "**Reshape the movie_id and rating arrays into columns for an user:**"
   ]
  },
  {
   "cell_type": "code",
   "execution_count": 22,
   "metadata": {},
   "outputs": [
    {
     "data": {
      "text/plain": [
       "[Row(user_id=1, movie_id=[1434, 793, 1286], rating=[6.207646369934082, 6.116008758544922, 6.007221698760986])]"
      ]
     },
     "execution_count": 22,
     "metadata": {},
     "output_type": "execute_result"
    }
   ],
   "source": [
    "user_recs.where(user_recs.user_id == 1).select(\"user_id\", \"recommendations.movie_id\", \"recommendations.rating\").collect()"
   ]
  },
  {
   "cell_type": "code",
   "execution_count": 23,
   "metadata": {},
   "outputs": [
    {
     "name": "stdout",
     "output_type": "stream",
     "text": [
      "+-------+-----------------+---------------------------------+\n",
      "|user_id|movie_id         |rating                           |\n",
      "+-------+-----------------+---------------------------------+\n",
      "|1      |[1434, 793, 1286]|[6.2076464, 6.1160088, 6.0072217]|\n",
      "+-------+-----------------+---------------------------------+\n",
      "\n"
     ]
    }
   ],
   "source": [
    "user_recs.where(user_recs.user_id == 1).select(\"user_id\", \"recommendations.movie_id\", \"recommendations.rating\").show(truncate=False)"
   ]
  },
  {
   "cell_type": "code",
   "execution_count": 24,
   "metadata": {
    "collapsed": true
   },
   "outputs": [],
   "source": [
    "user_recs_one = user_recs.where(user_recs.user_id == 1)"
   ]
  },
  {
   "cell_type": "code",
   "execution_count": 25,
   "metadata": {},
   "outputs": [
    {
     "name": "stdout",
     "output_type": "stream",
     "text": [
      "+-------+--------------------------------------------------------+\n",
      "|user_id|recommendations                                         |\n",
      "+-------+--------------------------------------------------------+\n",
      "|1      |[[1434, 6.2076464], [793, 6.1160088], [1286, 6.0072217]]|\n",
      "+-------+--------------------------------------------------------+\n",
      "\n"
     ]
    }
   ],
   "source": [
    "user_recs_one.show(truncate=False)"
   ]
  },
  {
   "cell_type": "code",
   "execution_count": 26,
   "metadata": {},
   "outputs": [
    {
     "data": {
      "text/plain": [
       "[('user_id', 'int'),\n",
       " ('recommendations', 'array<struct<movie_id:int,rating:float>>')]"
      ]
     },
     "execution_count": 26,
     "metadata": {},
     "output_type": "execute_result"
    }
   ],
   "source": [
    "user_recs_one.dtypes"
   ]
  },
  {
   "cell_type": "code",
   "execution_count": 27,
   "metadata": {},
   "outputs": [
    {
     "name": "stdout",
     "output_type": "stream",
     "text": [
      "+-------+--------+\n",
      "|user_id|movie_id|\n",
      "+-------+--------+\n",
      "|      1|    1434|\n",
      "|      1|     793|\n",
      "|      1|    1286|\n",
      "+-------+--------+\n",
      "\n"
     ]
    }
   ],
   "source": [
    "x = user_recs_one.select(\"user_id\", F.explode(col(\"recommendations.movie_id\")).alias(\"movie_id\"))\n",
    "x.show()"
   ]
  },
  {
   "cell_type": "code",
   "execution_count": 28,
   "metadata": {},
   "outputs": [
    {
     "name": "stdout",
     "output_type": "stream",
     "text": [
      "+-------+---------+\n",
      "|user_id|   rating|\n",
      "+-------+---------+\n",
      "|      1|6.2076464|\n",
      "|      1|6.1160088|\n",
      "|      1|6.0072217|\n",
      "+-------+---------+\n",
      "\n"
     ]
    }
   ],
   "source": [
    "y = user_recs_one.select(\"user_id\", F.explode(col(\"recommendations.rating\")).alias(\"rating\"))\n",
    "y.show()"
   ]
  },
  {
   "cell_type": "code",
   "execution_count": 29,
   "metadata": {},
   "outputs": [
    {
     "name": "stdout",
     "output_type": "stream",
     "text": [
      "+-------+--------+---------+\n",
      "|user_id|movie_id|   rating|\n",
      "+-------+--------+---------+\n",
      "|      1|    1434|6.2076464|\n",
      "|      1|    1434|6.1160088|\n",
      "|      1|    1434|6.0072217|\n",
      "|      1|     793|6.2076464|\n",
      "|      1|     793|6.1160088|\n",
      "|      1|     793|6.0072217|\n",
      "|      1|    1286|6.2076464|\n",
      "|      1|    1286|6.1160088|\n",
      "|      1|    1286|6.0072217|\n",
      "+-------+--------+---------+\n",
      "\n"
     ]
    }
   ],
   "source": [
    "x.join(y, on=['user_id'], how='inner').show()"
   ]
  },
  {
   "cell_type": "markdown",
   "metadata": {},
   "source": [
    "### Movie Recommendations for a Particular User"
   ]
  },
  {
   "cell_type": "markdown",
   "metadata": {},
   "source": [
    "**Filter out the user we are interested from the set of all predictions:**"
   ]
  },
  {
   "cell_type": "code",
   "execution_count": 30,
   "metadata": {},
   "outputs": [
    {
     "name": "stdout",
     "output_type": "stream",
     "text": [
      "+-------+---------------------------------------------------------+\n",
      "|user_id|recommendations                                          |\n",
      "+-------+---------------------------------------------------------+\n",
      "|2      |[[1286, 6.4112782], [1473, 6.2863865], [1126, 6.1219964]]|\n",
      "+-------+---------------------------------------------------------+\n",
      "\n"
     ]
    }
   ],
   "source": [
    "user_recs.where(user_recs.user_id == 2).show(truncate=False)"
   ]
  },
  {
   "cell_type": "markdown",
   "metadata": {},
   "source": [
    "**Create a subset user dataframe and invoke `recommendForUserSubset` on the model:**"
   ]
  },
  {
   "cell_type": "code",
   "execution_count": 31,
   "metadata": {
    "collapsed": true
   },
   "outputs": [],
   "source": [
    "user_subset = ratings_df.where(ratings_df.user_id == 2)"
   ]
  },
  {
   "cell_type": "code",
   "execution_count": 32,
   "metadata": {
    "collapsed": true
   },
   "outputs": [],
   "source": [
    "user_subset_recs = model.recommendForUserSubset(user_subset, 3)"
   ]
  },
  {
   "cell_type": "code",
   "execution_count": 33,
   "metadata": {
    "scrolled": true
   },
   "outputs": [
    {
     "name": "stdout",
     "output_type": "stream",
     "text": [
      "+------------------+---------------------------------+\n",
      "|movie_id          |rating                           |\n",
      "+------------------+---------------------------------+\n",
      "|[1286, 1473, 1126]|[6.4112782, 6.2863865, 6.1219964]|\n",
      "+------------------+---------------------------------+\n",
      "\n"
     ]
    }
   ],
   "source": [
    "user_subset_recs.select(\"recommendations.movie_id\", \"recommendations.rating\").show(truncate=False)"
   ]
  },
  {
   "cell_type": "markdown",
   "metadata": {},
   "source": [
    "### Top 3 User Recommendations for All Movies"
   ]
  },
  {
   "cell_type": "code",
   "execution_count": 34,
   "metadata": {
    "collapsed": true
   },
   "outputs": [],
   "source": [
    "# top 3 users recommended for each movie, for all movies.\n",
    "movie_recs = model.recommendForAllItems(3)"
   ]
  },
  {
   "cell_type": "code",
   "execution_count": 35,
   "metadata": {
    "scrolled": false
   },
   "outputs": [
    {
     "name": "stdout",
     "output_type": "stream",
     "text": [
      "+--------+------------------------------------------------------+\n",
      "|movie_id|recommendations                                       |\n",
      "+--------+------------------------------------------------------+\n",
      "|1580    |[[36, 1.3616927], [38, 1.182214], [562, 1.1041416]]   |\n",
      "|471     |[[688, 5.694274], [849, 5.287952], [810, 5.163946]]   |\n",
      "|1591    |[[310, 7.459932], [651, 7.0653586], [148, 6.6757364]] |\n",
      "|1342    |[[820, 5.078589], [153, 4.873718], [461, 4.4691515]]  |\n",
      "|463     |[[219, 7.262149], [98, 6.8233185], [809, 6.5238543]]  |\n",
      "|833     |[[9, 6.6418223], [261, 6.598943], [124, 6.5040503]]   |\n",
      "|1645    |[[809, 6.4994106], [98, 6.410225], [366, 6.3061366]]  |\n",
      "|496     |[[809, 8.542983], [36, 7.5537395], [61, 6.986885]]    |\n",
      "|148     |[[688, 5.9158826], [507, 5.723487], [850, 5.718377]]  |\n",
      "|1088    |[[366, 9.839123], [153, 9.565502], [228, 8.943895]]   |\n",
      "|1238    |[[148, 6.5439024], [258, 6.339524], [443, 6.311713]]  |\n",
      "|540     |[[212, 5.9102707], [258, 5.144593], [726, 5.0746555]] |\n",
      "|1460    |[[818, 4.6266603], [36, 4.5576744], [928, 4.3546405]] |\n",
      "|392     |[[36, 6.9748163], [212, 6.4276624], [153, 6.2699227]] |\n",
      "|1522    |[[219, 5.9533005], [739, 5.9115167], [408, 5.2031527]]|\n",
      "|243     |[[127, 5.1484227], [93, 4.9371977], [212, 4.59266]]   |\n",
      "|623     |[[212, 6.233286], [258, 5.3978233], [850, 5.2183204]] |\n",
      "|1483    |[[462, 10.098611], [614, 9.544228], [575, 9.525733]]  |\n",
      "|1084    |[[219, 8.994257], [93, 8.328121], [202, 7.2800198]]   |\n",
      "|1025    |[[93, 7.7872314], [202, 7.726686], [148, 7.3877034]]  |\n",
      "+--------+------------------------------------------------------+\n",
      "only showing top 20 rows\n",
      "\n"
     ]
    }
   ],
   "source": [
    "movie_recs.show(truncate=False)"
   ]
  },
  {
   "cell_type": "markdown",
   "metadata": {},
   "source": [
    "### Top 3 User Recommendations for a Particular Movie"
   ]
  },
  {
   "cell_type": "markdown",
   "metadata": {},
   "source": [
    "**Filter out the movie we are interested from the set of all predictions:**"
   ]
  },
  {
   "cell_type": "code",
   "execution_count": 36,
   "metadata": {
    "scrolled": false
   },
   "outputs": [
    {
     "data": {
      "text/plain": [
       "[Row(user_id=[366, 153, 261], rating=[9.04776668548584, 8.196542739868164, 7.674849033355713])]"
      ]
     },
     "execution_count": 36,
     "metadata": {},
     "output_type": "execute_result"
    }
   ],
   "source": [
    "movie_recs.where(movie_recs.movie_id == 36).select(\"recommendations.user_id\", \"recommendations.rating\").collect()"
   ]
  },
  {
   "cell_type": "markdown",
   "metadata": {},
   "source": [
    "**Create a subset movie dataframe and invoke `recommendForItemSubset` on the model:**"
   ]
  },
  {
   "cell_type": "code",
   "execution_count": 37,
   "metadata": {
    "collapsed": true
   },
   "outputs": [],
   "source": [
    "movie_subset = ratings_df.where(ratings_df.movie_id == 36)"
   ]
  },
  {
   "cell_type": "code",
   "execution_count": 38,
   "metadata": {
    "collapsed": true
   },
   "outputs": [],
   "source": [
    "movie_subset_recs = model.recommendForItemSubset(movie_subset, 3)"
   ]
  },
  {
   "cell_type": "code",
   "execution_count": 39,
   "metadata": {},
   "outputs": [
    {
     "name": "stdout",
     "output_type": "stream",
     "text": [
      "+---------------+------------------------------+\n",
      "|user_id        |rating                        |\n",
      "+---------------+------------------------------+\n",
      "|[366, 153, 261]|[9.047767, 8.196543, 7.674849]|\n",
      "+---------------+------------------------------+\n",
      "\n"
     ]
    }
   ],
   "source": [
    "movie_subset_recs.select(\"recommendations.user_id\", \"recommendations.rating\").show(truncate=False)"
   ]
  },
  {
   "cell_type": "markdown",
   "metadata": {},
   "source": [
    "## Evaluate the Predictions"
   ]
  },
  {
   "cell_type": "code",
   "execution_count": 40,
   "metadata": {
    "collapsed": true
   },
   "outputs": [],
   "source": [
    "ratings_and_preds = movie_rating_preds.join(ratings_df, on=['user_id', 'movie_id'], how='inner').cache()"
   ]
  },
  {
   "cell_type": "code",
   "execution_count": 41,
   "metadata": {},
   "outputs": [
    {
     "name": "stdout",
     "output_type": "stream",
     "text": [
      "+-------+--------+----------+------+\n",
      "|user_id|movie_id|prediction|rating|\n",
      "+-------+--------+----------+------+\n",
      "|     90|     648|  4.927757|     4|\n",
      "|     90|     382| 4.3809342|     5|\n",
      "|    115|     265| 3.3165402|     2|\n",
      "|    307|     174| 4.1435966|     4|\n",
      "|    184|     187|  3.857808|     4|\n",
      "+-------+--------+----------+------+\n",
      "\n"
     ]
    }
   ],
   "source": [
    "ratings_and_preds.show(5)"
   ]
  },
  {
   "cell_type": "code",
   "execution_count": 42,
   "metadata": {
    "collapsed": true
   },
   "outputs": [],
   "source": [
    "MSE = ratings_and_preds.select(F.avg(F.pow((col('rating') - col('prediction')), 2)).alias('mse')).first().mse"
   ]
  },
  {
   "cell_type": "code",
   "execution_count": 43,
   "metadata": {},
   "outputs": [
    {
     "name": "stdout",
     "output_type": "stream",
     "text": [
      "Mean Squared Error = 0.6036183617834012\n"
     ]
    }
   ],
   "source": [
    "print(\"Mean Squared Error = \" + str(MSE))"
   ]
  },
  {
   "cell_type": "code",
   "execution_count": 44,
   "metadata": {},
   "outputs": [],
   "source": [
    "user_movie_rating_preds = model.transform(ratings_df.filter((ratings_df.user_id == 789) & (ratings_df.movie_id == 123)))"
   ]
  },
  {
   "cell_type": "code",
   "execution_count": 45,
   "metadata": {},
   "outputs": [
    {
     "name": "stdout",
     "output_type": "stream",
     "text": [
      "+-------+--------+------+\n",
      "|user_id|movie_id|rating|\n",
      "+-------+--------+------+\n",
      "+-------+--------+------+\n",
      "\n"
     ]
    }
   ],
   "source": [
    "ratings_df.filter((ratings_df.user_id == 789) & (ratings_df.movie_id == 123)).show()"
   ]
  },
  {
   "cell_type": "code",
   "execution_count": 46,
   "metadata": {},
   "outputs": [
    {
     "name": "stdout",
     "output_type": "stream",
     "text": [
      "+-------+--------+------+----------+\n",
      "|user_id|movie_id|rating|prediction|\n",
      "+-------+--------+------+----------+\n",
      "+-------+--------+------+----------+\n",
      "\n"
     ]
    }
   ],
   "source": [
    "user_movie_rating_preds.show()"
   ]
  },
  {
   "cell_type": "code",
   "execution_count": 47,
   "metadata": {
    "collapsed": true
   },
   "outputs": [],
   "source": [
    "ratings_df.createOrReplaceTempView('movie_ratings')"
   ]
  },
  {
   "cell_type": "code",
   "execution_count": 48,
   "metadata": {
    "collapsed": true
   },
   "outputs": [],
   "source": [
    "import re\n",
    "\n",
    "def strip_margin(text):\n",
    "    nomargin = re.sub('\\n[ \\t]*\\|', ' ', text)\n",
    "    trimmed = re.sub('\\s+', ' ', nomargin)\n",
    "    return trimmed"
   ]
  },
  {
   "cell_type": "code",
   "execution_count": 49,
   "metadata": {},
   "outputs": [
    {
     "name": "stdout",
     "output_type": "stream",
     "text": [
      "+-------+--------+------+\n",
      "|user_id|movie_id|rating|\n",
      "+-------+--------+------+\n",
      "|    789|       9|     5|\n",
      "|    789|      50|     5|\n",
      "|    789|     100|     5|\n",
      "|    789|     127|     5|\n",
      "|    789|     129|     5|\n",
      "|    789|     150|     5|\n",
      "|    789|     276|     5|\n",
      "|    789|     475|     5|\n",
      "|    789|     741|     5|\n",
      "|    789|      93|     4|\n",
      "+-------+--------+------+\n",
      "\n"
     ]
    }
   ],
   "source": [
    "# Top 5 longest departure delays using SQL\n",
    "spark.sql(strip_margin(\n",
    "                    \"\"\"SELECT user_id, movie_id, rating\n",
    "                      |FROM movie_ratings\n",
    "                      |WHERE user_id = 789\n",
    "                      |ORDER BY rating DESC, movie_id LIMIT 10\n",
    "                    \"\"\")).show()"
   ]
  },
  {
   "cell_type": "code",
   "execution_count": 50,
   "metadata": {},
   "outputs": [
    {
     "name": "stdout",
     "output_type": "stream",
     "text": [
      "+-------+--------+------+\n",
      "|user_id|movie_id|rating|\n",
      "+-------+--------+------+\n",
      "|    789|       9|     5|\n",
      "|    789|      50|     5|\n",
      "|    789|     100|     5|\n",
      "|    789|     127|     5|\n",
      "|    789|     129|     5|\n",
      "|    789|     150|     5|\n",
      "|    789|     276|     5|\n",
      "|    789|     475|     5|\n",
      "|    789|     741|     5|\n",
      "|    789|      93|     4|\n",
      "+-------+--------+------+\n",
      "\n"
     ]
    }
   ],
   "source": [
    "ratings_df.filter(col('user_id') == 789).orderBy(['rating', 'movie_id'], ascending=[0, 1]).limit(10).show()"
   ]
  },
  {
   "cell_type": "markdown",
   "metadata": {},
   "source": [
    "#### Loading the movie data set"
   ]
  },
  {
   "cell_type": "code",
   "execution_count": 51,
   "metadata": {
    "collapsed": true
   },
   "outputs": [],
   "source": [
    "movies_schema = StructType([\n",
    "    StructField(\"movie_id\", IntegerType(), nullable=True),\n",
    "    StructField(\"title\", StringType(), nullable=True),\n",
    "    StructField(\"release_date\", StringType(), nullable=False),\n",
    "    StructField(\"video_release_date\", StringType(), nullable=False),\n",
    "    StructField(\"imdb_url\", StringType(), nullable=False),\n",
    "    StructField(\"unknown\", IntegerType(), nullable=False),\n",
    "    StructField(\"action\", IntegerType(), nullable=False),\n",
    "    StructField(\"adventure\", IntegerType(), nullable=False),\n",
    "    StructField(\"animation\", IntegerType(), nullable=False),\n",
    "    StructField(\"childrens\", IntegerType(), nullable=False),\n",
    "    StructField(\"comedy\", IntegerType(), nullable=False),\n",
    "    StructField(\"crime\", IntegerType(), nullable=False),\n",
    "    StructField(\"documentary\", IntegerType(), nullable=False),\n",
    "    StructField(\"drama\", IntegerType(), nullable=False),\n",
    "    StructField(\"fantasy\", IntegerType(), nullable=False),\n",
    "    StructField(\"film-noir\", IntegerType(), nullable=False),\n",
    "    StructField(\"horror\", IntegerType(), nullable=False),\n",
    "    StructField(\"musical\", IntegerType(), nullable=False),\n",
    "    StructField(\"mystery\", IntegerType(), nullable=False),\n",
    "    StructField(\"romance\", IntegerType(), nullable=False),\n",
    "    StructField(\"sci-fi\", IntegerType(), nullable=False),\n",
    "    StructField(\"thriller\", IntegerType(), nullable=False),\n",
    "    StructField(\"war\", IntegerType(), nullable=False),\n",
    "    StructField(\"western\", IntegerType(), nullable=False)]\n",
    "  )"
   ]
  },
  {
   "cell_type": "code",
   "execution_count": 52,
   "metadata": {},
   "outputs": [],
   "source": [
    "movies_df = spark.read.csv(\"data/ml-100k/u.item\", sep=\"|\", schema=movies_schema).cache()"
   ]
  },
  {
   "cell_type": "code",
   "execution_count": 53,
   "metadata": {
    "scrolled": false
   },
   "outputs": [
    {
     "data": {
      "text/html": [
       "<div>\n",
       "<style>\n",
       "    .dataframe thead tr:only-child th {\n",
       "        text-align: right;\n",
       "    }\n",
       "\n",
       "    .dataframe thead th {\n",
       "        text-align: left;\n",
       "    }\n",
       "\n",
       "    .dataframe tbody tr th {\n",
       "        vertical-align: top;\n",
       "    }\n",
       "</style>\n",
       "<table border=\"1\" class=\"dataframe\">\n",
       "  <thead>\n",
       "    <tr style=\"text-align: right;\">\n",
       "      <th></th>\n",
       "      <th>movie_id</th>\n",
       "      <th>title</th>\n",
       "      <th>release_date</th>\n",
       "      <th>video_release_date</th>\n",
       "      <th>imdb_url</th>\n",
       "      <th>unknown</th>\n",
       "      <th>action</th>\n",
       "      <th>adventure</th>\n",
       "      <th>animation</th>\n",
       "      <th>childrens</th>\n",
       "      <th>comedy</th>\n",
       "      <th>crime</th>\n",
       "      <th>documentary</th>\n",
       "      <th>drama</th>\n",
       "      <th>fantasy</th>\n",
       "      <th>film-noir</th>\n",
       "      <th>horror</th>\n",
       "      <th>musical</th>\n",
       "      <th>mystery</th>\n",
       "      <th>romance</th>\n",
       "      <th>sci-fi</th>\n",
       "      <th>thriller</th>\n",
       "      <th>war</th>\n",
       "      <th>western</th>\n",
       "    </tr>\n",
       "  </thead>\n",
       "  <tbody>\n",
       "    <tr>\n",
       "      <th>0</th>\n",
       "      <td>1</td>\n",
       "      <td>Toy Story (1995)</td>\n",
       "      <td>01-Jan-1995</td>\n",
       "      <td>None</td>\n",
       "      <td>http://us.imdb.com/M/title-exact?Toy%20Story%20(1995)</td>\n",
       "      <td>0</td>\n",
       "      <td>0</td>\n",
       "      <td>0</td>\n",
       "      <td>1</td>\n",
       "      <td>1</td>\n",
       "      <td>1</td>\n",
       "      <td>0</td>\n",
       "      <td>0</td>\n",
       "      <td>0</td>\n",
       "      <td>0</td>\n",
       "      <td>0</td>\n",
       "      <td>0</td>\n",
       "      <td>0</td>\n",
       "      <td>0</td>\n",
       "      <td>0</td>\n",
       "      <td>0</td>\n",
       "      <td>0</td>\n",
       "      <td>0</td>\n",
       "      <td>0</td>\n",
       "    </tr>\n",
       "    <tr>\n",
       "      <th>1</th>\n",
       "      <td>2</td>\n",
       "      <td>GoldenEye (1995)</td>\n",
       "      <td>01-Jan-1995</td>\n",
       "      <td>None</td>\n",
       "      <td>http://us.imdb.com/M/title-exact?GoldenEye%20(1995)</td>\n",
       "      <td>0</td>\n",
       "      <td>1</td>\n",
       "      <td>1</td>\n",
       "      <td>0</td>\n",
       "      <td>0</td>\n",
       "      <td>0</td>\n",
       "      <td>0</td>\n",
       "      <td>0</td>\n",
       "      <td>0</td>\n",
       "      <td>0</td>\n",
       "      <td>0</td>\n",
       "      <td>0</td>\n",
       "      <td>0</td>\n",
       "      <td>0</td>\n",
       "      <td>0</td>\n",
       "      <td>0</td>\n",
       "      <td>1</td>\n",
       "      <td>0</td>\n",
       "      <td>0</td>\n",
       "    </tr>\n",
       "    <tr>\n",
       "      <th>2</th>\n",
       "      <td>3</td>\n",
       "      <td>Four Rooms (1995)</td>\n",
       "      <td>01-Jan-1995</td>\n",
       "      <td>None</td>\n",
       "      <td>http://us.imdb.com/M/title-exact?Four%20Rooms%20(1995)</td>\n",
       "      <td>0</td>\n",
       "      <td>0</td>\n",
       "      <td>0</td>\n",
       "      <td>0</td>\n",
       "      <td>0</td>\n",
       "      <td>0</td>\n",
       "      <td>0</td>\n",
       "      <td>0</td>\n",
       "      <td>0</td>\n",
       "      <td>0</td>\n",
       "      <td>0</td>\n",
       "      <td>0</td>\n",
       "      <td>0</td>\n",
       "      <td>0</td>\n",
       "      <td>0</td>\n",
       "      <td>0</td>\n",
       "      <td>1</td>\n",
       "      <td>0</td>\n",
       "      <td>0</td>\n",
       "    </tr>\n",
       "    <tr>\n",
       "      <th>3</th>\n",
       "      <td>4</td>\n",
       "      <td>Get Shorty (1995)</td>\n",
       "      <td>01-Jan-1995</td>\n",
       "      <td>None</td>\n",
       "      <td>http://us.imdb.com/M/title-exact?Get%20Shorty%20(1995)</td>\n",
       "      <td>0</td>\n",
       "      <td>1</td>\n",
       "      <td>0</td>\n",
       "      <td>0</td>\n",
       "      <td>0</td>\n",
       "      <td>1</td>\n",
       "      <td>0</td>\n",
       "      <td>0</td>\n",
       "      <td>1</td>\n",
       "      <td>0</td>\n",
       "      <td>0</td>\n",
       "      <td>0</td>\n",
       "      <td>0</td>\n",
       "      <td>0</td>\n",
       "      <td>0</td>\n",
       "      <td>0</td>\n",
       "      <td>0</td>\n",
       "      <td>0</td>\n",
       "      <td>0</td>\n",
       "    </tr>\n",
       "    <tr>\n",
       "      <th>4</th>\n",
       "      <td>5</td>\n",
       "      <td>Copycat (1995)</td>\n",
       "      <td>01-Jan-1995</td>\n",
       "      <td>None</td>\n",
       "      <td>http://us.imdb.com/M/title-exact?Copycat%20(1995)</td>\n",
       "      <td>0</td>\n",
       "      <td>0</td>\n",
       "      <td>0</td>\n",
       "      <td>0</td>\n",
       "      <td>0</td>\n",
       "      <td>0</td>\n",
       "      <td>1</td>\n",
       "      <td>0</td>\n",
       "      <td>1</td>\n",
       "      <td>0</td>\n",
       "      <td>0</td>\n",
       "      <td>0</td>\n",
       "      <td>0</td>\n",
       "      <td>0</td>\n",
       "      <td>0</td>\n",
       "      <td>0</td>\n",
       "      <td>1</td>\n",
       "      <td>0</td>\n",
       "      <td>0</td>\n",
       "    </tr>\n",
       "    <tr>\n",
       "      <th>5</th>\n",
       "      <td>6</td>\n",
       "      <td>Shanghai Triad (Yao a yao yao dao waipo qiao) (1995)</td>\n",
       "      <td>01-Jan-1995</td>\n",
       "      <td>None</td>\n",
       "      <td>http://us.imdb.com/Title?Yao+a+yao+yao+dao+waipo+qiao+(1995)</td>\n",
       "      <td>0</td>\n",
       "      <td>0</td>\n",
       "      <td>0</td>\n",
       "      <td>0</td>\n",
       "      <td>0</td>\n",
       "      <td>0</td>\n",
       "      <td>0</td>\n",
       "      <td>0</td>\n",
       "      <td>1</td>\n",
       "      <td>0</td>\n",
       "      <td>0</td>\n",
       "      <td>0</td>\n",
       "      <td>0</td>\n",
       "      <td>0</td>\n",
       "      <td>0</td>\n",
       "      <td>0</td>\n",
       "      <td>0</td>\n",
       "      <td>0</td>\n",
       "      <td>0</td>\n",
       "    </tr>\n",
       "    <tr>\n",
       "      <th>6</th>\n",
       "      <td>7</td>\n",
       "      <td>Twelve Monkeys (1995)</td>\n",
       "      <td>01-Jan-1995</td>\n",
       "      <td>None</td>\n",
       "      <td>http://us.imdb.com/M/title-exact?Twelve%20Monkeys%20(1995)</td>\n",
       "      <td>0</td>\n",
       "      <td>0</td>\n",
       "      <td>0</td>\n",
       "      <td>0</td>\n",
       "      <td>0</td>\n",
       "      <td>0</td>\n",
       "      <td>0</td>\n",
       "      <td>0</td>\n",
       "      <td>1</td>\n",
       "      <td>0</td>\n",
       "      <td>0</td>\n",
       "      <td>0</td>\n",
       "      <td>0</td>\n",
       "      <td>0</td>\n",
       "      <td>0</td>\n",
       "      <td>1</td>\n",
       "      <td>0</td>\n",
       "      <td>0</td>\n",
       "      <td>0</td>\n",
       "    </tr>\n",
       "    <tr>\n",
       "      <th>7</th>\n",
       "      <td>8</td>\n",
       "      <td>Babe (1995)</td>\n",
       "      <td>01-Jan-1995</td>\n",
       "      <td>None</td>\n",
       "      <td>http://us.imdb.com/M/title-exact?Babe%20(1995)</td>\n",
       "      <td>0</td>\n",
       "      <td>0</td>\n",
       "      <td>0</td>\n",
       "      <td>0</td>\n",
       "      <td>1</td>\n",
       "      <td>1</td>\n",
       "      <td>0</td>\n",
       "      <td>0</td>\n",
       "      <td>1</td>\n",
       "      <td>0</td>\n",
       "      <td>0</td>\n",
       "      <td>0</td>\n",
       "      <td>0</td>\n",
       "      <td>0</td>\n",
       "      <td>0</td>\n",
       "      <td>0</td>\n",
       "      <td>0</td>\n",
       "      <td>0</td>\n",
       "      <td>0</td>\n",
       "    </tr>\n",
       "    <tr>\n",
       "      <th>8</th>\n",
       "      <td>9</td>\n",
       "      <td>Dead Man Walking (1995)</td>\n",
       "      <td>01-Jan-1995</td>\n",
       "      <td>None</td>\n",
       "      <td>http://us.imdb.com/M/title-exact?Dead%20Man%20Walking%20(1995)</td>\n",
       "      <td>0</td>\n",
       "      <td>0</td>\n",
       "      <td>0</td>\n",
       "      <td>0</td>\n",
       "      <td>0</td>\n",
       "      <td>0</td>\n",
       "      <td>0</td>\n",
       "      <td>0</td>\n",
       "      <td>1</td>\n",
       "      <td>0</td>\n",
       "      <td>0</td>\n",
       "      <td>0</td>\n",
       "      <td>0</td>\n",
       "      <td>0</td>\n",
       "      <td>0</td>\n",
       "      <td>0</td>\n",
       "      <td>0</td>\n",
       "      <td>0</td>\n",
       "      <td>0</td>\n",
       "    </tr>\n",
       "    <tr>\n",
       "      <th>9</th>\n",
       "      <td>10</td>\n",
       "      <td>Richard III (1995)</td>\n",
       "      <td>22-Jan-1996</td>\n",
       "      <td>None</td>\n",
       "      <td>http://us.imdb.com/M/title-exact?Richard%20III%20(1995)</td>\n",
       "      <td>0</td>\n",
       "      <td>0</td>\n",
       "      <td>0</td>\n",
       "      <td>0</td>\n",
       "      <td>0</td>\n",
       "      <td>0</td>\n",
       "      <td>0</td>\n",
       "      <td>0</td>\n",
       "      <td>1</td>\n",
       "      <td>0</td>\n",
       "      <td>0</td>\n",
       "      <td>0</td>\n",
       "      <td>0</td>\n",
       "      <td>0</td>\n",
       "      <td>0</td>\n",
       "      <td>0</td>\n",
       "      <td>0</td>\n",
       "      <td>1</td>\n",
       "      <td>0</td>\n",
       "    </tr>\n",
       "  </tbody>\n",
       "</table>\n",
       "</div>"
      ],
      "text/plain": [
       "   movie_id                                                 title  \\\n",
       "0         1                                      Toy Story (1995)   \n",
       "1         2                                      GoldenEye (1995)   \n",
       "2         3                                     Four Rooms (1995)   \n",
       "3         4                                     Get Shorty (1995)   \n",
       "4         5                                        Copycat (1995)   \n",
       "5         6  Shanghai Triad (Yao a yao yao dao waipo qiao) (1995)   \n",
       "6         7                                 Twelve Monkeys (1995)   \n",
       "7         8                                           Babe (1995)   \n",
       "8         9                               Dead Man Walking (1995)   \n",
       "9        10                                    Richard III (1995)   \n",
       "\n",
       "  release_date video_release_date  \\\n",
       "0  01-Jan-1995               None   \n",
       "1  01-Jan-1995               None   \n",
       "2  01-Jan-1995               None   \n",
       "3  01-Jan-1995               None   \n",
       "4  01-Jan-1995               None   \n",
       "5  01-Jan-1995               None   \n",
       "6  01-Jan-1995               None   \n",
       "7  01-Jan-1995               None   \n",
       "8  01-Jan-1995               None   \n",
       "9  22-Jan-1996               None   \n",
       "\n",
       "                                                         imdb_url  unknown  \\\n",
       "0           http://us.imdb.com/M/title-exact?Toy%20Story%20(1995)        0   \n",
       "1             http://us.imdb.com/M/title-exact?GoldenEye%20(1995)        0   \n",
       "2          http://us.imdb.com/M/title-exact?Four%20Rooms%20(1995)        0   \n",
       "3          http://us.imdb.com/M/title-exact?Get%20Shorty%20(1995)        0   \n",
       "4               http://us.imdb.com/M/title-exact?Copycat%20(1995)        0   \n",
       "5    http://us.imdb.com/Title?Yao+a+yao+yao+dao+waipo+qiao+(1995)        0   \n",
       "6      http://us.imdb.com/M/title-exact?Twelve%20Monkeys%20(1995)        0   \n",
       "7                  http://us.imdb.com/M/title-exact?Babe%20(1995)        0   \n",
       "8  http://us.imdb.com/M/title-exact?Dead%20Man%20Walking%20(1995)        0   \n",
       "9         http://us.imdb.com/M/title-exact?Richard%20III%20(1995)        0   \n",
       "\n",
       "   action  adventure  animation  childrens  comedy  crime  documentary  drama  \\\n",
       "0       0          0          1          1       1      0            0      0   \n",
       "1       1          1          0          0       0      0            0      0   \n",
       "2       0          0          0          0       0      0            0      0   \n",
       "3       1          0          0          0       1      0            0      1   \n",
       "4       0          0          0          0       0      1            0      1   \n",
       "5       0          0          0          0       0      0            0      1   \n",
       "6       0          0          0          0       0      0            0      1   \n",
       "7       0          0          0          1       1      0            0      1   \n",
       "8       0          0          0          0       0      0            0      1   \n",
       "9       0          0          0          0       0      0            0      1   \n",
       "\n",
       "   fantasy  film-noir  horror  musical  mystery  romance  sci-fi  thriller  \\\n",
       "0        0          0       0        0        0        0       0         0   \n",
       "1        0          0       0        0        0        0       0         1   \n",
       "2        0          0       0        0        0        0       0         1   \n",
       "3        0          0       0        0        0        0       0         0   \n",
       "4        0          0       0        0        0        0       0         1   \n",
       "5        0          0       0        0        0        0       0         0   \n",
       "6        0          0       0        0        0        0       1         0   \n",
       "7        0          0       0        0        0        0       0         0   \n",
       "8        0          0       0        0        0        0       0         0   \n",
       "9        0          0       0        0        0        0       0         0   \n",
       "\n",
       "   war  western  \n",
       "0    0        0  \n",
       "1    0        0  \n",
       "2    0        0  \n",
       "3    0        0  \n",
       "4    0        0  \n",
       "5    0        0  \n",
       "6    0        0  \n",
       "7    0        0  \n",
       "8    0        0  \n",
       "9    1        0  "
      ]
     },
     "execution_count": 53,
     "metadata": {},
     "output_type": "execute_result"
    }
   ],
   "source": [
    "movies_df.limit(10).toPandas()"
   ]
  },
  {
   "cell_type": "code",
   "execution_count": 54,
   "metadata": {},
   "outputs": [],
   "source": [
    "spark.stop()"
   ]
  },
  {
   "cell_type": "code",
   "execution_count": null,
   "metadata": {
    "collapsed": true
   },
   "outputs": [],
   "source": []
  }
 ],
 "metadata": {
  "kernelspec": {
   "display_name": "Python 3",
   "language": "python",
   "name": "python3"
  },
  "language_info": {
   "codemirror_mode": {
    "name": "ipython",
    "version": 3
   },
   "file_extension": ".py",
   "mimetype": "text/x-python",
   "name": "python",
   "nbconvert_exporter": "python",
   "pygments_lexer": "ipython3",
   "version": "3.5.4"
  }
 },
 "nbformat": 4,
 "nbformat_minor": 1
}
