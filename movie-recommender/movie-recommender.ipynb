{
 "cells": [
  {
   "cell_type": "markdown",
   "metadata": {},
   "source": [
    "### Exploring the ALS algorithm with MovieLens DataSet"
   ]
  },
  {
   "cell_type": "code",
   "execution_count": 1,
   "metadata": {
    "collapsed": true
   },
   "outputs": [],
   "source": [
    "import os\n",
    "import pandas as pd\n",
    "import numpy as np\n",
    "\n",
    "from pyspark import SparkConf, SparkContext\n",
    "from pyspark.sql import SparkSession, SQLContext\n",
    "\n",
    "from pyspark.sql.types import *\n",
    "from pyspark.sql.functions import udf, col\n",
    "import pyspark.sql.functions as F\n",
    "\n",
    "from pyspark.ml.evaluation import RegressionEvaluator\n",
    "from pyspark.ml.recommendation import ALS #, Rating #, MatrixFactorizationModel"
   ]
  },
  {
   "cell_type": "code",
   "execution_count": 2,
   "metadata": {
    "collapsed": true
   },
   "outputs": [],
   "source": [
    "# Visualization\n",
    "from IPython.core.interactiveshell import InteractiveShell\n",
    "InteractiveShell.ast_node_interactivity = \"all\"\n",
    "\n",
    "pd.set_option('display.max_columns', 200)\n",
    "pd.set_option('display.max_colwidth', 400)\n",
    "\n",
    "import matplotlib.pyplot as plt\n",
    "plt.rc('figure', figsize=(18, 4))\n",
    "\n",
    "import seaborn as sns\n",
    "sns.set(context='notebook', style='whitegrid', rc={'figure.figsize': (18,4)})\n",
    "\n",
    "np.set_printoptions(precision=4, suppress=True)\n",
    "\n",
    "%matplotlib inline\n",
    "%config InlineBackend.figure_format = 'retina'"
   ]
  },
  {
   "cell_type": "code",
   "execution_count": 3,
   "metadata": {
    "collapsed": true
   },
   "outputs": [],
   "source": [
    "# setting random seed for notebook reproducability\n",
    "rnd_seed=42\n",
    "np.random.seed=rnd_seed\n",
    "np.random.set_state=rnd_seed"
   ]
  },
  {
   "cell_type": "markdown",
   "metadata": {},
   "source": [
    "## 2. Creating the Spark Session"
   ]
  },
  {
   "cell_type": "code",
   "execution_count": 4,
   "metadata": {
    "collapsed": true
   },
   "outputs": [],
   "source": [
    "#os.environ['SPARK_HOME']"
   ]
  },
  {
   "cell_type": "code",
   "execution_count": 5,
   "metadata": {},
   "outputs": [
    {
     "data": {
      "text/html": [
       "\n",
       "            <div>\n",
       "                <p><b>SparkSession - in-memory</b></p>\n",
       "                \n",
       "        <div>\n",
       "            <p><b>SparkContext</b></p>\n",
       "\n",
       "            <p><a href=\"http://ip-172-30-5-82.ec2.internal:4040\">Spark UI</a></p>\n",
       "\n",
       "            <dl>\n",
       "              <dt>Version</dt>\n",
       "                <dd><code>v2.3.0</code></dd>\n",
       "              <dt>Master</dt>\n",
       "                <dd><code>local[2]</code></dd>\n",
       "              <dt>AppName</dt>\n",
       "                <dd><code>movie-recommender</code></dd>\n",
       "            </dl>\n",
       "        </div>\n",
       "        \n",
       "            </div>\n",
       "        "
      ],
      "text/plain": [
       "<pyspark.sql.session.SparkSession at 0x7efe166b7b38>"
      ]
     },
     "execution_count": 5,
     "metadata": {},
     "output_type": "execute_result"
    }
   ],
   "source": [
    "spark = SparkSession.builder.master(\"local[2]\").appName(\"movie-recommender\").getOrCreate()\n",
    "spark"
   ]
  },
  {
   "cell_type": "code",
   "execution_count": 6,
   "metadata": {},
   "outputs": [
    {
     "data": {
      "text/html": [
       "\n",
       "        <div>\n",
       "            <p><b>SparkContext</b></p>\n",
       "\n",
       "            <p><a href=\"http://ip-172-30-5-82.ec2.internal:4040\">Spark UI</a></p>\n",
       "\n",
       "            <dl>\n",
       "              <dt>Version</dt>\n",
       "                <dd><code>v2.3.0</code></dd>\n",
       "              <dt>Master</dt>\n",
       "                <dd><code>local[2]</code></dd>\n",
       "              <dt>AppName</dt>\n",
       "                <dd><code>movie-recommender</code></dd>\n",
       "            </dl>\n",
       "        </div>\n",
       "        "
      ],
      "text/plain": [
       "<SparkContext master=local[2] appName=movie-recommender>"
      ]
     },
     "execution_count": 6,
     "metadata": {},
     "output_type": "execute_result"
    }
   ],
   "source": [
    "sc = spark.sparkContext\n",
    "sc"
   ]
  },
  {
   "cell_type": "code",
   "execution_count": 7,
   "metadata": {},
   "outputs": [
    {
     "data": {
      "text/plain": [
       "<pyspark.sql.context.SQLContext at 0x7efe4408b208>"
      ]
     },
     "execution_count": 7,
     "metadata": {},
     "output_type": "execute_result"
    }
   ],
   "source": [
    "sqlContext = SQLContext(spark.sparkContext)\n",
    "sqlContext"
   ]
  },
  {
   "cell_type": "markdown",
   "metadata": {},
   "source": [
    "## 3. Load The Data From a File Into a Dataframe"
   ]
  },
  {
   "cell_type": "markdown",
   "metadata": {},
   "source": [
    "### Loading the Ratings Data Set"
   ]
  },
  {
   "cell_type": "code",
   "execution_count": 8,
   "metadata": {
    "collapsed": true
   },
   "outputs": [],
   "source": [
    "ratings_schema = StructType([\n",
    "    StructField(\"user_id\", ShortType(), nullable=False),\n",
    "    StructField(\"movie_id\", ShortType(), nullable=False),\n",
    "    StructField(\"rating\", ByteType(), nullable=False),\n",
    "    StructField(\"timestamp\", LongType(), nullable=False)]\n",
    "  )"
   ]
  },
  {
   "cell_type": "code",
   "execution_count": 9,
   "metadata": {},
   "outputs": [
    {
     "data": {
      "text/plain": [
       "Row(user_id=196, movie_id=242, rating=3)"
      ]
     },
     "execution_count": 9,
     "metadata": {},
     "output_type": "execute_result"
    }
   ],
   "source": [
    "# load the dats set\n",
    "ratings_df = spark.read.csv(\"data/ml-100k/u.data\", sep='\\t', schema=ratings_schema)\n",
    "ratings_df = ratings_df.drop('timestamp')\n",
    "ratings_df.first()"
   ]
  },
  {
   "cell_type": "code",
   "execution_count": 10,
   "metadata": {
    "scrolled": true
   },
   "outputs": [
    {
     "name": "stdout",
     "output_type": "stream",
     "text": [
      "+-------+--------+------+\n",
      "|user_id|movie_id|rating|\n",
      "+-------+--------+------+\n",
      "|    196|     242|     3|\n",
      "|    186|     302|     3|\n",
      "|     22|     377|     1|\n",
      "|    244|      51|     2|\n",
      "|    166|     346|     1|\n",
      "+-------+--------+------+\n",
      "only showing top 5 rows\n",
      "\n"
     ]
    }
   ],
   "source": [
    "ratings_df.show(5)"
   ]
  },
  {
   "cell_type": "markdown",
   "metadata": {},
   "source": [
    "## 4. Split the data set into training and test set"
   ]
  },
  {
   "cell_type": "code",
   "execution_count": 11,
   "metadata": {
    "collapsed": true
   },
   "outputs": [],
   "source": [
    "train_df, test_df = ratings_df.randomSplit([0.8, 0.2], seed=rnd_seed)"
   ]
  },
  {
   "cell_type": "code",
   "execution_count": 12,
   "metadata": {},
   "outputs": [
    {
     "data": {
      "text/plain": [
       "DataFrame[user_id: smallint, movie_id: smallint, rating: tinyint]"
      ]
     },
     "execution_count": 12,
     "metadata": {},
     "output_type": "execute_result"
    },
    {
     "data": {
      "text/plain": [
       "DataFrame[user_id: smallint, movie_id: smallint, rating: tinyint]"
      ]
     },
     "execution_count": 12,
     "metadata": {},
     "output_type": "execute_result"
    }
   ],
   "source": [
    "train_df.cache()\n",
    "test_df.cache()"
   ]
  },
  {
   "cell_type": "markdown",
   "metadata": {},
   "source": [
    "## 5. Build the ALS Model"
   ]
  },
  {
   "cell_type": "code",
   "execution_count": 13,
   "metadata": {
    "collapsed": true
   },
   "outputs": [],
   "source": [
    "# Build the recommendation model using ALS on the training data\n",
    "# Note we set cold start strategy to 'drop' to ensure we don't get NaN evaluation metrics\n",
    "als = ALS(rank=10, maxIter=10, regParam=0.01, userCol='user_id', itemCol='movie_id', ratingCol='rating', coldStartStrategy=\"drop\", seed=rnd_seed)"
   ]
  },
  {
   "cell_type": "code",
   "execution_count": 14,
   "metadata": {
    "collapsed": true
   },
   "outputs": [],
   "source": [
    "model = als.fit(train_df)"
   ]
  },
  {
   "cell_type": "markdown",
   "metadata": {},
   "source": [
    "**Latent Factors for the Users:**"
   ]
  },
  {
   "cell_type": "code",
   "execution_count": 15,
   "metadata": {
    "scrolled": false
   },
   "outputs": [
    {
     "name": "stdout",
     "output_type": "stream",
     "text": [
      "+---+----------------------------------------------------------------------------------------------------+\n",
      "| id|                                                                                            features|\n",
      "+---+----------------------------------------------------------------------------------------------------+\n",
      "| 10|[-0.39050436, -0.68759257, 0.42521605, -0.4053905, -0.2358239, 0.6315711, 0.5784358, 0.87188184, ...|\n",
      "| 20|[-0.2737031, -1.242235, 0.20510903, -0.7996875, 0.6034063, 0.48831555, -1.1382004, 1.0760351, -0....|\n",
      "| 30|[0.20306396, -1.1352254, 0.4857387, -0.40179467, -0.36963782, 0.13361134, 0.51082736, 1.236135, 0...|\n",
      "| 40|[-1.2356386, -0.907456, -0.32608572, -0.90455693, -0.3631856, -0.3337034, -0.42267585, 0.06201465...|\n",
      "| 50|[-0.320256, -0.95856935, 0.5764343, -0.5063094, 1.1949714, -0.26180014, 0.43938398, -1.1194192, 2...|\n",
      "| 60|[-0.41627225, -0.79917467, 0.1304494, -0.5075391, -0.22121532, 0.8499223, 0.35839885, 0.62732285,...|\n",
      "| 70|[-0.47078156, -0.60464656, 0.14861141, -0.48864052, -0.18451735, 0.8424236, 0.24764559, 0.8981976...|\n",
      "| 80|[-0.31546366, -0.5612901, -0.6502493, -2.0485518, -0.65399975, -0.319984, 1.1694609, 1.6456755, 0...|\n",
      "| 90|[-0.7229089, -1.1380723, 0.28675067, -0.14812133, 0.21964449, 0.98271054, 0.51683384, 0.47553298,...|\n",
      "|100|[-0.7599804, 0.08000901, -0.39739484, -0.53076494, 0.5037773, 0.9769241, 0.13250284, 1.0280875, 0...|\n",
      "+---+----------------------------------------------------------------------------------------------------+\n",
      "only showing top 10 rows\n",
      "\n"
     ]
    }
   ],
   "source": [
    "# How many latent factors for users\n",
    "model.userFactors.show(10, 100)"
   ]
  },
  {
   "cell_type": "code",
   "execution_count": 16,
   "metadata": {},
   "outputs": [
    {
     "data": {
      "text/plain": [
       "943"
      ]
     },
     "execution_count": 16,
     "metadata": {},
     "output_type": "execute_result"
    }
   ],
   "source": [
    "# How many users\n",
    "model.userFactors.count()"
   ]
  },
  {
   "cell_type": "markdown",
   "metadata": {},
   "source": [
    "**Latent Factors for the Movies:**"
   ]
  },
  {
   "cell_type": "code",
   "execution_count": 17,
   "metadata": {},
   "outputs": [
    {
     "name": "stdout",
     "output_type": "stream",
     "text": [
      "+---+----------------------------------------------------------------------------------------------------+\n",
      "| id|                                                                                            features|\n",
      "+---+----------------------------------------------------------------------------------------------------+\n",
      "| 10|[-0.6240372, -0.7733903, -0.14778545, -1.4894197, 0.14048776, 1.3905952, 1.3593376, 0.75925183, 0...|\n",
      "| 20|[0.06499194, -1.5283695, 0.8059704, -0.8520253, -1.043475, 2.0158541, 1.719008, -0.06771716, -0.1...|\n",
      "| 30|[-0.14091678, -1.5833839, -0.7239627, -0.6747181, -0.020277992, 0.59907234, 1.0775168, 1.4524177,...|\n",
      "| 40|[-0.9057549, -1.7316684, 0.6150692, 0.10144663, 0.6366782, 1.0053815, 0.684743, -0.15172155, 0.62...|\n",
      "| 50|[-1.318344, -0.89823127, 0.012314563, -0.37916046, -0.019412791, 1.2713493, -0.027276067, 1.08483...|\n",
      "| 60|[-0.7614841, -1.2726282, -0.9319344, -0.9241905, -0.2590239, 0.9237887, 2.05774, 0.62158406, 1.15...|\n",
      "| 70|[-0.34923142, -1.2910129, 0.41780415, -0.7513309, 0.005775694, 0.8228043, 0.1864437, 1.521853, 0....|\n",
      "| 80|[-1.0047419, -0.45705244, 0.5443163, -0.56672263, -0.24778256, 0.31732902, 0.46989354, 0.12347881...|\n",
      "| 90|[-0.38437897, -0.9615577, 0.061168924, -0.111472376, 0.643229, 0.007185947, 0.005298816, 0.022013...|\n",
      "|100|[-0.8711372, -1.0380524, -0.1266169, -0.14681953, -0.16429362, 1.0204111, 0.74986, 1.316932, 1.40...|\n",
      "+---+----------------------------------------------------------------------------------------------------+\n",
      "only showing top 10 rows\n",
      "\n"
     ]
    }
   ],
   "source": [
    "# How many latent factors for items\n",
    "model.itemFactors.show(10, 100)"
   ]
  },
  {
   "cell_type": "code",
   "execution_count": 18,
   "metadata": {},
   "outputs": [
    {
     "data": {
      "text/plain": [
       "1651"
      ]
     },
     "execution_count": 18,
     "metadata": {},
     "output_type": "execute_result"
    }
   ],
   "source": [
    "# How many Movies\n",
    "model.itemFactors.count()"
   ]
  },
  {
   "cell_type": "code",
   "execution_count": 19,
   "metadata": {},
   "outputs": [
    {
     "data": {
      "text/plain": [
       "10"
      ]
     },
     "execution_count": 19,
     "metadata": {},
     "output_type": "execute_result"
    }
   ],
   "source": [
    "# How may Latent Factors?\n",
    "model.rank"
   ]
  },
  {
   "cell_type": "markdown",
   "metadata": {},
   "source": [
    "## 6. Generate Predictions"
   ]
  },
  {
   "cell_type": "code",
   "execution_count": 20,
   "metadata": {},
   "outputs": [
    {
     "name": "stdout",
     "output_type": "stream",
     "text": [
      "+-------+--------+------+\n",
      "|user_id|movie_id|rating|\n",
      "+-------+--------+------+\n",
      "|      5|     194|     4|\n",
      "|      6|     284|     2|\n",
      "|      7|     168|     5|\n",
      "|     10|     447|     4|\n",
      "|     13|     757|     3|\n",
      "|     18|      91|     3|\n",
      "|     20|     288|     1|\n",
      "|     29|     748|     2|\n",
      "|     31|     504|     5|\n",
      "|     33|     323|     4|\n",
      "+-------+--------+------+\n",
      "\n"
     ]
    }
   ],
   "source": [
    "test_df.sample(fraction=0.01).limit(10).show(10)"
   ]
  },
  {
   "cell_type": "code",
   "execution_count": 21,
   "metadata": {
    "collapsed": true
   },
   "outputs": [],
   "source": [
    "movie_rating_preds = model.transform(test_df).cache()"
   ]
  },
  {
   "cell_type": "code",
   "execution_count": 22,
   "metadata": {},
   "outputs": [
    {
     "name": "stdout",
     "output_type": "stream",
     "text": [
      "+-------+--------+------+----------+\n",
      "|user_id|movie_id|rating|prediction|\n",
      "+-------+--------+------+----------+\n",
      "|    251|     148|     2| 2.4135408|\n",
      "|     26|     148|     3|   2.75505|\n",
      "|     27|     148|     3|  4.452523|\n",
      "|    606|     148|     3| 3.7467272|\n",
      "|    916|     148|     2| 2.2659419|\n",
      "|    190|     148|     4| 3.3019488|\n",
      "|    297|     148|     3|  2.685518|\n",
      "|     15|     148|     3| 3.2057416|\n",
      "|    269|     148|     1| 0.6581736|\n",
      "|    423|     148|     3| 2.8569834|\n",
      "+-------+--------+------+----------+\n",
      "only showing top 10 rows\n",
      "\n"
     ]
    }
   ],
   "source": [
    "movie_rating_preds.show(10)"
   ]
  },
  {
   "cell_type": "code",
   "execution_count": 23,
   "metadata": {
    "collapsed": true
   },
   "outputs": [],
   "source": [
    "movie_rating_preds = movie_rating_preds.withColumn(\"prediction_rounded\", F.rint('prediction'))"
   ]
  },
  {
   "cell_type": "code",
   "execution_count": 24,
   "metadata": {},
   "outputs": [
    {
     "name": "stdout",
     "output_type": "stream",
     "text": [
      "+-------+--------+------+----------+------------------+\n",
      "|user_id|movie_id|rating|prediction|prediction_rounded|\n",
      "+-------+--------+------+----------+------------------+\n",
      "|    251|     148|     2| 2.4135408|               2.0|\n",
      "|     26|     148|     3|   2.75505|               3.0|\n",
      "|     27|     148|     3|  4.452523|               4.0|\n",
      "|    606|     148|     3| 3.7467272|               4.0|\n",
      "|    916|     148|     2| 2.2659419|               2.0|\n",
      "|    190|     148|     4| 3.3019488|               3.0|\n",
      "|    297|     148|     3|  2.685518|               3.0|\n",
      "|     15|     148|     3| 3.2057416|               3.0|\n",
      "|    269|     148|     1| 0.6581736|               1.0|\n",
      "|    423|     148|     3| 2.8569834|               3.0|\n",
      "+-------+--------+------+----------+------------------+\n",
      "only showing top 10 rows\n",
      "\n"
     ]
    }
   ],
   "source": [
    "movie_rating_preds.show(10)"
   ]
  },
  {
   "cell_type": "markdown",
   "metadata": {},
   "source": [
    "### Evaluate the Predictions"
   ]
  },
  {
   "cell_type": "code",
   "execution_count": 25,
   "metadata": {
    "collapsed": true
   },
   "outputs": [],
   "source": [
    "evaluator = RegressionEvaluator(predictionCol='prediction', labelCol='rating', metricName='rmse')"
   ]
  },
  {
   "cell_type": "code",
   "execution_count": 26,
   "metadata": {
    "collapsed": true
   },
   "outputs": [],
   "source": [
    "RMSE = evaluator.evaluate(movie_rating_preds)"
   ]
  },
  {
   "cell_type": "code",
   "execution_count": 27,
   "metadata": {},
   "outputs": [
    {
     "data": {
      "text/plain": [
       "1.0741757524628464"
      ]
     },
     "execution_count": 27,
     "metadata": {},
     "output_type": "execute_result"
    }
   ],
   "source": [
    "RMSE"
   ]
  },
  {
   "cell_type": "code",
   "execution_count": 28,
   "metadata": {
    "scrolled": true
   },
   "outputs": [
    {
     "name": "stdout",
     "output_type": "stream",
     "text": [
      "Root Mean Squared Error = 1.0741757524628464\n"
     ]
    }
   ],
   "source": [
    "print(\"Root Mean Squared Error = {0}\".format(RMSE))"
   ]
  },
  {
   "cell_type": "code",
   "execution_count": 29,
   "metadata": {},
   "outputs": [
    {
     "data": {
      "text/plain": [
       "1.1077614249908798"
      ]
     },
     "execution_count": 29,
     "metadata": {},
     "output_type": "execute_result"
    }
   ],
   "source": [
    "# RMSE with rating rounded column\n",
    "RegressionEvaluator(predictionCol='prediction_rounded', labelCol='rating', metricName='rmse').evaluate(movie_rating_preds)"
   ]
  },
  {
   "cell_type": "markdown",
   "metadata": {},
   "source": [
    "### Top 3 Movie Recommendations for All Users"
   ]
  },
  {
   "cell_type": "code",
   "execution_count": 30,
   "metadata": {
    "collapsed": true
   },
   "outputs": [],
   "source": [
    "# top 3 movies recommended for each user\n",
    "user_recs = model.recommendForAllUsers(3)"
   ]
  },
  {
   "cell_type": "code",
   "execution_count": 31,
   "metadata": {},
   "outputs": [
    {
     "name": "stdout",
     "output_type": "stream",
     "text": [
      "+-------+---------------------------------------------------------+\n",
      "|user_id|recommendations                                          |\n",
      "+-------+---------------------------------------------------------+\n",
      "|471    |[[775, 15.412552], [1001, 14.694576], [1264, 11.060541]] |\n",
      "|463    |[[697, 6.775662], [543, 6.3009353], [601, 6.115304]]     |\n",
      "|833    |[[1005, 5.7406154], [896, 5.7370267], [1174, 5.6021786]] |\n",
      "|496    |[[1019, 8.455024], [1159, 8.205235], [1005, 8.202681]]   |\n",
      "|148    |[[1038, 13.820026], [974, 13.600708], [1315, 12.948069]] |\n",
      "|540    |[[1643, 5.618454], [1449, 5.286267], [1368, 5.2669053]]  |\n",
      "|392    |[[1643, 7.4311757], [1121, 6.83654], [962, 6.368367]]    |\n",
      "|243    |[[1643, 6.50006], [320, 6.1525774], [718, 5.9883833]]    |\n",
      "|623    |[[1120, 7.199861], [1159, 6.737999], [532, 6.485504]]    |\n",
      "|737    |[[1245, 10.361174], [1192, 10.1093855], [1163, 9.538757]]|\n",
      "|897    |[[1421, 7.339346], [1093, 7.29515], [958, 7.224092]]     |\n",
      "|858    |[[960, 8.113142], [1038, 7.770085], [1296, 7.113172]]    |\n",
      "|31     |[[775, 6.269818], [1643, 6.1555643], [1195, 5.825626]]   |\n",
      "|516    |[[1218, 8.541883], [968, 8.259947], [989, 7.857681]]     |\n",
      "|580    |[[915, 11.044119], [267, 10.389157], [1022, 9.6287155]]  |\n",
      "|251    |[[634, 5.434312], [601, 5.4090414], [960, 5.37435]]      |\n",
      "|451    |[[1368, 7.747309], [752, 7.3589497], [974, 7.3577313]]   |\n",
      "|85     |[[1643, 5.1951284], [1449, 4.8187385], [1218, 4.767787]] |\n",
      "|137    |[[1052, 8.603659], [1664, 8.490842], [1218, 8.13187]]    |\n",
      "|808    |[[1368, 8.050112], [1159, 7.7895727], [353, 7.4100876]]  |\n",
      "+-------+---------------------------------------------------------+\n",
      "only showing top 20 rows\n",
      "\n"
     ]
    }
   ],
   "source": [
    "user_recs.show(truncate=False)"
   ]
  },
  {
   "cell_type": "code",
   "execution_count": 32,
   "metadata": {},
   "outputs": [
    {
     "data": {
      "text/plain": [
       "DataFrame[user_id: int, recommendations: array<struct<movie_id:int,rating:float>>]"
      ]
     },
     "execution_count": 32,
     "metadata": {},
     "output_type": "execute_result"
    }
   ],
   "source": [
    "# python trick to display data types inside the dataframe\n",
    "user_recs"
   ]
  },
  {
   "cell_type": "markdown",
   "metadata": {},
   "source": [
    "**Reshape the movie_id and rating arrays into columns for an user:**"
   ]
  },
  {
   "cell_type": "code",
   "execution_count": 33,
   "metadata": {},
   "outputs": [
    {
     "name": "stdout",
     "output_type": "stream",
     "text": [
      "+-------+-----------------+--------------------+\n",
      "|user_id|         movie_id|              rating|\n",
      "+-------+-----------------+--------------------+\n",
      "|      1|[1085, 1203, 745]|[6.1223927, 6.075...|\n",
      "+-------+-----------------+--------------------+\n",
      "\n"
     ]
    }
   ],
   "source": [
    "user_recs.where(user_recs.user_id == 1).select(\"user_id\", \"recommendations.movie_id\", \"recommendations.rating\").show()"
   ]
  },
  {
   "cell_type": "code",
   "execution_count": 34,
   "metadata": {},
   "outputs": [
    {
     "data": {
      "text/plain": [
       "[Row(user_id=1, movie_id=[1085, 1203, 745], rating=[6.122392654418945, 6.075290679931641, 5.954720973968506])]"
      ]
     },
     "execution_count": 34,
     "metadata": {},
     "output_type": "execute_result"
    }
   ],
   "source": [
    "user_recs.where(user_recs.user_id == 1).select(\"user_id\", \"recommendations.movie_id\", \"recommendations.rating\").collect()"
   ]
  },
  {
   "cell_type": "code",
   "execution_count": 35,
   "metadata": {
    "collapsed": true
   },
   "outputs": [],
   "source": [
    "user_recs_one = user_recs.where(user_recs.user_id == 1)"
   ]
  },
  {
   "cell_type": "code",
   "execution_count": 36,
   "metadata": {},
   "outputs": [
    {
     "name": "stdout",
     "output_type": "stream",
     "text": [
      "+-------+-------------------------------------------------------+\n",
      "|user_id|recommendations                                        |\n",
      "+-------+-------------------------------------------------------+\n",
      "|1      |[[1085, 6.1223927], [1203, 6.0752907], [745, 5.954721]]|\n",
      "+-------+-------------------------------------------------------+\n",
      "\n"
     ]
    }
   ],
   "source": [
    "user_recs_one.show(truncate=False)"
   ]
  },
  {
   "cell_type": "code",
   "execution_count": 37,
   "metadata": {},
   "outputs": [
    {
     "data": {
      "text/plain": [
       "DataFrame[user_id: int, recommendations: array<struct<movie_id:int,rating:float>>]"
      ]
     },
     "execution_count": 37,
     "metadata": {},
     "output_type": "execute_result"
    }
   ],
   "source": [
    "user_recs_one"
   ]
  },
  {
   "cell_type": "code",
   "execution_count": 38,
   "metadata": {
    "scrolled": true
   },
   "outputs": [
    {
     "name": "stdout",
     "output_type": "stream",
     "text": [
      "+-------+-----------------+--------------------------------+\n",
      "|user_id|movie_id         |rating                          |\n",
      "+-------+-----------------+--------------------------------+\n",
      "|1      |[1085, 1203, 745]|[6.1223927, 6.0752907, 5.954721]|\n",
      "+-------+-----------------+--------------------------------+\n",
      "\n"
     ]
    }
   ],
   "source": [
    "user_recs_one = user_recs_one.select(\"user_id\", \"recommendations.movie_id\", \"recommendations.rating\")\n",
    "user_recs_one.show(truncate=False)"
   ]
  },
  {
   "cell_type": "code",
   "execution_count": 39,
   "metadata": {},
   "outputs": [
    {
     "data": {
      "text/plain": [
       "DataFrame[user_id: int, movie_id: array<int>, rating: array<float>]"
      ]
     },
     "execution_count": 39,
     "metadata": {},
     "output_type": "execute_result"
    }
   ],
   "source": [
    "user_recs_one"
   ]
  },
  {
   "cell_type": "markdown",
   "metadata": {},
   "source": [
    "**Introduce a Sequence Id:**"
   ]
  },
  {
   "cell_type": "markdown",
   "metadata": {},
   "source": [
    "In order to join the recommended movies and recommended ratings we need to introduce an additional id column. In order to ensure that the values in the id column is increasing we use the monotonically_increasing_id() function. This function is guaranteed to produce increasing numbers but not guaranteed to produce sequential increasing numbers if there are more than 1 partition in the dataframe. So we also repartition the exploded dataframe into 1 partition."
   ]
  },
  {
   "cell_type": "code",
   "execution_count": 40,
   "metadata": {},
   "outputs": [
    {
     "name": "stdout",
     "output_type": "stream",
     "text": [
      "+---+-------+--------+\n",
      "| id|user_id|movie_id|\n",
      "+---+-------+--------+\n",
      "|  0|      1|    1085|\n",
      "|  1|      1|    1203|\n",
      "|  2|      1|     745|\n",
      "+---+-------+--------+\n",
      "\n"
     ]
    }
   ],
   "source": [
    "only_movies = user_recs_one.select(\"user_id\", F.explode(col(\"movie_id\")).alias(\"movie_id\"))\n",
    "only_movies = only_movies.repartition(1).withColumn('id', F.monotonically_increasing_id())\n",
    "only_movies = only_movies.select('id', 'user_id', 'movie_id')\n",
    "only_movies.show()"
   ]
  },
  {
   "cell_type": "code",
   "execution_count": 41,
   "metadata": {},
   "outputs": [
    {
     "name": "stdout",
     "output_type": "stream",
     "text": [
      "+---+-------+---------+\n",
      "| id|user_id|   rating|\n",
      "+---+-------+---------+\n",
      "|  0|      1|6.1223927|\n",
      "|  1|      1|6.0752907|\n",
      "|  2|      1| 5.954721|\n",
      "+---+-------+---------+\n",
      "\n"
     ]
    }
   ],
   "source": [
    "only_ratings = user_recs_one.select(\"user_id\", F.explode(col(\"rating\")).alias(\"rating\"))\n",
    "only_ratings = only_ratings.repartition(1).withColumn('id', F.monotonically_increasing_id())\n",
    "only_ratings = only_ratings.select('id', 'user_id', 'rating')\n",
    "only_ratings.show()"
   ]
  },
  {
   "cell_type": "code",
   "execution_count": 42,
   "metadata": {},
   "outputs": [
    {
     "name": "stdout",
     "output_type": "stream",
     "text": [
      "+-------+--------+---------+\n",
      "|user_id|movie_id|   rating|\n",
      "+-------+--------+---------+\n",
      "|      1|    1085|6.1223927|\n",
      "|      1|    1203|6.0752907|\n",
      "|      1|     745| 5.954721|\n",
      "+-------+--------+---------+\n",
      "\n"
     ]
    }
   ],
   "source": [
    "only_movies.join(only_ratings.drop('user_id'), on='id', how='inner').drop('id').show()"
   ]
  },
  {
   "cell_type": "markdown",
   "metadata": {},
   "source": [
    "### Movie Recommendations for a Particular User"
   ]
  },
  {
   "cell_type": "markdown",
   "metadata": {},
   "source": [
    "**Filter out the user we are interested from the set of all predictions:**"
   ]
  },
  {
   "cell_type": "code",
   "execution_count": 43,
   "metadata": {},
   "outputs": [
    {
     "name": "stdout",
     "output_type": "stream",
     "text": [
      "+-------+----------------------------------------------------+\n",
      "|user_id|recommendations                                     |\n",
      "+-------+----------------------------------------------------+\n",
      "|2      |[[534, 8.056154], [601, 7.446925], [634, 6.5791397]]|\n",
      "+-------+----------------------------------------------------+\n",
      "\n"
     ]
    }
   ],
   "source": [
    "user_recs.where(user_recs.user_id == 2).show(truncate=False)"
   ]
  },
  {
   "cell_type": "markdown",
   "metadata": {},
   "source": [
    "**Create a subset user dataframe and invoke `recommendForUserSubset` on the model:**"
   ]
  },
  {
   "cell_type": "code",
   "execution_count": 44,
   "metadata": {
    "collapsed": true
   },
   "outputs": [],
   "source": [
    "user_subset = ratings_df.where(ratings_df.user_id == 2)"
   ]
  },
  {
   "cell_type": "code",
   "execution_count": 45,
   "metadata": {
    "collapsed": true
   },
   "outputs": [],
   "source": [
    "user_subset_recs = model.recommendForUserSubset(user_subset, 3)"
   ]
  },
  {
   "cell_type": "code",
   "execution_count": 46,
   "metadata": {
    "scrolled": true
   },
   "outputs": [
    {
     "name": "stdout",
     "output_type": "stream",
     "text": [
      "+---------------+-------------------------------+\n",
      "|movie_id       |rating                         |\n",
      "+---------------+-------------------------------+\n",
      "|[534, 601, 634]|[8.056154, 7.446925, 6.5791397]|\n",
      "+---------------+-------------------------------+\n",
      "\n"
     ]
    }
   ],
   "source": [
    "user_subset_recs.select(\"recommendations.movie_id\", \"recommendations.rating\").show(truncate=False)"
   ]
  },
  {
   "cell_type": "markdown",
   "metadata": {},
   "source": [
    "### Top 3 User Recommendations for All Movies"
   ]
  },
  {
   "cell_type": "code",
   "execution_count": 47,
   "metadata": {
    "collapsed": true
   },
   "outputs": [],
   "source": [
    "# top 3 users recommended for each movie, for all movies.\n",
    "movie_recs = model.recommendForAllItems(3)"
   ]
  },
  {
   "cell_type": "code",
   "execution_count": 48,
   "metadata": {
    "scrolled": false
   },
   "outputs": [
    {
     "name": "stdout",
     "output_type": "stream",
     "text": [
      "+--------+------------------------------------------------------+\n",
      "|movie_id|recommendations                                       |\n",
      "+--------+------------------------------------------------------+\n",
      "|1580    |[[471, 1.5046953], [818, 1.1132871], [434, 1.1100312]]|\n",
      "|471     |[[688, 5.251872], [939, 5.0367737], [357, 4.964419]]  |\n",
      "|1591    |[[231, 10.863197], [212, 9.507906], [131, 9.288162]]  |\n",
      "|1342    |[[589, 2.206946], [38, 2.0421913], [97, 1.941875]]    |\n",
      "|463     |[[702, 7.7433176], [772, 6.674911], [126, 6.324211]]  |\n",
      "|833     |[[438, 6.989997], [636, 5.9221754], [89, 5.703195]]   |\n",
      "|1645    |[[89, 6.98346], [39, 6.9104958], [810, 6.581453]]     |\n",
      "|496     |[[702, 7.4271765], [310, 6.937604], [166, 6.9291487]] |\n",
      "|148     |[[93, 7.2038307], [202, 6.9377155], [260, 6.195242]]  |\n",
      "|1088    |[[434, 8.120373], [677, 8.094688], [614, 7.9772997]]  |\n",
      "|1238    |[[333, 6.86069], [168, 6.535516], [134, 6.350939]]    |\n",
      "|540     |[[61, 5.666322], [333, 5.2608666], [261, 5.230006]]   |\n",
      "|392     |[[71, 7.7645802], [333, 7.540634], [258, 7.125643]]   |\n",
      "|1522    |[[61, 7.543904], [726, 7.428161], [258, 7.0633583]]   |\n",
      "|243     |[[93, 6.5349116], [202, 5.528331], [705, 5.4581766]]  |\n",
      "|623     |[[726, 6.8359017], [333, 6.595397], [258, 6.3468375]] |\n",
      "|1483    |[[258, 9.341487], [850, 8.600413], [651, 8.346715]]   |\n",
      "|1084    |[[418, 8.738398], [461, 8.538032], [97, 8.476755]]    |\n",
      "|1025    |[[93, 10.030997], [335, 7.452176], [914, 7.320111]]   |\n",
      "|1395    |[[475, 8.044199], [219, 7.5252776], [791, 6.5657673]] |\n",
      "+--------+------------------------------------------------------+\n",
      "only showing top 20 rows\n",
      "\n"
     ]
    }
   ],
   "source": [
    "movie_recs.show(truncate=False)"
   ]
  },
  {
   "cell_type": "markdown",
   "metadata": {},
   "source": [
    "### Top 3 User Recommendations for a Particular Movie"
   ]
  },
  {
   "cell_type": "markdown",
   "metadata": {},
   "source": [
    "**Filter out the movie we are interested from the set of all predictions:**"
   ]
  },
  {
   "cell_type": "code",
   "execution_count": 49,
   "metadata": {
    "scrolled": false
   },
   "outputs": [
    {
     "data": {
      "text/plain": [
       "[Row(user_id=[418, 765, 461], rating=[11.34333610534668, 6.878576278686523, 6.868257999420166])]"
      ]
     },
     "execution_count": 49,
     "metadata": {},
     "output_type": "execute_result"
    }
   ],
   "source": [
    "movie_recs.where(movie_recs.movie_id == 36).select(\"recommendations.user_id\", \"recommendations.rating\").collect()"
   ]
  },
  {
   "cell_type": "markdown",
   "metadata": {},
   "source": [
    "**Create a subset movie dataframe and invoke `recommendForItemSubset` on the model:**"
   ]
  },
  {
   "cell_type": "code",
   "execution_count": 50,
   "metadata": {
    "collapsed": true
   },
   "outputs": [],
   "source": [
    "movie_subset = ratings_df.where(ratings_df.movie_id == 36)"
   ]
  },
  {
   "cell_type": "code",
   "execution_count": 51,
   "metadata": {
    "collapsed": true
   },
   "outputs": [],
   "source": [
    "movie_subset_recs = model.recommendForItemSubset(movie_subset, 3)"
   ]
  },
  {
   "cell_type": "code",
   "execution_count": 52,
   "metadata": {},
   "outputs": [
    {
     "name": "stdout",
     "output_type": "stream",
     "text": [
      "+---------------+--------------------------------+\n",
      "|user_id        |rating                          |\n",
      "+---------------+--------------------------------+\n",
      "|[418, 765, 461]|[11.343336, 6.8785763, 6.868258]|\n",
      "+---------------+--------------------------------+\n",
      "\n"
     ]
    }
   ],
   "source": [
    "movie_subset_recs.select(\"recommendations.user_id\", \"recommendations.rating\").show(truncate=False)"
   ]
  },
  {
   "cell_type": "markdown",
   "metadata": {},
   "source": [
    "## Incorporating Movie Details Data"
   ]
  },
  {
   "cell_type": "markdown",
   "metadata": {},
   "source": [
    "**Load the Movie Details:**"
   ]
  },
  {
   "cell_type": "code",
   "execution_count": 53,
   "metadata": {
    "collapsed": true
   },
   "outputs": [],
   "source": [
    "movies_schema = StructType([\n",
    "    StructField(\"movie_id\", ShortType(), nullable=True),\n",
    "    StructField(\"title\", StringType(), nullable=True),\n",
    "    StructField(\"release_date\", StringType(), nullable=False),\n",
    "    StructField(\"video_release_date\", StringType(), nullable=False),\n",
    "    StructField(\"imdb_url\", StringType(), nullable=False),\n",
    "    StructField(\"unknown\", ByteType(), nullable=False),\n",
    "    StructField(\"action\", ByteType(), nullable=False),\n",
    "    StructField(\"adventure\", ByteType(), nullable=False),\n",
    "    StructField(\"animation\", ByteType(), nullable=False),\n",
    "    StructField(\"childrens\", ByteType(), nullable=False),\n",
    "    StructField(\"comedy\", ByteType(), nullable=False),\n",
    "    StructField(\"crime\", ByteType(), nullable=False),\n",
    "    StructField(\"documentary\", ByteType(), nullable=False),\n",
    "    StructField(\"drama\", ByteType(), nullable=False),\n",
    "    StructField(\"fantasy\", ByteType(), nullable=False),\n",
    "    StructField(\"filmnoir\", ByteType(), nullable=False),\n",
    "    StructField(\"horror\", ByteType(), nullable=False),\n",
    "    StructField(\"musical\", ByteType(), nullable=False),\n",
    "    StructField(\"mystery\", ByteType(), nullable=False),\n",
    "    StructField(\"romance\", ByteType(), nullable=False),\n",
    "    StructField(\"scifi\", ByteType(), nullable=False),\n",
    "    StructField(\"thriller\", ByteType(), nullable=False),\n",
    "    StructField(\"war\", ByteType(), nullable=False),\n",
    "    StructField(\"western\", ByteType(), nullable=False)]\n",
    "  )"
   ]
  },
  {
   "cell_type": "code",
   "execution_count": 54,
   "metadata": {
    "collapsed": true
   },
   "outputs": [],
   "source": [
    "movies_df = spark.read.csv(\"data/ml-100k/u.item\", sep=\"|\", schema=movies_schema).cache()"
   ]
  },
  {
   "cell_type": "code",
   "execution_count": 55,
   "metadata": {
    "scrolled": false
   },
   "outputs": [
    {
     "data": {
      "text/html": [
       "<div>\n",
       "<style>\n",
       "    .dataframe thead tr:only-child th {\n",
       "        text-align: right;\n",
       "    }\n",
       "\n",
       "    .dataframe thead th {\n",
       "        text-align: left;\n",
       "    }\n",
       "\n",
       "    .dataframe tbody tr th {\n",
       "        vertical-align: top;\n",
       "    }\n",
       "</style>\n",
       "<table border=\"1\" class=\"dataframe\">\n",
       "  <thead>\n",
       "    <tr style=\"text-align: right;\">\n",
       "      <th></th>\n",
       "      <th>movie_id</th>\n",
       "      <th>title</th>\n",
       "      <th>release_date</th>\n",
       "      <th>video_release_date</th>\n",
       "      <th>imdb_url</th>\n",
       "      <th>unknown</th>\n",
       "      <th>action</th>\n",
       "      <th>adventure</th>\n",
       "      <th>animation</th>\n",
       "      <th>childrens</th>\n",
       "      <th>comedy</th>\n",
       "      <th>crime</th>\n",
       "      <th>documentary</th>\n",
       "      <th>drama</th>\n",
       "      <th>fantasy</th>\n",
       "      <th>filmnoir</th>\n",
       "      <th>horror</th>\n",
       "      <th>musical</th>\n",
       "      <th>mystery</th>\n",
       "      <th>romance</th>\n",
       "      <th>scifi</th>\n",
       "      <th>thriller</th>\n",
       "      <th>war</th>\n",
       "      <th>western</th>\n",
       "    </tr>\n",
       "  </thead>\n",
       "  <tbody>\n",
       "    <tr>\n",
       "      <th>0</th>\n",
       "      <td>1</td>\n",
       "      <td>Toy Story (1995)</td>\n",
       "      <td>01-Jan-1995</td>\n",
       "      <td>None</td>\n",
       "      <td>http://us.imdb.com/M/title-exact?Toy%20Story%20(1995)</td>\n",
       "      <td>0</td>\n",
       "      <td>0</td>\n",
       "      <td>0</td>\n",
       "      <td>1</td>\n",
       "      <td>1</td>\n",
       "      <td>1</td>\n",
       "      <td>0</td>\n",
       "      <td>0</td>\n",
       "      <td>0</td>\n",
       "      <td>0</td>\n",
       "      <td>0</td>\n",
       "      <td>0</td>\n",
       "      <td>0</td>\n",
       "      <td>0</td>\n",
       "      <td>0</td>\n",
       "      <td>0</td>\n",
       "      <td>0</td>\n",
       "      <td>0</td>\n",
       "      <td>0</td>\n",
       "    </tr>\n",
       "    <tr>\n",
       "      <th>1</th>\n",
       "      <td>2</td>\n",
       "      <td>GoldenEye (1995)</td>\n",
       "      <td>01-Jan-1995</td>\n",
       "      <td>None</td>\n",
       "      <td>http://us.imdb.com/M/title-exact?GoldenEye%20(1995)</td>\n",
       "      <td>0</td>\n",
       "      <td>1</td>\n",
       "      <td>1</td>\n",
       "      <td>0</td>\n",
       "      <td>0</td>\n",
       "      <td>0</td>\n",
       "      <td>0</td>\n",
       "      <td>0</td>\n",
       "      <td>0</td>\n",
       "      <td>0</td>\n",
       "      <td>0</td>\n",
       "      <td>0</td>\n",
       "      <td>0</td>\n",
       "      <td>0</td>\n",
       "      <td>0</td>\n",
       "      <td>0</td>\n",
       "      <td>1</td>\n",
       "      <td>0</td>\n",
       "      <td>0</td>\n",
       "    </tr>\n",
       "    <tr>\n",
       "      <th>2</th>\n",
       "      <td>3</td>\n",
       "      <td>Four Rooms (1995)</td>\n",
       "      <td>01-Jan-1995</td>\n",
       "      <td>None</td>\n",
       "      <td>http://us.imdb.com/M/title-exact?Four%20Rooms%20(1995)</td>\n",
       "      <td>0</td>\n",
       "      <td>0</td>\n",
       "      <td>0</td>\n",
       "      <td>0</td>\n",
       "      <td>0</td>\n",
       "      <td>0</td>\n",
       "      <td>0</td>\n",
       "      <td>0</td>\n",
       "      <td>0</td>\n",
       "      <td>0</td>\n",
       "      <td>0</td>\n",
       "      <td>0</td>\n",
       "      <td>0</td>\n",
       "      <td>0</td>\n",
       "      <td>0</td>\n",
       "      <td>0</td>\n",
       "      <td>1</td>\n",
       "      <td>0</td>\n",
       "      <td>0</td>\n",
       "    </tr>\n",
       "    <tr>\n",
       "      <th>3</th>\n",
       "      <td>4</td>\n",
       "      <td>Get Shorty (1995)</td>\n",
       "      <td>01-Jan-1995</td>\n",
       "      <td>None</td>\n",
       "      <td>http://us.imdb.com/M/title-exact?Get%20Shorty%20(1995)</td>\n",
       "      <td>0</td>\n",
       "      <td>1</td>\n",
       "      <td>0</td>\n",
       "      <td>0</td>\n",
       "      <td>0</td>\n",
       "      <td>1</td>\n",
       "      <td>0</td>\n",
       "      <td>0</td>\n",
       "      <td>1</td>\n",
       "      <td>0</td>\n",
       "      <td>0</td>\n",
       "      <td>0</td>\n",
       "      <td>0</td>\n",
       "      <td>0</td>\n",
       "      <td>0</td>\n",
       "      <td>0</td>\n",
       "      <td>0</td>\n",
       "      <td>0</td>\n",
       "      <td>0</td>\n",
       "    </tr>\n",
       "    <tr>\n",
       "      <th>4</th>\n",
       "      <td>5</td>\n",
       "      <td>Copycat (1995)</td>\n",
       "      <td>01-Jan-1995</td>\n",
       "      <td>None</td>\n",
       "      <td>http://us.imdb.com/M/title-exact?Copycat%20(1995)</td>\n",
       "      <td>0</td>\n",
       "      <td>0</td>\n",
       "      <td>0</td>\n",
       "      <td>0</td>\n",
       "      <td>0</td>\n",
       "      <td>0</td>\n",
       "      <td>1</td>\n",
       "      <td>0</td>\n",
       "      <td>1</td>\n",
       "      <td>0</td>\n",
       "      <td>0</td>\n",
       "      <td>0</td>\n",
       "      <td>0</td>\n",
       "      <td>0</td>\n",
       "      <td>0</td>\n",
       "      <td>0</td>\n",
       "      <td>1</td>\n",
       "      <td>0</td>\n",
       "      <td>0</td>\n",
       "    </tr>\n",
       "    <tr>\n",
       "      <th>5</th>\n",
       "      <td>6</td>\n",
       "      <td>Shanghai Triad (Yao a yao yao dao waipo qiao) (1995)</td>\n",
       "      <td>01-Jan-1995</td>\n",
       "      <td>None</td>\n",
       "      <td>http://us.imdb.com/Title?Yao+a+yao+yao+dao+waipo+qiao+(1995)</td>\n",
       "      <td>0</td>\n",
       "      <td>0</td>\n",
       "      <td>0</td>\n",
       "      <td>0</td>\n",
       "      <td>0</td>\n",
       "      <td>0</td>\n",
       "      <td>0</td>\n",
       "      <td>0</td>\n",
       "      <td>1</td>\n",
       "      <td>0</td>\n",
       "      <td>0</td>\n",
       "      <td>0</td>\n",
       "      <td>0</td>\n",
       "      <td>0</td>\n",
       "      <td>0</td>\n",
       "      <td>0</td>\n",
       "      <td>0</td>\n",
       "      <td>0</td>\n",
       "      <td>0</td>\n",
       "    </tr>\n",
       "    <tr>\n",
       "      <th>6</th>\n",
       "      <td>7</td>\n",
       "      <td>Twelve Monkeys (1995)</td>\n",
       "      <td>01-Jan-1995</td>\n",
       "      <td>None</td>\n",
       "      <td>http://us.imdb.com/M/title-exact?Twelve%20Monkeys%20(1995)</td>\n",
       "      <td>0</td>\n",
       "      <td>0</td>\n",
       "      <td>0</td>\n",
       "      <td>0</td>\n",
       "      <td>0</td>\n",
       "      <td>0</td>\n",
       "      <td>0</td>\n",
       "      <td>0</td>\n",
       "      <td>1</td>\n",
       "      <td>0</td>\n",
       "      <td>0</td>\n",
       "      <td>0</td>\n",
       "      <td>0</td>\n",
       "      <td>0</td>\n",
       "      <td>0</td>\n",
       "      <td>1</td>\n",
       "      <td>0</td>\n",
       "      <td>0</td>\n",
       "      <td>0</td>\n",
       "    </tr>\n",
       "    <tr>\n",
       "      <th>7</th>\n",
       "      <td>8</td>\n",
       "      <td>Babe (1995)</td>\n",
       "      <td>01-Jan-1995</td>\n",
       "      <td>None</td>\n",
       "      <td>http://us.imdb.com/M/title-exact?Babe%20(1995)</td>\n",
       "      <td>0</td>\n",
       "      <td>0</td>\n",
       "      <td>0</td>\n",
       "      <td>0</td>\n",
       "      <td>1</td>\n",
       "      <td>1</td>\n",
       "      <td>0</td>\n",
       "      <td>0</td>\n",
       "      <td>1</td>\n",
       "      <td>0</td>\n",
       "      <td>0</td>\n",
       "      <td>0</td>\n",
       "      <td>0</td>\n",
       "      <td>0</td>\n",
       "      <td>0</td>\n",
       "      <td>0</td>\n",
       "      <td>0</td>\n",
       "      <td>0</td>\n",
       "      <td>0</td>\n",
       "    </tr>\n",
       "    <tr>\n",
       "      <th>8</th>\n",
       "      <td>9</td>\n",
       "      <td>Dead Man Walking (1995)</td>\n",
       "      <td>01-Jan-1995</td>\n",
       "      <td>None</td>\n",
       "      <td>http://us.imdb.com/M/title-exact?Dead%20Man%20Walking%20(1995)</td>\n",
       "      <td>0</td>\n",
       "      <td>0</td>\n",
       "      <td>0</td>\n",
       "      <td>0</td>\n",
       "      <td>0</td>\n",
       "      <td>0</td>\n",
       "      <td>0</td>\n",
       "      <td>0</td>\n",
       "      <td>1</td>\n",
       "      <td>0</td>\n",
       "      <td>0</td>\n",
       "      <td>0</td>\n",
       "      <td>0</td>\n",
       "      <td>0</td>\n",
       "      <td>0</td>\n",
       "      <td>0</td>\n",
       "      <td>0</td>\n",
       "      <td>0</td>\n",
       "      <td>0</td>\n",
       "    </tr>\n",
       "    <tr>\n",
       "      <th>9</th>\n",
       "      <td>10</td>\n",
       "      <td>Richard III (1995)</td>\n",
       "      <td>22-Jan-1996</td>\n",
       "      <td>None</td>\n",
       "      <td>http://us.imdb.com/M/title-exact?Richard%20III%20(1995)</td>\n",
       "      <td>0</td>\n",
       "      <td>0</td>\n",
       "      <td>0</td>\n",
       "      <td>0</td>\n",
       "      <td>0</td>\n",
       "      <td>0</td>\n",
       "      <td>0</td>\n",
       "      <td>0</td>\n",
       "      <td>1</td>\n",
       "      <td>0</td>\n",
       "      <td>0</td>\n",
       "      <td>0</td>\n",
       "      <td>0</td>\n",
       "      <td>0</td>\n",
       "      <td>0</td>\n",
       "      <td>0</td>\n",
       "      <td>0</td>\n",
       "      <td>1</td>\n",
       "      <td>0</td>\n",
       "    </tr>\n",
       "  </tbody>\n",
       "</table>\n",
       "</div>"
      ],
      "text/plain": [
       "   movie_id                                                 title  \\\n",
       "0         1                                      Toy Story (1995)   \n",
       "1         2                                      GoldenEye (1995)   \n",
       "2         3                                     Four Rooms (1995)   \n",
       "3         4                                     Get Shorty (1995)   \n",
       "4         5                                        Copycat (1995)   \n",
       "5         6  Shanghai Triad (Yao a yao yao dao waipo qiao) (1995)   \n",
       "6         7                                 Twelve Monkeys (1995)   \n",
       "7         8                                           Babe (1995)   \n",
       "8         9                               Dead Man Walking (1995)   \n",
       "9        10                                    Richard III (1995)   \n",
       "\n",
       "  release_date video_release_date  \\\n",
       "0  01-Jan-1995               None   \n",
       "1  01-Jan-1995               None   \n",
       "2  01-Jan-1995               None   \n",
       "3  01-Jan-1995               None   \n",
       "4  01-Jan-1995               None   \n",
       "5  01-Jan-1995               None   \n",
       "6  01-Jan-1995               None   \n",
       "7  01-Jan-1995               None   \n",
       "8  01-Jan-1995               None   \n",
       "9  22-Jan-1996               None   \n",
       "\n",
       "                                                         imdb_url  unknown  \\\n",
       "0           http://us.imdb.com/M/title-exact?Toy%20Story%20(1995)        0   \n",
       "1             http://us.imdb.com/M/title-exact?GoldenEye%20(1995)        0   \n",
       "2          http://us.imdb.com/M/title-exact?Four%20Rooms%20(1995)        0   \n",
       "3          http://us.imdb.com/M/title-exact?Get%20Shorty%20(1995)        0   \n",
       "4               http://us.imdb.com/M/title-exact?Copycat%20(1995)        0   \n",
       "5    http://us.imdb.com/Title?Yao+a+yao+yao+dao+waipo+qiao+(1995)        0   \n",
       "6      http://us.imdb.com/M/title-exact?Twelve%20Monkeys%20(1995)        0   \n",
       "7                  http://us.imdb.com/M/title-exact?Babe%20(1995)        0   \n",
       "8  http://us.imdb.com/M/title-exact?Dead%20Man%20Walking%20(1995)        0   \n",
       "9         http://us.imdb.com/M/title-exact?Richard%20III%20(1995)        0   \n",
       "\n",
       "   action  adventure  animation  childrens  comedy  crime  documentary  drama  \\\n",
       "0       0          0          1          1       1      0            0      0   \n",
       "1       1          1          0          0       0      0            0      0   \n",
       "2       0          0          0          0       0      0            0      0   \n",
       "3       1          0          0          0       1      0            0      1   \n",
       "4       0          0          0          0       0      1            0      1   \n",
       "5       0          0          0          0       0      0            0      1   \n",
       "6       0          0          0          0       0      0            0      1   \n",
       "7       0          0          0          1       1      0            0      1   \n",
       "8       0          0          0          0       0      0            0      1   \n",
       "9       0          0          0          0       0      0            0      1   \n",
       "\n",
       "   fantasy  filmnoir  horror  musical  mystery  romance  scifi  thriller  war  \\\n",
       "0        0         0       0        0        0        0      0         0    0   \n",
       "1        0         0       0        0        0        0      0         1    0   \n",
       "2        0         0       0        0        0        0      0         1    0   \n",
       "3        0         0       0        0        0        0      0         0    0   \n",
       "4        0         0       0        0        0        0      0         1    0   \n",
       "5        0         0       0        0        0        0      0         0    0   \n",
       "6        0         0       0        0        0        0      1         0    0   \n",
       "7        0         0       0        0        0        0      0         0    0   \n",
       "8        0         0       0        0        0        0      0         0    0   \n",
       "9        0         0       0        0        0        0      0         0    1   \n",
       "\n",
       "   western  \n",
       "0        0  \n",
       "1        0  \n",
       "2        0  \n",
       "3        0  \n",
       "4        0  \n",
       "5        0  \n",
       "6        0  \n",
       "7        0  \n",
       "8        0  \n",
       "9        0  "
      ]
     },
     "execution_count": 55,
     "metadata": {},
     "output_type": "execute_result"
    }
   ],
   "source": [
    "movies_df.limit(10).toPandas()"
   ]
  },
  {
   "cell_type": "code",
   "execution_count": 56,
   "metadata": {
    "collapsed": true
   },
   "outputs": [],
   "source": [
    "from pyspark.sql import Row\n",
    "test_user_movie_df = spark.createDataFrame([Row(user_id=789, movie_id=123)], ['user_id', 'movie_id'])"
   ]
  },
  {
   "cell_type": "code",
   "execution_count": 57,
   "metadata": {},
   "outputs": [
    {
     "name": "stdout",
     "output_type": "stream",
     "text": [
      "+-------+--------+----------+\n",
      "|user_id|movie_id|prediction|\n",
      "+-------+--------+----------+\n",
      "|    123|     789| 2.6726801|\n",
      "+-------+--------+----------+\n",
      "\n"
     ]
    }
   ],
   "source": [
    "model.transform(test_user_movie_df).show()"
   ]
  },
  {
   "cell_type": "markdown",
   "metadata": {},
   "source": [
    "**Generate top 10 Predictions for User 789:**"
   ]
  },
  {
   "cell_type": "code",
   "execution_count": 58,
   "metadata": {
    "collapsed": true
   },
   "outputs": [],
   "source": [
    "from pyspark.sql import Row\n",
    "test_user_df = spark.createDataFrame([Row(user_id=789)], ['user_id'])"
   ]
  },
  {
   "cell_type": "code",
   "execution_count": 59,
   "metadata": {
    "scrolled": true
   },
   "outputs": [
    {
     "name": "stdout",
     "output_type": "stream",
     "text": [
      "+-------+\n",
      "|user_id|\n",
      "+-------+\n",
      "|    789|\n",
      "+-------+\n",
      "\n"
     ]
    }
   ],
   "source": [
    "test_user_df.show()"
   ]
  },
  {
   "cell_type": "code",
   "execution_count": 60,
   "metadata": {
    "collapsed": true
   },
   "outputs": [],
   "source": [
    "test_user_recs = model.recommendForUserSubset(test_user_df, 10).cache()"
   ]
  },
  {
   "cell_type": "code",
   "execution_count": 61,
   "metadata": {},
   "outputs": [
    {
     "name": "stdout",
     "output_type": "stream",
     "text": [
      "+-------+--------------------------------------------------+--------------------------------------------------+\n",
      "|user_id|                                          movie_id|                                            rating|\n",
      "+-------+--------------------------------------------------+--------------------------------------------------+\n",
      "|    789|[793, 1019, 962, 6, 904, 1643, 1368, 1121, 1113...|[9.706029, 8.729713, 8.645201, 8.499296, 8.1531...|\n",
      "+-------+--------------------------------------------------+--------------------------------------------------+\n",
      "\n"
     ]
    }
   ],
   "source": [
    "test_user_recs.select(\"user_id\", \"recommendations.movie_id\", \"recommendations.rating\").show(1, 50)"
   ]
  },
  {
   "cell_type": "code",
   "execution_count": 62,
   "metadata": {},
   "outputs": [
    {
     "name": "stdout",
     "output_type": "stream",
     "text": [
      "+-------+--------+\n",
      "|user_id|movie_id|\n",
      "+-------+--------+\n",
      "|    789|     793|\n",
      "|    789|    1019|\n",
      "|    789|     962|\n",
      "|    789|       6|\n",
      "|    789|     904|\n",
      "|    789|    1643|\n",
      "|    789|    1368|\n",
      "|    789|    1121|\n",
      "|    789|    1113|\n",
      "|    789|     337|\n",
      "+-------+--------+\n",
      "\n"
     ]
    }
   ],
   "source": [
    "test_user_recs.select(\"user_id\", F.explode(col(\"recommendations.movie_id\")).alias(\"movie_id\")).show()"
   ]
  },
  {
   "cell_type": "code",
   "execution_count": 63,
   "metadata": {
    "collapsed": true
   },
   "outputs": [],
   "source": [
    "movie_genres = (['unknown', 'action', 'adventure', 'animation', 'childrens', 'comedy', 'crime', 'documentary', 'drama', \n",
    "                 'fantasy', 'filmnoir', 'horror', 'musical', 'mystery', 'romance', 'scifi', 'thriller', 'war', 'western'])"
   ]
  },
  {
   "cell_type": "code",
   "execution_count": 64,
   "metadata": {
    "collapsed": true
   },
   "outputs": [],
   "source": [
    "# An utility function to combine all active genres of the movie into an array\n",
    "from numpy import ma\n",
    "def combine_genres(genres):\n",
    "    x = ma.masked_array(movie_genres, mask=(1 - np.array(genres)))\n",
    "    return x[~x.mask].data.tolist()"
   ]
  },
  {
   "cell_type": "code",
   "execution_count": 65,
   "metadata": {},
   "outputs": [
    {
     "data": {
      "text/plain": [
       "['adventure', 'comedy', 'documentary', 'fantasy', 'mystery', 'scifi', 'war']"
      ]
     },
     "execution_count": 65,
     "metadata": {},
     "output_type": "execute_result"
    }
   ],
   "source": [
    "combine_genres([0,0,1,0,0,1,0,1,0,1,0,0,0,1,0,1,0,1,0])"
   ]
  },
  {
   "cell_type": "code",
   "execution_count": 66,
   "metadata": {
    "collapsed": true
   },
   "outputs": [],
   "source": [
    "udf_combine_genres = udf(lambda genres: combine_genres(genres), ArrayType(elementType=StringType()))"
   ]
  },
  {
   "cell_type": "code",
   "execution_count": 67,
   "metadata": {
    "scrolled": false
   },
   "outputs": [
    {
     "name": "stdout",
     "output_type": "stream",
     "text": [
      "Recommended Top 10 Movies For User 789:\n",
      "+-------+--------+-----------------------------------------------------------------+-------------------------+\n",
      "|user_id|movie_id|title                                                            |genres                   |\n",
      "+-------+--------+-----------------------------------------------------------------+-------------------------+\n",
      "|789    |6       |Shanghai Triad (Yao a yao yao dao waipo qiao) (1995)             |[drama]                  |\n",
      "|789    |337     |House of Yes, The (1997)                                         |[comedy, drama, thriller]|\n",
      "|789    |793     |Crooklyn (1994)                                                  |[comedy]                 |\n",
      "|789    |904     |Ma vie en rose (My Life in Pink) (1997)                          |[comedy, drama]          |\n",
      "|789    |962     |Ruby in Paradise (1993)                                          |[drama]                  |\n",
      "|789    |1019    |Die xue shuang xiong (Killer, The) (1989)                        |[action, thriller]       |\n",
      "|789    |1113    |Mrs. Parker and the Vicious Circle (1994)                        |[drama]                  |\n",
      "|789    |1121    |Umbrellas of Cherbourg, The (Parapluies de Cherbourg, Les) (1964)|[drama, musical]         |\n",
      "|789    |1368    |Mina Tannenbaum (1994)                                           |[drama]                  |\n",
      "|789    |1643    |Angel Baby (1995)                                                |[drama]                  |\n",
      "+-------+--------+-----------------------------------------------------------------+-------------------------+\n",
      "\n"
     ]
    }
   ],
   "source": [
    "print('Recommended Top 10 Movies For User 789:')\n",
    "(test_user_recs\n",
    " .select('user_id', F.explode(col(\"recommendations.movie_id\")).alias(\"movie_id\"))\n",
    " .join(movies_df, on=['movie_id'], how='inner')\n",
    " .withColumn('genres', udf_combine_genres(F.array('unknown', 'action', 'adventure', 'animation', 'childrens', 'comedy', 'crime', 'documentary', 'drama', 'fantasy', 'filmnoir', 'horror', 'musical', 'mystery', 'romance', 'scifi', 'thriller', 'war', 'western')))\n",
    " .select('user_id', 'movie_id', 'title', 'genres')\n",
    ").show(truncate=False)"
   ]
  },
  {
   "cell_type": "markdown",
   "metadata": {},
   "source": [
    "**Retrieve top 10 Movies rated by User 789:**"
   ]
  },
  {
   "cell_type": "code",
   "execution_count": 68,
   "metadata": {
    "collapsed": true
   },
   "outputs": [],
   "source": [
    "movies_df.createOrReplaceTempView('movies')\n",
    "ratings_df.createOrReplaceTempView('movie_ratings')"
   ]
  },
  {
   "cell_type": "code",
   "execution_count": 69,
   "metadata": {
    "collapsed": true
   },
   "outputs": [],
   "source": [
    "import re\n",
    "\n",
    "def strip_margin(text):\n",
    "    nomargin = re.sub('\\n[ \\t]*\\|', ' ', text)\n",
    "    trimmed = re.sub('\\s+', ' ', nomargin)\n",
    "    return trimmed"
   ]
  },
  {
   "cell_type": "code",
   "execution_count": 70,
   "metadata": {},
   "outputs": [
    {
     "data": {
      "text/plain": [
       "<function __main__.combine_genres>"
      ]
     },
     "execution_count": 70,
     "metadata": {},
     "output_type": "execute_result"
    }
   ],
   "source": [
    "sqlContext.udf.register(\"sql_udf_combine_genres\", combine_genres, ArrayType(elementType=StringType()))"
   ]
  },
  {
   "cell_type": "code",
   "execution_count": 71,
   "metadata": {},
   "outputs": [
    {
     "name": "stdout",
     "output_type": "stream",
     "text": [
      "Top 10 Rated Movies by User 789:\n",
      "+-------+--------+-------------------------------+----------------------------------------+\n",
      "|user_id|movie_id|title                          |genres                                  |\n",
      "+-------+--------+-------------------------------+----------------------------------------+\n",
      "|789    |9       |Dead Man Walking (1995)        |[drama]                                 |\n",
      "|789    |50      |Star Wars (1977)               |[action, adventure, romance, scifi, war]|\n",
      "|789    |100     |Fargo (1996)                   |[crime, drama, thriller]                |\n",
      "|789    |127     |Godfather, The (1972)          |[action, crime, drama]                  |\n",
      "|789    |129     |Bound (1996)                   |[crime, drama, romance, thriller]       |\n",
      "|789    |150     |Swingers (1996)                |[comedy, drama]                         |\n",
      "|789    |276     |Leaving Las Vegas (1995)       |[drama, romance]                        |\n",
      "|789    |475     |Trainspotting (1996)           |[drama]                                 |\n",
      "|789    |741     |Last Supper, The (1995)        |[drama, thriller]                       |\n",
      "|789    |93      |Welcome to the Dollhouse (1995)|[comedy, drama]                         |\n",
      "+-------+--------+-------------------------------+----------------------------------------+\n",
      "\n"
     ]
    }
   ],
   "source": [
    "# Top 10 movies rated by user 789\n",
    "print('Top 10 Rated Movies by User 789:')\n",
    "spark.sql(strip_margin(\n",
    "                    \"\"\"SELECT r.user_id, r.movie_id, m.title, sql_udf_combine_genres(array(unknown, action, adventure, animation, childrens, comedy, crime, documentary, drama, fantasy, filmnoir, horror, musical, mystery, romance, scifi, thriller, war, western)) as genres\n",
    "                      |FROM movie_ratings r, movies m\n",
    "                      |WHERE r.user_id = 789\n",
    "                      |AND r.movie_id = m.movie_id\n",
    "                      |ORDER BY r.rating DESC, r.movie_id \n",
    "                      |LIMIT 10\n",
    "                    \"\"\")).show(truncate=False)"
   ]
  },
  {
   "cell_type": "markdown",
   "metadata": {},
   "source": [
    "Comparing the Recommendations with the Movies that the user already Rated with high rating it appears he likes movies around 1995 time frame and of genre Drama."
   ]
  },
  {
   "cell_type": "code",
   "execution_count": 72,
   "metadata": {
    "collapsed": true
   },
   "outputs": [],
   "source": [
    "spark.stop()"
   ]
  },
  {
   "cell_type": "code",
   "execution_count": null,
   "metadata": {
    "collapsed": true
   },
   "outputs": [],
   "source": []
  }
 ],
 "metadata": {
  "kernelspec": {
   "display_name": "Python 3",
   "language": "python",
   "name": "python3"
  },
  "language_info": {
   "codemirror_mode": {
    "name": "ipython",
    "version": 3
   },
   "file_extension": ".py",
   "mimetype": "text/x-python",
   "name": "python",
   "nbconvert_exporter": "python",
   "pygments_lexer": "ipython3",
   "version": "3.5.3"
  }
 },
 "nbformat": 4,
 "nbformat_minor": 1
}
