{
 "cells": [
  {
   "cell_type": "code",
   "execution_count": 10,
   "metadata": {},
   "outputs": [
    {
     "data": {
      "text/html": [
       "<ul>\n",
       "<li><a href=\"Some(http://ip-172-30-5-82.ec2.internal:4040)\" target=\"new_tab\">Spark UI: local-1521596555794</a></li>\n",
       "</ul>"
      ],
      "text/plain": [
       "Spark local-1521596555794: Some(http://ip-172-30-5-82.ec2.internal:4040)"
      ]
     },
     "execution_count": 10,
     "metadata": {},
     "output_type": "execute_result"
    }
   ],
   "source": [
    "spark"
   ]
  },
  {
   "cell_type": "code",
   "execution_count": 11,
   "metadata": {},
   "outputs": [
    {
     "name": "stdout",
     "output_type": "stream",
     "text": [
      "Pi is roughly 3.6\n"
     ]
    },
    {
     "data": {
      "text/plain": [
       "NUM_SAMPLES = 10\n",
       "count = 9\n"
      ]
     },
     "metadata": {},
     "output_type": "display_data"
    },
    {
     "data": {
      "text/plain": [
       "9"
      ]
     },
     "execution_count": 11,
     "metadata": {},
     "output_type": "execute_result"
    }
   ],
   "source": [
    "val NUM_SAMPLES = 10\n",
    "val count = sc.parallelize(1 to NUM_SAMPLES).filter { _ =>\n",
    "  val x = math.random\n",
    "  val y = math.random\n",
    "  x*x + y*y < 1\n",
    "}.count()\n",
    "println(s\"Pi is roughly ${4.0 * count / NUM_SAMPLES}\")"
   ]
  },
  {
   "cell_type": "code",
   "execution_count": 12,
   "metadata": {},
   "outputs": [
    {
     "data": {
      "text/plain": [
       "Map(spark.driver.host -> ip-172-30-5-82.ec2.internal, spark.driver.port -> 33346, spark.repl.class.uri -> spark://ip-172-30-5-82.ec2.internal:33346/classes, spark.jars -> file:/usr/local/share/jupyter/kernels/apache_toree_scala/lib/toree-assembly-0.3.0.dev1-incubating-SNAPSHOT.jar, spark.repl.class.outputDir -> /tmp/spark-f924203f-d493-4a03-b09d-77c0e7cca770/repl-f579f324-32ba-4f38-9ebd-969e7b156dcb, spark.app.name -> Apache Toree, spark.executor.id -> driver, spark.submit.deployMode -> client, spark.master -> local[*], spark.app.id -> local-1521596555794)"
      ]
     },
     "execution_count": 12,
     "metadata": {},
     "output_type": "execute_result"
    }
   ],
   "source": [
    "spark.conf.getAll"
   ]
  },
  {
   "cell_type": "code",
   "execution_count": 9,
   "metadata": {
    "collapsed": true
   },
   "outputs": [],
   "source": [
    "spark.stop()"
   ]
  },
  {
   "cell_type": "code",
   "execution_count": null,
   "metadata": {
    "collapsed": true
   },
   "outputs": [],
   "source": []
  }
 ],
 "metadata": {
  "kernelspec": {
   "display_name": "Apache Toree - Scala",
   "language": "scala",
   "name": "apache_toree_scala"
  },
  "language_info": {
   "codemirror_mode": "text/x-scala",
   "file_extension": ".scala",
   "mimetype": "text/x-scala",
   "name": "scala",
   "pygments_lexer": "scala",
   "version": "2.11.8"
  }
 },
 "nbformat": 4,
 "nbformat_minor": 2
}
