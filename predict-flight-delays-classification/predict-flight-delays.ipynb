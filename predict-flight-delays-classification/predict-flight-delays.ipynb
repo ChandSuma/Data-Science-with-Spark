{
 "cells": [
  {
   "cell_type": "markdown",
   "metadata": {},
   "source": [
    "# Predicting Flight Delays with Apache Spark\n",
    "\n",
    "## CLASSIFICATION\n",
    "\n",
    "The original Scala based tutorial on Zeppelin Notebooks is at https://mapr.com/blog/fast-data-processing-pipeline-predicting-flight-delays-using-apache-apis-pt-1/. I have coverted them to Python and also configured to run the codes on Jupter Notebooks with Pyspark 2.2 and used the Jupyter Notebook to render visualization and added more stuffs.\n",
    "\n",
    "Classification is a family of supervised machine learning algorithms that identify which category an item belongs to (e.g., whether a transaction is fraud or not fraud), based on labeled examples of known items (e.g., transactions known to be fraud or not). Classification takes a set of data with known labels and pre-determined features and learns how to label new records based on that information. Features are the “if questions” that you ask. The label is the answer to those questions.\n",
    "\n",
    "**DECISION TREES**\n",
    "\n",
    "Decision trees create a model that predicts the label (or class) by evaluating a set of rules that follow an IF THEN ELSE…pattern. The If then ELSE feature questions are the nodes, and the answers True or false are the branches in the tree to the child nodes. A decision tree model estimates the minimum number of true/false questions needed, to assess the probability of making a correct decision. Below is an example of a simplified decision tree for flight delays:\n",
    "\n",
    "+ Q1: If the scheduled departure time < 10:15 AM\n",
    "    - T:Q2: If the originating airport is in the set {ORD, ATL,SFO}\n",
    "        - T:Q3: If the day of the week is in {Monday, Sunday}\n",
    "            - T:Delayed=1\n",
    "            - F: Delayed=0\n",
    "        - F: Q3: If the destination airport is in the set {SFO,ORD,EWR}\n",
    "            - T: Delayed=1\n",
    "            - F: Delayed=0\n",
    "    - F :Q2: If the originating airport is not in the set {BOS . MIA}\n",
    "        - T:Q3: If the day of the week is in the set {Monday , Sunday}\n",
    "            - T: Delayed=1\n",
    "            - F: Delayed=0\n",
    "        - F: Q3: If the destination airport is not in the set {BOS . MIA}\n",
    "            - T: Delayed=1\n",
    "            - F: Delayed=0"
   ]
  },
  {
   "cell_type": "markdown",
   "metadata": {},
   "source": [
    "**How to Configure Jupter Notebook to run Spark 2.2:**\n",
    "```\n",
    "1. Create an Anaconda environment 'pyspark'\n",
    "2. !pip install pyspark (this package will directly communicate with Spark)\n",
    "3. Install Spark in your machine (from here: https://spark.apache.org/downloads.html). I installed spark-2.2.0-bin-hadoop2.6.tgz\n",
    "4. In your .bash_profile set the following\n",
    "    export SPARK_HOME=/Users/anindyas/work/spark-2.2.0-bin-hadoop2.6\n",
    "    PATH=$SPARK_HOME/bin:$PATH\n",
    "    export PATH\n",
    "\n",
    "    export PATH=\"/Users/anindyas/anaconda/envs/pyspark/bin:$PATH\"\n",
    "    \n",
    "    There is further better way to set the environment variables for anaconda but for now it is fine.\n",
    "5. Switch to pyspark anaconda environment and start the jupyter notebook from that environment.\n",
    "```"
   ]
  },
  {
   "cell_type": "markdown",
   "metadata": {},
   "source": [
    "## 1. Understanding the Data Set\n",
    "\n",
    "Our data is from http://www.transtats.bts.gov/DL_SelectFields.asp?Table_ID=236&DB_Short_Name=On-Time. We are using flight information for January, February, March, April and May 2017. For each flight, we have the following information.\n",
    "\n",
    "<p style=\"text-align: justify;\"></p>\n",
    "<pre><strong>_id:</strong>Unique identifier: composed of carrier code, date, origin, destination, flight number(e.g. AA_2017-02-22_SFO_ORD_150)\n",
    "<strong>dofW (Integer):</strong> &nbsp;   Day of week (1=Monday 7=Sunday) (e.g. 1)\n",
    "<strong>carrier (String):</strong>    Carrier code (e.g. AA)\n",
    "<strong>origin(String):</strong> Origin Airport Code (e.g. JFK)\n",
    "<strong>dest(String):</strong>&nbsp;   Destination airport code (e.g. LAX)\n",
    "<strong>crsdephour(Integer):</strong>       Scheduled departure hour (e.g. 9)\n",
    "<strong>crsdeptime(Double):</strong>      Scheduled departure time (e.g. 900.0)\n",
    "<strong>depdelay (Double):</strong>   Departure delay in minutes (e.g. 40.0)\n",
    "<strong>crsarrtime (Double):</strong>  Scheduled arrival time (e.g. 1230.0)\n",
    "<strong>arrdelay (Double):</strong>  Arrival delay minutes (e.g. 40.0)\n",
    "<strong>crselapsedtime (Double)\t:</strong>  Elapsed time (e.g. 390.0)\n",
    "<strong>dist (Double):</strong>  Distance (e.g. 2475.0)\n",
    "</pre>\n",
    "\n",
    "The data is already cleaned up, limited the number of airports and carriers, and transformed the data into 2 JSON files, one for training and one for testing. The JSON file has the following format:\n",
    "\n",
    "<pre>\n",
    "{\n",
    "    \"_id\": \"AA_2017-01-01_ATL_LGA_1678\",\n",
    "    \"dofW\": 7,\n",
    "    \"carrier\": \"AA\",\n",
    "    \"origin\": \"ATL\",\n",
    "    \"dest\": \"LGA\",\n",
    "    \"crsdephour\": 17,\n",
    "    \"crsdeptime\": 1700,\n",
    "    \"depdelay\": 0.0,\n",
    "    \"crsarrtime\": 1912,\n",
    "    \"arrdelay\": 0.0,\n",
    "    \"crselapsedtime\": 132.0,\n",
    "    \"dist\": 762.0\n",
    "}\n",
    "</pre>"
   ]
  },
  {
   "cell_type": "code",
   "execution_count": 1,
   "metadata": {
    "collapsed": true
   },
   "outputs": [],
   "source": [
    "import os\n",
    "import pandas as pd\n",
    "import numpy as np\n",
    "\n",
    "from pyspark import SparkConf, SparkContext\n",
    "from pyspark.sql import SparkSession, SQLContext\n",
    "\n",
    "from pyspark.sql.types import *\n",
    "from pyspark.sql.functions import udf, col\n",
    "\n",
    "from pyspark.ml import Pipeline, PipelineModel\n",
    "from pyspark.ml.tuning import ParamGridBuilder, CrossValidator, CrossValidatorModel\n",
    "from pyspark.ml.feature import Bucketizer, StringIndexer, OneHotEncoder, VectorAssembler\n",
    "from pyspark.ml.evaluation import BinaryClassificationEvaluator, MulticlassClassificationEvaluator\n",
    "\n",
    "from pyspark.mllib.evaluation import MulticlassMetrics"
   ]
  },
  {
   "cell_type": "code",
   "execution_count": 2,
   "metadata": {
    "collapsed": true
   },
   "outputs": [],
   "source": [
    "import seaborn as sns\n",
    "import matplotlib.pyplot as plt"
   ]
  },
  {
   "cell_type": "code",
   "execution_count": 3,
   "metadata": {
    "collapsed": true
   },
   "outputs": [],
   "source": [
    "# Visualization\n",
    "from IPython.core.interactiveshell import InteractiveShell\n",
    "InteractiveShell.ast_node_interactivity = \"all\"\n",
    "\n",
    "pd.set_option('display.max_columns', 200)\n",
    "pd.set_option('display.max_colwidth', 400)\n",
    "\n",
    "from matplotlib import rcParams\n",
    "sns.set(context='notebook', style='whitegrid', rc={'figure.figsize': (18,4)})\n",
    "rcParams['figure.figsize'] = 18,4\n",
    "\n",
    "%matplotlib inline\n",
    "%config InlineBackend.figure_format = 'retina'"
   ]
  },
  {
   "cell_type": "code",
   "execution_count": 4,
   "metadata": {
    "collapsed": true
   },
   "outputs": [],
   "source": [
    "# setting random seed for notebook reproducability\n",
    "rnd_seed=36\n",
    "np.random.seed=rnd_seed\n",
    "np.random.set_state=rnd_seed"
   ]
  },
  {
   "cell_type": "markdown",
   "metadata": {},
   "source": [
    "## 2. Creating the Spark Session"
   ]
  },
  {
   "cell_type": "code",
   "execution_count": 5,
   "metadata": {
    "collapsed": true
   },
   "outputs": [],
   "source": [
    "# The following must be set in your .bashrc file\n",
    "#SPARK_HOME=\"/home/ubuntu/spark-2.4.0-bin-hadoop2.7\"\n",
    "#ANACONDA_HOME=\"/home/ubuntu/anaconda3/envs/pyspark\"\n",
    "#PYSPARK_PYTHON=\"$ANACONDA_HOME/bin/python\"\n",
    "#PYSPARK_DRIVER_PYTHON=\"$ANACONDA_HOME/bin/python\"\n",
    "#PYTHONPATH=\"$ANACONDA_HOME/bin/python\"\n",
    "#export PATH=\"$ANACONDA_HOME/bin:$SPARK_HOME/bin:$PATH\""
   ]
  },
  {
   "cell_type": "code",
   "execution_count": 6,
   "metadata": {},
   "outputs": [
    {
     "data": {
      "text/plain": [
       "'/home/ubuntu/spark-2.4.0-bin-hadoop2.7'"
      ]
     },
     "execution_count": 6,
     "metadata": {},
     "output_type": "execute_result"
    }
   ],
   "source": [
    "os.environ['SPARK_HOME']"
   ]
  },
  {
   "cell_type": "code",
   "execution_count": 7,
   "metadata": {},
   "outputs": [
    {
     "data": {
      "text/html": [
       "\n",
       "            <div>\n",
       "                <p><b>SparkSession - in-memory</b></p>\n",
       "                \n",
       "        <div>\n",
       "            <p><b>SparkContext</b></p>\n",
       "\n",
       "            <p><a href=\"http://ip-172-30-2-158.ec2.internal:4041\">Spark UI</a></p>\n",
       "\n",
       "            <dl>\n",
       "              <dt>Version</dt>\n",
       "                <dd><code>v2.4.0</code></dd>\n",
       "              <dt>Master</dt>\n",
       "                <dd><code>local[*]</code></dd>\n",
       "              <dt>AppName</dt>\n",
       "                <dd><code>predict-flight-delays</code></dd>\n",
       "            </dl>\n",
       "        </div>\n",
       "        \n",
       "            </div>\n",
       "        "
      ],
      "text/plain": [
       "<pyspark.sql.session.SparkSession at 0x7f35b6912cc0>"
      ]
     },
     "execution_count": 7,
     "metadata": {},
     "output_type": "execute_result"
    }
   ],
   "source": [
    "spark = (SparkSession\n",
    "         .builder\n",
    "         .master(\"local[*]\")\n",
    "         .appName(\"predict-flight-delays\")\n",
    "         .getOrCreate())\n",
    "spark"
   ]
  },
  {
   "cell_type": "code",
   "execution_count": 8,
   "metadata": {},
   "outputs": [
    {
     "data": {
      "text/html": [
       "\n",
       "            <div>\n",
       "                <p><b>SparkSession - in-memory</b></p>\n",
       "                \n",
       "        <div>\n",
       "            <p><b>SparkContext</b></p>\n",
       "\n",
       "            <p><a href=\"http://ip-172-30-2-158.ec2.internal:4041\">Spark UI</a></p>\n",
       "\n",
       "            <dl>\n",
       "              <dt>Version</dt>\n",
       "                <dd><code>v2.4.0</code></dd>\n",
       "              <dt>Master</dt>\n",
       "                <dd><code>local[*]</code></dd>\n",
       "              <dt>AppName</dt>\n",
       "                <dd><code>predict-flight-delays</code></dd>\n",
       "            </dl>\n",
       "        </div>\n",
       "        \n",
       "            </div>\n",
       "        "
      ],
      "text/plain": [
       "<pyspark.sql.session.SparkSession at 0x7f35b6912cc0>"
      ]
     },
     "execution_count": 8,
     "metadata": {},
     "output_type": "execute_result"
    }
   ],
   "source": [
    "spark"
   ]
  },
  {
   "cell_type": "code",
   "execution_count": 9,
   "metadata": {},
   "outputs": [
    {
     "data": {
      "text/html": [
       "\n",
       "        <div>\n",
       "            <p><b>SparkContext</b></p>\n",
       "\n",
       "            <p><a href=\"http://ip-172-30-2-158.ec2.internal:4041\">Spark UI</a></p>\n",
       "\n",
       "            <dl>\n",
       "              <dt>Version</dt>\n",
       "                <dd><code>v2.4.0</code></dd>\n",
       "              <dt>Master</dt>\n",
       "                <dd><code>local[*]</code></dd>\n",
       "              <dt>AppName</dt>\n",
       "                <dd><code>predict-flight-delays</code></dd>\n",
       "            </dl>\n",
       "        </div>\n",
       "        "
      ],
      "text/plain": [
       "<SparkContext master=local[*] appName=predict-flight-delays>"
      ]
     },
     "execution_count": 9,
     "metadata": {},
     "output_type": "execute_result"
    }
   ],
   "source": [
    "sc = spark.sparkContext\n",
    "sc"
   ]
  },
  {
   "cell_type": "code",
   "execution_count": 10,
   "metadata": {},
   "outputs": [
    {
     "data": {
      "text/plain": [
       "<pyspark.sql.context.SQLContext at 0x7f35b691cac8>"
      ]
     },
     "execution_count": 10,
     "metadata": {},
     "output_type": "execute_result"
    }
   ],
   "source": [
    "sqlContext = SQLContext(spark.sparkContext)\n",
    "sqlContext"
   ]
  },
  {
   "cell_type": "markdown",
   "metadata": {},
   "source": [
    "## 3. Load The Data From a File Into a Dataframe"
   ]
  },
  {
   "cell_type": "code",
   "execution_count": 11,
   "metadata": {
    "collapsed": true
   },
   "outputs": [],
   "source": [
    "FLIGHTS_TRAIN_DATA = 'data/flights20170102.json'\n",
    "FLIGHTS_TEST_DATA = 'data/flights20170304.json'"
   ]
  },
  {
   "cell_type": "markdown",
   "metadata": {},
   "source": [
    "Below we specify the data source, schema and class to load into a Dataset. We load the data from January and February, which we will use for training the model. (Note that specifying the schema when loading data into a DataFrame will give better performance than schema inference)."
   ]
  },
  {
   "cell_type": "code",
   "execution_count": 12,
   "metadata": {
    "collapsed": true
   },
   "outputs": [],
   "source": [
    "# define the schema, corresponding to a line in the JSON data file.\n",
    "schema = StructType([\n",
    "    StructField(\"_id\", StringType(), nullable=True),\n",
    "    StructField(\"dofW\", IntegerType(), nullable=True),\n",
    "    StructField(\"carrier\", StringType(), nullable=True),\n",
    "    StructField(\"origin\", StringType(), nullable=True),\n",
    "    StructField(\"dest\", StringType(), nullable=True),\n",
    "    StructField(\"crsdephour\", IntegerType(), nullable=True),\n",
    "    StructField(\"crsdeptime\", DoubleType(), nullable=True),\n",
    "    StructField(\"depdelay\", DoubleType(), nullable=True),\n",
    "    StructField(\"crsarrtime\", DoubleType(), nullable=True),\n",
    "    StructField(\"arrdelay\", DoubleType(), nullable=True),\n",
    "    StructField(\"crselapsedtime\", DoubleType(), nullable=True),\n",
    "    StructField(\"dist\", DoubleType(), nullable=True)]\n",
    "  )"
   ]
  },
  {
   "cell_type": "code",
   "execution_count": 13,
   "metadata": {},
   "outputs": [
    {
     "data": {
      "text/plain": [
       "DataFrame[_id: string, dofW: int, carrier: string, origin: string, dest: string, crsdephour: int, crsdeptime: double, depdelay: double, crsarrtime: double, arrdelay: double, crselapsedtime: double, dist: double]"
      ]
     },
     "execution_count": 13,
     "metadata": {},
     "output_type": "execute_result"
    }
   ],
   "source": [
    "# Load training data\n",
    "train_df = spark.read.json(path=FLIGHTS_TRAIN_DATA, schema=schema)\n",
    "train_df.cache()"
   ]
  },
  {
   "cell_type": "code",
   "execution_count": 14,
   "metadata": {},
   "outputs": [
    {
     "data": {
      "text/plain": [
       "41348"
      ]
     },
     "execution_count": 14,
     "metadata": {},
     "output_type": "execute_result"
    }
   ],
   "source": [
    "# How many training rows\n",
    "train_df.count()"
   ]
  },
  {
   "cell_type": "code",
   "execution_count": 15,
   "metadata": {},
   "outputs": [
    {
     "name": "stdout",
     "output_type": "stream",
     "text": [
      "+--------------------+----+-------+------+----+----------+----------+--------+----------+--------+--------------+------+\n",
      "|                 _id|dofW|carrier|origin|dest|crsdephour|crsdeptime|depdelay|crsarrtime|arrdelay|crselapsedtime|  dist|\n",
      "+--------------------+----+-------+------+----+----------+----------+--------+----------+--------+--------------+------+\n",
      "|AA_2017-01-01_ATL...|   7|     AA|   ATL| LGA|        17|    1700.0|     0.0|    1912.0|     0.0|         132.0| 762.0|\n",
      "|AA_2017-01-01_LGA...|   7|     AA|   LGA| ATL|        13|    1343.0|     0.0|    1620.0|     0.0|         157.0| 762.0|\n",
      "|AA_2017-01-01_MIA...|   7|     AA|   MIA| ATL|         9|     939.0|     0.0|    1137.0|    10.0|         118.0| 594.0|\n",
      "|AA_2017-01-01_ORD...|   7|     AA|   ORD| MIA|        20|    2020.0|     0.0|      26.0|     0.0|         186.0|1197.0|\n",
      "|AA_2017-01-01_LGA...|   7|     AA|   LGA| MIA|         7|     700.0|     0.0|    1017.0|     0.0|         197.0|1096.0|\n",
      "+--------------------+----+-------+------+----+----------+----------+--------+----------+--------+--------------+------+\n",
      "only showing top 5 rows\n",
      "\n"
     ]
    }
   ],
   "source": [
    "train_df.show(5)"
   ]
  },
  {
   "cell_type": "markdown",
   "metadata": {},
   "source": [
    "Here we load data from March and April which we will use for testing the model:"
   ]
  },
  {
   "cell_type": "code",
   "execution_count": 16,
   "metadata": {},
   "outputs": [
    {
     "data": {
      "text/plain": [
       "DataFrame[_id: string, dofW: int, carrier: string, origin: string, dest: string, crsdephour: int, crsdeptime: double, depdelay: double, crsarrtime: double, arrdelay: double, crselapsedtime: double, dist: double]"
      ]
     },
     "execution_count": 16,
     "metadata": {},
     "output_type": "execute_result"
    }
   ],
   "source": [
    "# Load testing data\n",
    "test_df = spark.read.json(path=FLIGHTS_TEST_DATA, schema=schema)\n",
    "test_df.cache()"
   ]
  },
  {
   "cell_type": "code",
   "execution_count": 17,
   "metadata": {},
   "outputs": [
    {
     "data": {
      "text/plain": [
       "45448"
      ]
     },
     "execution_count": 17,
     "metadata": {},
     "output_type": "execute_result"
    }
   ],
   "source": [
    "# How many testing rows\n",
    "test_df.count()"
   ]
  },
  {
   "cell_type": "code",
   "execution_count": 18,
   "metadata": {},
   "outputs": [
    {
     "name": "stdout",
     "output_type": "stream",
     "text": [
      "+--------------------+----+-------+------+----+----------+----------+--------+----------+--------+--------------+------+\n",
      "|                 _id|dofW|carrier|origin|dest|crsdephour|crsdeptime|depdelay|crsarrtime|arrdelay|crselapsedtime|  dist|\n",
      "+--------------------+----+-------+------+----+----------+----------+--------+----------+--------+--------------+------+\n",
      "|WN_2017-03-01_ATL...|   3|     WN|   ATL| BOS|         9|     930.0|     0.0|    1155.0|     0.0|         145.0| 946.0|\n",
      "|WN_2017-03-01_ATL...|   3|     WN|   ATL| BOS|        19|    1935.0|   243.0|    2215.0|   210.0|         160.0| 946.0|\n",
      "|WN_2017-03-01_ATL...|   3|     WN|   ATL| BOS|        12|    1235.0|    11.0|    1505.0|     0.0|         150.0| 946.0|\n",
      "|WN_2017-03-01_ATL...|   3|     WN|   ATL| DEN|        10|    1035.0|    28.0|    1200.0|    59.0|         205.0|1199.0|\n",
      "|WN_2017-03-01_ATL...|   3|     WN|   ATL| DEN|        13|    1330.0|    16.0|    1450.0|    29.0|         200.0|1199.0|\n",
      "+--------------------+----+-------+------+----+----------+----------+--------+----------+--------+--------------+------+\n",
      "only showing top 5 rows\n",
      "\n"
     ]
    }
   ],
   "source": [
    "test_df.show(5)"
   ]
  },
  {
   "cell_type": "markdown",
   "metadata": {},
   "source": [
    "**Drop the \\_id column, not required for analysis:**"
   ]
  },
  {
   "cell_type": "code",
   "execution_count": 19,
   "metadata": {
    "collapsed": true
   },
   "outputs": [],
   "source": [
    "train_df = train_df.drop(\"_id\")\n",
    "test_df = test_df.drop(\"_id\")"
   ]
  },
  {
   "cell_type": "code",
   "execution_count": 20,
   "metadata": {},
   "outputs": [
    {
     "data": {
      "text/plain": [
       "DataFrame[dofW: int, carrier: string, origin: string, dest: string, crsdephour: int, crsdeptime: double, depdelay: double, crsarrtime: double, arrdelay: double, crselapsedtime: double, dist: double]"
      ]
     },
     "execution_count": 20,
     "metadata": {},
     "output_type": "execute_result"
    },
    {
     "data": {
      "text/plain": [
       "DataFrame[dofW: int, carrier: string, origin: string, dest: string, crsdephour: int, crsdeptime: double, depdelay: double, crsarrtime: double, arrdelay: double, crselapsedtime: double, dist: double]"
      ]
     },
     "execution_count": 20,
     "metadata": {},
     "output_type": "execute_result"
    }
   ],
   "source": [
    "train_df.cache()\n",
    "test_df.cache()"
   ]
  },
  {
   "cell_type": "markdown",
   "metadata": {},
   "source": [
    "### Summary Statistics\n",
    "\n",
    "Spark DataFrames include some built-in functions for statistical processing. The describe() function performs summary statistics calculations on all numeric columns and returns them as a DataFrame."
   ]
  },
  {
   "cell_type": "code",
   "execution_count": 21,
   "metadata": {},
   "outputs": [
    {
     "name": "stdout",
     "output_type": "stream",
     "text": [
      "+-------+------------------+------------------+------------------+------------------+\n",
      "|summary|              dist|    crselapsedtime|          depdelay|          arrdelay|\n",
      "+-------+------------------+------------------+------------------+------------------+\n",
      "|  count|             41348|             41348|             41348|             41348|\n",
      "|   mean|1111.0529167069749|186.26264873754474|15.018719164167553|14.806907226468027|\n",
      "| stddev| 568.7941212507535| 68.38149648990024|44.529632044361385|44.223705132666396|\n",
      "|    min|             184.0|              64.0|               0.0|               0.0|\n",
      "|    max|            2704.0|             423.0|            1440.0|            1442.0|\n",
      "+-------+------------------+------------------+------------------+------------------+\n",
      "\n"
     ]
    }
   ],
   "source": [
    "train_df.describe([\"dist\", \"crselapsedtime\", \"depdelay\", \"arrdelay\"]).show()"
   ]
  },
  {
   "cell_type": "markdown",
   "metadata": {},
   "source": [
    "## 4. Data Exploration\n",
    "\n",
    "We can use Spark SQL to explore the dataset. Here are some example queries using the Spark SQL. We will also replicate the same results that we get using Spark SQL by calling the Spark Dataframe APIs directly."
   ]
  },
  {
   "cell_type": "markdown",
   "metadata": {},
   "source": [
    "### 4.1 Register Dataset as a Temporary View in order to explore with SQL"
   ]
  },
  {
   "cell_type": "code",
   "execution_count": 22,
   "metadata": {
    "collapsed": true
   },
   "outputs": [],
   "source": [
    "train_df.createOrReplaceTempView(\"train_flights\")"
   ]
  },
  {
   "cell_type": "code",
   "execution_count": 23,
   "metadata": {
    "collapsed": true
   },
   "outputs": [],
   "source": [
    "import re\n",
    "\n",
    "def strip_margin(text):\n",
    "    nomargin = re.sub('\\n[ \\t]*\\|', ' ', text)\n",
    "    trimmed = re.sub('\\s+', ' ', nomargin)\n",
    "    return trimmed"
   ]
  },
  {
   "cell_type": "code",
   "execution_count": 24,
   "metadata": {},
   "outputs": [
    {
     "name": "stdout",
     "output_type": "stream",
     "text": [
      "I was reading a book \"Programming Scala\" and noticed that there is stripMargin method in RichString class in Scala. It's damn useful.\n"
     ]
    }
   ],
   "source": [
    "print(strip_margin(\n",
    "\"\"\"I was reading a book \"Programming Scala\" and\n",
    "  |noticed that there is stripMargin method in\n",
    "  |RichString class in Scala.\n",
    "  |\n",
    "  |It's damn useful.\"\"\"))"
   ]
  },
  {
   "cell_type": "markdown",
   "metadata": {},
   "source": [
    "### 4.2 Top 5 longest departure delays"
   ]
  },
  {
   "cell_type": "code",
   "execution_count": 25,
   "metadata": {
    "collapsed": true
   },
   "outputs": [],
   "source": [
    "# Top 5 longest departure delays using SQL\n",
    "sql_result_df = spark.sql(strip_margin(\n",
    "                        \"\"\"SELECT carrier, origin, dest, depdelay, crsdephour, dist, dofW\n",
    "                          |FROM train_flights\n",
    "                          |ORDER BY depdelay DESC LIMIT 5\n",
    "                        \"\"\"))"
   ]
  },
  {
   "cell_type": "code",
   "execution_count": 26,
   "metadata": {},
   "outputs": [
    {
     "name": "stdout",
     "output_type": "stream",
     "text": [
      "+-------+------+----+--------+----------+------+----+\n",
      "|carrier|origin|dest|depdelay|crsdephour|  dist|dofW|\n",
      "+-------+------+----+--------+----------+------+----+\n",
      "|     AA|   SFO| ORD|  1440.0|         8|1846.0|   3|\n",
      "|     DL|   BOS| ATL|  1185.0|        17| 946.0|   6|\n",
      "|     UA|   DEN| EWR|  1138.0|        12|1605.0|   4|\n",
      "|     DL|   ORD| ATL|  1087.0|        19| 606.0|   7|\n",
      "|     UA|   MIA| EWR|  1072.0|        20|1085.0|   1|\n",
      "+-------+------+----+--------+----------+------+----+\n",
      "\n"
     ]
    }
   ],
   "source": [
    "sql_result_df.show()"
   ]
  },
  {
   "cell_type": "code",
   "execution_count": 27,
   "metadata": {},
   "outputs": [
    {
     "name": "stdout",
     "output_type": "stream",
     "text": [
      "+-------+------+----+--------+----------+------+----+\n",
      "|carrier|origin|dest|depdelay|crsdephour|  dist|dofW|\n",
      "+-------+------+----+--------+----------+------+----+\n",
      "|     AA|   SFO| ORD|  1440.0|         8|1846.0|   3|\n",
      "|     DL|   BOS| ATL|  1185.0|        17| 946.0|   6|\n",
      "|     UA|   DEN| EWR|  1138.0|        12|1605.0|   4|\n",
      "|     DL|   ORD| ATL|  1087.0|        19| 606.0|   7|\n",
      "|     UA|   MIA| EWR|  1072.0|        20|1085.0|   1|\n",
      "+-------+------+----+--------+----------+------+----+\n",
      "\n"
     ]
    }
   ],
   "source": [
    "# Top 5 longest departure delays programmatically\n",
    "(train_df\n",
    "    .select([\"carrier\", \"origin\", \"dest\", \"depdelay\", \"crsdephour\", \"dist\", \"dofW\"])\n",
    "    .orderBy([\"depdelay\"], ascending=[0]).limit(5)).show()"
   ]
  },
  {
   "cell_type": "markdown",
   "metadata": {},
   "source": [
    "### 4.3 Average Departure Delay by Carrier"
   ]
  },
  {
   "cell_type": "code",
   "execution_count": 28,
   "metadata": {},
   "outputs": [
    {
     "data": {
      "text/plain": [
       "DataFrame[carrier: string, avg(depdelay): double]"
      ]
     },
     "execution_count": 28,
     "metadata": {},
     "output_type": "execute_result"
    }
   ],
   "source": [
    "# Average Departure Delay by Carrier using SQL\n",
    "sql_result_df = spark.sql(strip_margin(\n",
    "                        \"\"\"SELECT carrier, avg(depdelay) \n",
    "                          |FROM train_flights \n",
    "                          |GROUP BY carrier\n",
    "                        \"\"\"))\n",
    "sql_result_df.cache()"
   ]
  },
  {
   "cell_type": "code",
   "execution_count": 29,
   "metadata": {},
   "outputs": [
    {
     "name": "stdout",
     "output_type": "stream",
     "text": [
      "+-------+------------------+\n",
      "|carrier|     avg(depdelay)|\n",
      "+-------+------------------+\n",
      "|     UA|17.477878450696764|\n",
      "|     AA| 10.45768118831622|\n",
      "|     DL|15.316061660865241|\n",
      "|     WN|13.491000418585182|\n",
      "+-------+------------------+\n",
      "\n"
     ]
    }
   ],
   "source": [
    "sql_result_df.show()"
   ]
  },
  {
   "cell_type": "code",
   "execution_count": 30,
   "metadata": {},
   "outputs": [
    {
     "data": {
      "image/png": "[encoded data removed]",
      "text/plain": [
       "<matplotlib.figure.Figure at 0x7f35b5ebccc0>"
      ]
     },
     "metadata": {
      "image/png": {
       "height": 270,
       "width": 378
      }
     },
     "output_type": "display_data"
    }
   ],
   "source": [
    "sql_result_df.toPandas().plot(kind='bar', x='carrier');"
   ]
  },
  {
   "cell_type": "code",
   "execution_count": 31,
   "metadata": {},
   "outputs": [
    {
     "data": {
      "text/plain": [
       "DataFrame[carrier: string, avg(depdelay): double]"
      ]
     },
     "execution_count": 31,
     "metadata": {},
     "output_type": "execute_result"
    }
   ],
   "source": [
    "sql_result_df.unpersist()"
   ]
  },
  {
   "cell_type": "code",
   "execution_count": 32,
   "metadata": {},
   "outputs": [
    {
     "name": "stdout",
     "output_type": "stream",
     "text": [
      "+-------+------------------+\n",
      "|carrier|     avg(depdelay)|\n",
      "+-------+------------------+\n",
      "|     UA|17.477878450696764|\n",
      "|     AA| 10.45768118831622|\n",
      "|     DL|15.316061660865241|\n",
      "|     WN|13.491000418585182|\n",
      "+-------+------------------+\n",
      "\n"
     ]
    }
   ],
   "source": [
    "# Average Departure Delay by Carrier programmatically\n",
    "(train_df\n",
    "    .select([\"carrier\", \"depdelay\"])\n",
    "    .groupBy([\"carrier\"])\n",
    "    .avg(\"depdelay\")).show()"
   ]
  },
  {
   "cell_type": "markdown",
   "metadata": {},
   "source": [
    "### 4.4 Count of Departure Delays by Carrier (where delay>40 minutes)\n",
    "\n",
    "We want to predict flight delays where depdelay > 40 minutes, so let’s explore this data. Below, we see that United Airlines and Delta have the highest count of flight delays for January and February 2017 (the training set)."
   ]
  },
  {
   "cell_type": "code",
   "execution_count": 33,
   "metadata": {},
   "outputs": [
    {
     "data": {
      "text/plain": [
       "DataFrame[carrier: string, count(depdelay): bigint]"
      ]
     },
     "execution_count": 33,
     "metadata": {},
     "output_type": "execute_result"
    }
   ],
   "source": [
    "# Count of Departure Delays by Carrier (where delay=40 minutes) using SQL\n",
    "sql_result_df = spark.sql(strip_margin(\n",
    "                        \"\"\"SELECT carrier, count(depdelay) \n",
    "                          |FROM train_flights \n",
    "                          |WHERE depdelay > 40 \n",
    "                          |GROUP BY carrier\n",
    "                        \"\"\"))\n",
    "\n",
    "sql_result_df.cache()"
   ]
  },
  {
   "cell_type": "code",
   "execution_count": 34,
   "metadata": {},
   "outputs": [
    {
     "name": "stdout",
     "output_type": "stream",
     "text": [
      "+-------+---------------+\n",
      "|carrier|count(depdelay)|\n",
      "+-------+---------------+\n",
      "|     UA|           2420|\n",
      "|     AA|            757|\n",
      "|     DL|           1043|\n",
      "|     WN|            244|\n",
      "+-------+---------------+\n",
      "\n"
     ]
    }
   ],
   "source": [
    "sql_result_df.show()"
   ]
  },
  {
   "cell_type": "code",
   "execution_count": 35,
   "metadata": {},
   "outputs": [
    {
     "data": {
      "image/png": "[encoded data removed]",
      "text/plain": [
       "<matplotlib.figure.Figure at 0x7f35b58e8780>"
      ]
     },
     "metadata": {
      "image/png": {
       "height": 270,
       "width": 381
      }
     },
     "output_type": "display_data"
    }
   ],
   "source": [
    "sql_result_df.toPandas().plot(kind='bar', x='carrier');"
   ]
  },
  {
   "cell_type": "code",
   "execution_count": 36,
   "metadata": {},
   "outputs": [
    {
     "data": {
      "text/plain": [
       "DataFrame[carrier: string, count(depdelay): bigint]"
      ]
     },
     "execution_count": 36,
     "metadata": {},
     "output_type": "execute_result"
    }
   ],
   "source": [
    "sql_result_df.unpersist()"
   ]
  },
  {
   "cell_type": "code",
   "execution_count": 37,
   "metadata": {},
   "outputs": [
    {
     "name": "stdout",
     "output_type": "stream",
     "text": [
      "+-------+-----+\n",
      "|carrier|count|\n",
      "+-------+-----+\n",
      "|     UA| 2420|\n",
      "|     AA|  757|\n",
      "|     DL| 1043|\n",
      "|     WN|  244|\n",
      "+-------+-----+\n",
      "\n"
     ]
    }
   ],
   "source": [
    "# Count of Departure Delays by Carrier (where delay=40 minutes) programmatically\n",
    "(train_df\n",
    "    .select([\"carrier\", \"depdelay\"])\n",
    "    .where(\"depdelay > 40\")\n",
    "    .groupBy([\"carrier\"])\n",
    "    .count()).show()"
   ]
  },
  {
   "cell_type": "markdown",
   "metadata": {},
   "source": [
    "### 4.5 Count of Departure Delays by Day of the Week (1=Monday, 7=Sunday)\n",
    "\n",
    "In the query below, we see that Monday, Tuesday and Sunday have the highest count of flight delays."
   ]
  },
  {
   "cell_type": "code",
   "execution_count": 38,
   "metadata": {},
   "outputs": [
    {
     "data": {
      "text/plain": [
       "DataFrame[dofW: int, count(depdelay): bigint]"
      ]
     },
     "execution_count": 38,
     "metadata": {},
     "output_type": "execute_result"
    }
   ],
   "source": [
    "### Count of Departure Delays by Day of the Week (where delay=40 minutes) using SQL\n",
    "sql_result_df = spark.sql(strip_margin(\n",
    "                        \"\"\"SELECT dofW, count(depdelay) \n",
    "                          |FROM train_flights \n",
    "                          |WHERE depdelay > 40 \n",
    "                          |GROUP BY dofW \n",
    "                          |ORDER BY dofW\n",
    "                        \"\"\"))\n",
    "\n",
    "sql_result_df.cache()"
   ]
  },
  {
   "cell_type": "code",
   "execution_count": 39,
   "metadata": {
    "scrolled": true
   },
   "outputs": [
    {
     "name": "stdout",
     "output_type": "stream",
     "text": [
      "+----+---------------+\n",
      "|dofW|count(depdelay)|\n",
      "+----+---------------+\n",
      "|   1|            940|\n",
      "|   2|            712|\n",
      "|   3|            482|\n",
      "|   4|            626|\n",
      "|   5|            579|\n",
      "|   6|            424|\n",
      "|   7|            701|\n",
      "+----+---------------+\n",
      "\n"
     ]
    }
   ],
   "source": [
    "sql_result_df.show()"
   ]
  },
  {
   "cell_type": "code",
   "execution_count": 40,
   "metadata": {},
   "outputs": [
    {
     "data": {
      "image/png": "[encoded data removed]",
      "text/plain": [
       "<matplotlib.figure.Figure at 0x7f35b5b75898>"
      ]
     },
     "metadata": {
      "image/png": {
       "height": 259,
       "width": 375
      }
     },
     "output_type": "display_data"
    }
   ],
   "source": [
    "sql_result_df.toPandas().plot(kind='bar', x='dofW');"
   ]
  },
  {
   "cell_type": "markdown",
   "metadata": {},
   "source": [
    "However, we can see that the days are marked as 1, 2, ... ,7 and not Monday, Tuesday, ... ,Sunday. We can develop a UserDefined function to get the custom labels. UDF (User defined functions) and UDAF (User defined aggregate functions) are key components of big data languages such as Pig and Hive. They allow to extend the language constructs to do adhoc processing on distributed dataset. This can be also applied to Spark."
   ]
  },
  {
   "cell_type": "markdown",
   "metadata": {},
   "source": [
    "#### 4.5.1 Create a new weekday column Using a UDF with DataFrame:"
   ]
  },
  {
   "cell_type": "code",
   "execution_count": 41,
   "metadata": {
    "collapsed": true
   },
   "outputs": [],
   "source": [
    "# Map from weekday number to actual weekday string\n",
    "weekday = {1:\"Monday\", 2:\"Tuesday\", 3:\"Wednesday\",  4:\"Thursday\", 5:\"Friday\", 6:\"Saturday\", 7:\"Sunday\"}"
   ]
  },
  {
   "cell_type": "code",
   "execution_count": 42,
   "metadata": {
    "collapsed": true
   },
   "outputs": [],
   "source": [
    "# Define a udf\n",
    "udfdofwToweekday = udf(lambda x: weekday[x], StringType())"
   ]
  },
  {
   "cell_type": "code",
   "execution_count": 43,
   "metadata": {
    "collapsed": true
   },
   "outputs": [],
   "source": [
    "# Instead of a lambda function as in the above cell we could have also defined as a function and registered that as a udf\n",
    "# def dofwToweekday(x):\n",
    "#    return weekday[x]\n",
    "# udfdofwToweekday = udf(dofwToweekday, StringType())"
   ]
  },
  {
   "cell_type": "code",
   "execution_count": 44,
   "metadata": {},
   "outputs": [
    {
     "data": {
      "text/plain": [
       "DataFrame[dofW: int, count(depdelay): bigint, weekday: string]"
      ]
     },
     "execution_count": 44,
     "metadata": {},
     "output_type": "execute_result"
    }
   ],
   "source": [
    "# Create a new column appying the udf\n",
    "sql_result_df = sql_result_df.withColumn(\"weekday\", udfdofwToweekday(\"dofW\"))\n",
    "sql_result_df.cache()"
   ]
  },
  {
   "cell_type": "code",
   "execution_count": 45,
   "metadata": {},
   "outputs": [
    {
     "name": "stdout",
     "output_type": "stream",
     "text": [
      "+----+---------------+---------+\n",
      "|dofW|count(depdelay)|  weekday|\n",
      "+----+---------------+---------+\n",
      "|   1|            940|   Monday|\n",
      "|   2|            712|  Tuesday|\n",
      "|   3|            482|Wednesday|\n",
      "|   4|            626| Thursday|\n",
      "|   5|            579|   Friday|\n",
      "|   6|            424| Saturday|\n",
      "|   7|            701|   Sunday|\n",
      "+----+---------------+---------+\n",
      "\n"
     ]
    }
   ],
   "source": [
    "sql_result_df.show()"
   ]
  },
  {
   "cell_type": "markdown",
   "metadata": {},
   "source": [
    "In the below post we now we can see that days are marked by their respective string names."
   ]
  },
  {
   "cell_type": "code",
   "execution_count": 46,
   "metadata": {},
   "outputs": [
    {
     "data": {
      "image/png": "[encoded data removed]",
      "text/plain": [
       "<matplotlib.figure.Figure at 0x7f35b5ab6c18>"
      ]
     },
     "metadata": {
      "image/png": {
       "height": 311,
       "width": 375
      }
     },
     "output_type": "display_data"
    }
   ],
   "source": [
    "sql_result_df.toPandas()[['weekday', 'count(depdelay)']].plot(kind='bar', x='weekday');"
   ]
  },
  {
   "cell_type": "code",
   "execution_count": 47,
   "metadata": {
    "scrolled": true
   },
   "outputs": [
    {
     "data": {
      "text/plain": [
       "DataFrame[dofW: int, count(depdelay): bigint, weekday: string]"
      ]
     },
     "execution_count": 47,
     "metadata": {},
     "output_type": "execute_result"
    }
   ],
   "source": [
    "sql_result_df.unpersist()"
   ]
  },
  {
   "cell_type": "markdown",
   "metadata": {},
   "source": [
    "#### 4.5.2 Create a new weekday column Using CASE WHEN THEN with SQL:\n",
    "\n",
    "We can achieve the same exact result without using any `udf` but by using `CASE WHEN THEN ELSE` constructs."
   ]
  },
  {
   "cell_type": "code",
   "execution_count": 48,
   "metadata": {},
   "outputs": [
    {
     "name": "stdout",
     "output_type": "stream",
     "text": [
      "+----+---------+---------------+\n",
      "|dofW|  weekday|count(depdelay)|\n",
      "+----+---------+---------------+\n",
      "|   1|   Monday|            940|\n",
      "|   2|  Tuesday|            712|\n",
      "|   3|Wednesday|            482|\n",
      "|   4| Thursday|            626|\n",
      "|   5|   Friday|            579|\n",
      "|   6| Saturday|            424|\n",
      "|   7|   Sunday|            701|\n",
      "+----+---------+---------------+\n",
      "\n"
     ]
    }
   ],
   "source": [
    "spark.sql(strip_margin(\n",
    "        \"\"\"SELECT \n",
    "          |    dofW, \n",
    "          |    CASE\n",
    "          |        WHEN dofW = 1 THEN 'Monday'\n",
    "          |        WHEN dofW = 2 THEN 'Tuesday'\n",
    "          |        WHEN dofW = 3 THEN 'Wednesday'\n",
    "          |        WHEN dofW = 4 THEN 'Thursday'\n",
    "          |        WHEN dofW = 5 THEN 'Friday'\n",
    "          |        WHEN dofW = 6 THEN 'Saturday'\n",
    "          |        WHEN dofW = 7 THEN 'Sunday'\n",
    "          |        ELSE 'Unknown'\n",
    "          |    END as weekday,\n",
    "          |    count(depdelay) \n",
    "          |FROM train_flights \n",
    "          |WHERE depdelay > 40 \n",
    "          |GROUP BY dofW \n",
    "          |ORDER BY dofW\n",
    "        \"\"\")).show()"
   ]
  },
  {
   "cell_type": "markdown",
   "metadata": {},
   "source": [
    "#### 4.5.3 Use a UDF on the DataFrame on the fly to create a new DataFrame with weekday column:"
   ]
  },
  {
   "cell_type": "code",
   "execution_count": 49,
   "metadata": {},
   "outputs": [
    {
     "name": "stdout",
     "output_type": "stream",
     "text": [
      "+----+---------+-----+\n",
      "|dofW|  weekday|count|\n",
      "+----+---------+-----+\n",
      "|   1|   Monday|  940|\n",
      "|   2|  Tuesday|  712|\n",
      "|   3|Wednesday|  482|\n",
      "|   4| Thursday|  626|\n",
      "|   5|   Friday|  579|\n",
      "|   6| Saturday|  424|\n",
      "|   7|   Sunday|  701|\n",
      "+----+---------+-----+\n",
      "\n"
     ]
    }
   ],
   "source": [
    "# Count of Departure Delays by Day of the Week (where delay=40 minutes) programatically\n",
    "# We can replicate same aliasing using programatic syntax\n",
    "(train_df\n",
    "    .select([\"dofW\", udfdofwToweekday(\"dofW\").alias(\"weekday\")])\n",
    "    .where(\"depdelay > 40\")\n",
    "    .groupBy([\"dofW\", \"weekday\"])\n",
    "    .count()\n",
    "    .orderBy([\"dofW\"])).show()"
   ]
  },
  {
   "cell_type": "markdown",
   "metadata": {},
   "source": [
    "#### 4.5.4 Use a UDF with SQL to create a new column weekday:"
   ]
  },
  {
   "cell_type": "code",
   "execution_count": 50,
   "metadata": {},
   "outputs": [
    {
     "data": {
      "text/plain": [
       "<function __main__.<lambda>>"
      ]
     },
     "execution_count": 50,
     "metadata": {},
     "output_type": "execute_result"
    }
   ],
   "source": [
    "# in order to use an udf with sql it needs to be registerd to sqlContext\n",
    "sqlContext.udf.register(\"udfdofwToweekday\", lambda dofW: weekday[dofW], StringType())"
   ]
  },
  {
   "cell_type": "code",
   "execution_count": 51,
   "metadata": {
    "collapsed": true
   },
   "outputs": [],
   "source": [
    "### Count of Departure Delays by Day of the Week (where delay=40 minutes)\n",
    "sql_result_df = spark.sql(strip_margin(\n",
    "                        \"\"\"SELECT dofW, udfdofwToweekday(dofW) as weekday, count(depdelay) \n",
    "                          |FROM train_flights \n",
    "                          |WHERE depdelay > 40 \n",
    "                          |GROUP BY dofW, weekday \n",
    "                          |ORDER BY dofW\n",
    "                        \"\"\"))"
   ]
  },
  {
   "cell_type": "code",
   "execution_count": 52,
   "metadata": {},
   "outputs": [
    {
     "name": "stdout",
     "output_type": "stream",
     "text": [
      "+----+---------+---------------+\n",
      "|dofW|  weekday|count(depdelay)|\n",
      "+----+---------+---------------+\n",
      "|   1|   Monday|            940|\n",
      "|   2|  Tuesday|            712|\n",
      "|   3|Wednesday|            482|\n",
      "|   4| Thursday|            626|\n",
      "|   5|   Friday|            579|\n",
      "|   6| Saturday|            424|\n",
      "|   7|   Sunday|            701|\n",
      "+----+---------+---------------+\n",
      "\n"
     ]
    }
   ],
   "source": [
    "sql_result_df.show()"
   ]
  },
  {
   "cell_type": "markdown",
   "metadata": {},
   "source": [
    "### 4.6 Count of Departure Delays by Hour of Day\n",
    "\n",
    "In the query below, we see that the hours between 13:00-19:00 have the highest count of flight delays."
   ]
  },
  {
   "cell_type": "code",
   "execution_count": 53,
   "metadata": {},
   "outputs": [
    {
     "data": {
      "text/plain": [
       "DataFrame[crsdephour: int, total: bigint]"
      ]
     },
     "execution_count": 53,
     "metadata": {},
     "output_type": "execute_result"
    }
   ],
   "source": [
    "# Count of Departure Delays by Hour of Day using SQL\n",
    "sql_result_df = spark.sql(strip_margin(\n",
    "                        \"\"\"SELECT crsdephour, count(depdelay) as total \n",
    "                          |FROM train_flights \n",
    "                          |WHERE depdelay > 40 \n",
    "                          |GROUP BY crsdephour \n",
    "                          |ORDER BY crsdephour\n",
    "                        \"\"\"))\n",
    "\n",
    "sql_result_df.cache()"
   ]
  },
  {
   "cell_type": "code",
   "execution_count": 54,
   "metadata": {
    "scrolled": false
   },
   "outputs": [
    {
     "name": "stdout",
     "output_type": "stream",
     "text": [
      "+----------+-----+\n",
      "|crsdephour|total|\n",
      "+----------+-----+\n",
      "|         0|    9|\n",
      "|         1|    1|\n",
      "|         5|   15|\n",
      "|         6|   68|\n",
      "|         7|  112|\n",
      "|         8|  190|\n",
      "|         9|  175|\n",
      "|        10|  284|\n",
      "|        11|  280|\n",
      "|        12|  227|\n",
      "+----------+-----+\n",
      "only showing top 10 rows\n",
      "\n"
     ]
    }
   ],
   "source": [
    "sql_result_df.show(10)"
   ]
  },
  {
   "cell_type": "code",
   "execution_count": 55,
   "metadata": {},
   "outputs": [
    {
     "data": {
      "image/png": "[encoded data removed]",
      "text/plain": [
       "<matplotlib.figure.Figure at 0x7f35b56eb2b0>"
      ]
     },
     "metadata": {
      "image/png": {
       "height": 265,
       "width": 375
      }
     },
     "output_type": "display_data"
    }
   ],
   "source": [
    "sql_result_df.toPandas().plot(kind='bar', x='crsdephour');"
   ]
  },
  {
   "cell_type": "code",
   "execution_count": 56,
   "metadata": {},
   "outputs": [
    {
     "data": {
      "text/plain": [
       "DataFrame[crsdephour: int, total: bigint]"
      ]
     },
     "execution_count": 56,
     "metadata": {},
     "output_type": "execute_result"
    }
   ],
   "source": [
    "sql_result_df.unpersist()"
   ]
  },
  {
   "cell_type": "code",
   "execution_count": 57,
   "metadata": {},
   "outputs": [
    {
     "name": "stdout",
     "output_type": "stream",
     "text": [
      "+----------+-----+\n",
      "|crsdephour|total|\n",
      "+----------+-----+\n",
      "|         0|    9|\n",
      "|         1|    1|\n",
      "|         5|   15|\n",
      "|         6|   68|\n",
      "|         7|  112|\n",
      "|         8|  190|\n",
      "|         9|  175|\n",
      "|        10|  284|\n",
      "|        11|  280|\n",
      "|        12|  227|\n",
      "+----------+-----+\n",
      "only showing top 10 rows\n",
      "\n"
     ]
    }
   ],
   "source": [
    "# Count of Departure Delays by Hour of Day using SQL programmatically\n",
    "(train_df\n",
    "        .select([\"crsdephour\", \"depdelay\"])\n",
    "        .where(\"depdelay > 40\")\n",
    "        .groupBy([\"crsdephour\"])\n",
    "        .count()\n",
    "        .withColumnRenamed(\"count\", \"total\")\n",
    "        .orderBy([\"crsdephour\"], ascending=[1])).show(10)"
   ]
  },
  {
   "cell_type": "markdown",
   "metadata": {},
   "source": [
    "### 4.7 Count of Departure Delays by Origin\n",
    "\n",
    "In the query below, we see that the origin airports Chicago and Atlanta have the highest count of flight delays."
   ]
  },
  {
   "cell_type": "code",
   "execution_count": 58,
   "metadata": {},
   "outputs": [
    {
     "data": {
      "text/plain": [
       "DataFrame[origin: string, total: bigint]"
      ]
     },
     "execution_count": 58,
     "metadata": {},
     "output_type": "execute_result"
    }
   ],
   "source": [
    "# Count of Departure Delays by Origin using SQL\n",
    "sql_result_df = spark.sql(strip_margin(\n",
    "                        \"\"\"SELECT origin, count(depdelay) as total \n",
    "                          |FROM train_flights \n",
    "                          |WHERE depdelay > 40 \n",
    "                          |GROUP BY origin \n",
    "                          |ORDER BY total desc\n",
    "                        \"\"\"))\n",
    "\n",
    "sql_result_df.cache()"
   ]
  },
  {
   "cell_type": "code",
   "execution_count": 59,
   "metadata": {
    "scrolled": false
   },
   "outputs": [
    {
     "name": "stdout",
     "output_type": "stream",
     "text": [
      "+------+-----+\n",
      "|origin|total|\n",
      "+------+-----+\n",
      "|   ORD|  679|\n",
      "|   ATL|  637|\n",
      "|   SFO|  542|\n",
      "|   EWR|  518|\n",
      "|   DEN|  484|\n",
      "|   IAH|  447|\n",
      "|   LGA|  432|\n",
      "|   MIA|  429|\n",
      "|   BOS|  296|\n",
      "+------+-----+\n",
      "\n"
     ]
    }
   ],
   "source": [
    "sql_result_df.show()"
   ]
  },
  {
   "cell_type": "code",
   "execution_count": 60,
   "metadata": {},
   "outputs": [
    {
     "data": {
      "image/png": "[encoded data removed]",
      "text/plain": [
       "<matplotlib.figure.Figure at 0x7f35b560f6d8>"
      ]
     },
     "metadata": {
      "image/png": {
       "height": 275,
       "width": 375
      }
     },
     "output_type": "display_data"
    }
   ],
   "source": [
    "sql_result_df.toPandas().plot(kind='bar', x='origin');"
   ]
  },
  {
   "cell_type": "code",
   "execution_count": 61,
   "metadata": {},
   "outputs": [
    {
     "data": {
      "text/plain": [
       "DataFrame[origin: string, total: bigint]"
      ]
     },
     "execution_count": 61,
     "metadata": {},
     "output_type": "execute_result"
    }
   ],
   "source": [
    "sql_result_df.unpersist()"
   ]
  },
  {
   "cell_type": "code",
   "execution_count": 62,
   "metadata": {},
   "outputs": [
    {
     "name": "stdout",
     "output_type": "stream",
     "text": [
      "+------+-----+\n",
      "|origin|total|\n",
      "+------+-----+\n",
      "|   ORD|  679|\n",
      "|   ATL|  637|\n",
      "|   SFO|  542|\n",
      "|   EWR|  518|\n",
      "|   DEN|  484|\n",
      "|   IAH|  447|\n",
      "|   LGA|  432|\n",
      "|   MIA|  429|\n",
      "|   BOS|  296|\n",
      "+------+-----+\n",
      "\n"
     ]
    }
   ],
   "source": [
    "# Count of Departure Delays by Origin programmatically\n",
    "(train_df\n",
    "    .select([\"origin\", \"depdelay\"])\n",
    "    .where(\"depdelay > 40\")\n",
    "    .groupBy([\"origin\"])\n",
    "    .count()\n",
    "    .withColumnRenamed(\"count\", \"total\")\n",
    "    .orderBy([\"total\"], ascending=[0])).show()"
   ]
  },
  {
   "cell_type": "markdown",
   "metadata": {},
   "source": [
    "### 4.8 Count of Departure Delays by Destination\n",
    "\n",
    "In the query below, we see that the destination airports San Francisco and Newark have the highest count of flight delays."
   ]
  },
  {
   "cell_type": "code",
   "execution_count": 63,
   "metadata": {},
   "outputs": [
    {
     "data": {
      "text/plain": [
       "DataFrame[dest: string, total: bigint]"
      ]
     },
     "execution_count": 63,
     "metadata": {},
     "output_type": "execute_result"
    }
   ],
   "source": [
    "# Count of Departure Delays by Destination using SQL\n",
    "sql_result_df = spark.sql(strip_margin(\n",
    "                        \"\"\"SELECT dest, count(depdelay) as total \n",
    "                          |FROM train_flights \n",
    "                          |WHERE depdelay > 40 \n",
    "                          |GROUP BY dest \n",
    "                          |ORDER BY total desc\n",
    "                        \"\"\"))\n",
    "\n",
    "sql_result_df.cache()"
   ]
  },
  {
   "cell_type": "code",
   "execution_count": 64,
   "metadata": {
    "scrolled": false
   },
   "outputs": [
    {
     "name": "stdout",
     "output_type": "stream",
     "text": [
      "+----+-----+\n",
      "|dest|total|\n",
      "+----+-----+\n",
      "| SFO|  711|\n",
      "| EWR|  620|\n",
      "| ORD|  593|\n",
      "| ATL|  547|\n",
      "| LGA|  535|\n",
      "| DEN|  397|\n",
      "| MIA|  385|\n",
      "| BOS|  343|\n",
      "| IAH|  333|\n",
      "+----+-----+\n",
      "\n"
     ]
    }
   ],
   "source": [
    "sql_result_df.show()"
   ]
  },
  {
   "cell_type": "code",
   "execution_count": 65,
   "metadata": {},
   "outputs": [
    {
     "data": {
      "image/png": "[encoded data removed]",
      "text/plain": [
       "<matplotlib.figure.Figure at 0x7f35b594b438>"
      ]
     },
     "metadata": {
      "image/png": {
       "height": 275,
       "width": 375
      }
     },
     "output_type": "display_data"
    }
   ],
   "source": [
    "sql_result_df.toPandas().plot(kind='bar', x='dest');"
   ]
  },
  {
   "cell_type": "code",
   "execution_count": 66,
   "metadata": {},
   "outputs": [
    {
     "data": {
      "text/plain": [
       "DataFrame[dest: string, total: bigint]"
      ]
     },
     "execution_count": 66,
     "metadata": {},
     "output_type": "execute_result"
    }
   ],
   "source": [
    "sql_result_df.unpersist()"
   ]
  },
  {
   "cell_type": "code",
   "execution_count": 67,
   "metadata": {},
   "outputs": [
    {
     "name": "stdout",
     "output_type": "stream",
     "text": [
      "+----+-----+\n",
      "|dest|total|\n",
      "+----+-----+\n",
      "| SFO|  711|\n",
      "| EWR|  620|\n",
      "| ORD|  593|\n",
      "| ATL|  547|\n",
      "| LGA|  535|\n",
      "| DEN|  397|\n",
      "| MIA|  385|\n",
      "| BOS|  343|\n",
      "| IAH|  333|\n",
      "+----+-----+\n",
      "\n"
     ]
    }
   ],
   "source": [
    "# Count of Departure Delays by Destination programmatically\n",
    "(train_df\n",
    "    .select([\"dest\", \"depdelay\"])\n",
    "    .where(\"depdelay > 40\")\n",
    "    .groupBy([\"dest\"])\n",
    "    .count()\n",
    "    .withColumnRenamed(\"count\", \"total\")\n",
    "    .orderBy([\"total\"], ascending=[0])).show()"
   ]
  },
  {
   "cell_type": "markdown",
   "metadata": {},
   "source": [
    "### 4.9 Count of Departure Delays by Origin, Destination\n",
    "\n",
    "In the query below, we see the count of departure delays by Origin and destination. The routes ORD -> SFO and DEN -> SFO have the highest delays, maybe because of weather in January and February. Adding weather to this dataset would give better results, but that is left as an exercise for the reader."
   ]
  },
  {
   "cell_type": "code",
   "execution_count": 68,
   "metadata": {},
   "outputs": [
    {
     "data": {
      "text/plain": [
       "DataFrame[origin: string, dest: string, total: bigint]"
      ]
     },
     "execution_count": 68,
     "metadata": {},
     "output_type": "execute_result"
    }
   ],
   "source": [
    "# Count of Departure Delays by Origin, Destination using SQL\n",
    "sql_result_df = spark.sql(strip_margin(\n",
    "                        \"\"\"SELECT origin, dest, count(depdelay) as total \n",
    "                          |FROM train_flights \n",
    "                          |WHERE depdelay > 40 \n",
    "                          |GROUP BY origin, dest \n",
    "                          |ORDER BY count(depdelay) desc\n",
    "                        \"\"\"))\n",
    "\n",
    "sql_result_df.cache()"
   ]
  },
  {
   "cell_type": "code",
   "execution_count": 69,
   "metadata": {
    "scrolled": false
   },
   "outputs": [
    {
     "name": "stdout",
     "output_type": "stream",
     "text": [
      "+------+----+-----+\n",
      "|origin|dest|total|\n",
      "+------+----+-----+\n",
      "|   DEN| SFO|  172|\n",
      "|   ORD| SFO|  168|\n",
      "|   ATL| LGA|  155|\n",
      "|   ATL| EWR|  141|\n",
      "|   SFO| DEN|  134|\n",
      "|   LGA| ATL|  130|\n",
      "|   ORD| EWR|  122|\n",
      "|   SFO| ORD|  118|\n",
      "|   EWR| ORD|  115|\n",
      "|   ORD| LGA|  100|\n",
      "|   IAH| SFO|   98|\n",
      "|   IAH| EWR|   94|\n",
      "|   MIA| LGA|   92|\n",
      "|   ORD| ATL|   88|\n",
      "|   LGA| ORD|   88|\n",
      "|   ATL| SFO|   87|\n",
      "|   LGA| MIA|   81|\n",
      "|   SFO| EWR|   79|\n",
      "|   EWR| SFO|   77|\n",
      "|   ORD| DEN|   76|\n",
      "+------+----+-----+\n",
      "only showing top 20 rows\n",
      "\n"
     ]
    }
   ],
   "source": [
    "sql_result_df.show()"
   ]
  },
  {
   "cell_type": "code",
   "execution_count": 70,
   "metadata": {},
   "outputs": [
    {
     "data": {
      "image/png": "[encoded data removed]",
      "text/plain": [
       "<matplotlib.figure.Figure at 0x7f35b5ab0c50>"
      ]
     },
     "metadata": {
      "image/png": {
       "height": 262,
       "width": 1058
      }
     },
     "output_type": "display_data"
    }
   ],
   "source": [
    "plt.figure(figsize=(18,4))\n",
    "sns.barplot(x=\"origin\", y=\"total\", hue=\"dest\", data=sql_result_df.toPandas());"
   ]
  },
  {
   "cell_type": "code",
   "execution_count": 71,
   "metadata": {},
   "outputs": [
    {
     "data": {
      "text/plain": [
       "DataFrame[origin: string, dest: string, total: bigint]"
      ]
     },
     "execution_count": 71,
     "metadata": {},
     "output_type": "execute_result"
    }
   ],
   "source": [
    "sql_result_df.unpersist()"
   ]
  },
  {
   "cell_type": "code",
   "execution_count": 72,
   "metadata": {},
   "outputs": [
    {
     "name": "stdout",
     "output_type": "stream",
     "text": [
      "+------+----+-----+\n",
      "|origin|dest|total|\n",
      "+------+----+-----+\n",
      "|   DEN| SFO|  172|\n",
      "|   ORD| SFO|  168|\n",
      "|   ATL| LGA|  155|\n",
      "|   ATL| EWR|  141|\n",
      "|   SFO| DEN|  134|\n",
      "|   LGA| ATL|  130|\n",
      "|   ORD| EWR|  122|\n",
      "|   SFO| ORD|  118|\n",
      "|   EWR| ORD|  115|\n",
      "|   ORD| LGA|  100|\n",
      "|   IAH| SFO|   98|\n",
      "|   IAH| EWR|   94|\n",
      "|   MIA| LGA|   92|\n",
      "|   LGA| ORD|   88|\n",
      "|   ORD| ATL|   88|\n",
      "|   ATL| SFO|   87|\n",
      "|   LGA| MIA|   81|\n",
      "|   SFO| EWR|   79|\n",
      "|   EWR| SFO|   77|\n",
      "|   ORD| DEN|   76|\n",
      "+------+----+-----+\n",
      "only showing top 20 rows\n",
      "\n"
     ]
    }
   ],
   "source": [
    "# Count of Departure Delays by Origin, Destination programmatically\n",
    "(train_df\n",
    "    .select([\"origin\", \"dest\"])\n",
    "    .where(\"depdelay > 40\")\n",
    "    .groupBy([\"origin\", \"dest\"])\n",
    "    .count()\n",
    "    .withColumnRenamed(\"count\", \"total\")\n",
    "    .orderBy([\"total\"], ascending=[0])).show()"
   ]
  },
  {
   "cell_type": "markdown",
   "metadata": {},
   "source": [
    "### 4.10 Add labels for Delayed Flights and Count\n",
    "\n",
    "We can use Spark Bucketizer to split the dataset into delayed and not delayed flights with a delayed 0/1 column. Then, the resulting total counts are displayed. Grouping the data by the delayed field and counting the number of instances in each group shows that there are roughly eight times as many not delayed samples as delayed samples."
   ]
  },
  {
   "cell_type": "code",
   "execution_count": 73,
   "metadata": {},
   "outputs": [
    {
     "name": "stdout",
     "output_type": "stream",
     "text": [
      "+----+-------+------+----+----------+----------+--------+----------+--------+--------------+------+\n",
      "|dofW|carrier|origin|dest|crsdephour|crsdeptime|depdelay|crsarrtime|arrdelay|crselapsedtime|  dist|\n",
      "+----+-------+------+----+----------+----------+--------+----------+--------+--------------+------+\n",
      "|   7|     AA|   ATL| LGA|        17|    1700.0|     0.0|    1912.0|     0.0|         132.0| 762.0|\n",
      "|   7|     AA|   LGA| ATL|        13|    1343.0|     0.0|    1620.0|     0.0|         157.0| 762.0|\n",
      "|   7|     AA|   MIA| ATL|         9|     939.0|     0.0|    1137.0|    10.0|         118.0| 594.0|\n",
      "|   7|     AA|   ORD| MIA|        20|    2020.0|     0.0|      26.0|     0.0|         186.0|1197.0|\n",
      "|   7|     AA|   LGA| MIA|         7|     700.0|     0.0|    1017.0|     0.0|         197.0|1096.0|\n",
      "+----+-------+------+----+----------+----------+--------+----------+--------+--------------+------+\n",
      "only showing top 5 rows\n",
      "\n"
     ]
    }
   ],
   "source": [
    "train_df.show(5)"
   ]
  },
  {
   "cell_type": "code",
   "execution_count": 74,
   "metadata": {
    "collapsed": true
   },
   "outputs": [],
   "source": [
    "# User Bucketizer to split the data into custom buckets\n",
    "bucketizer = Bucketizer(splits=[0.0, 40.0, float(\"inf\")], inputCol=\"depdelay\", outputCol=\"delayed\")"
   ]
  },
  {
   "cell_type": "code",
   "execution_count": 75,
   "metadata": {
    "collapsed": true
   },
   "outputs": [],
   "source": [
    "train_df = bucketizer.transform(train_df).cache()"
   ]
  },
  {
   "cell_type": "code",
   "execution_count": 76,
   "metadata": {},
   "outputs": [
    {
     "name": "stdout",
     "output_type": "stream",
     "text": [
      "+-------+-----+\n",
      "|delayed|count|\n",
      "+-------+-----+\n",
      "|    0.0|36790|\n",
      "|    1.0| 4558|\n",
      "+-------+-----+\n",
      "\n"
     ]
    }
   ],
   "source": [
    "train_df.groupBy(\"delayed\").count().show()"
   ]
  },
  {
   "cell_type": "code",
   "execution_count": 77,
   "metadata": {},
   "outputs": [
    {
     "name": "stdout",
     "output_type": "stream",
     "text": [
      "+----+-------+------+----+--------+-------+\n",
      "|dofW|carrier|origin|dest|depdelay|delayed|\n",
      "+----+-------+------+----+--------+-------+\n",
      "|   7|     DL|   MIA| LGA|     3.0|    0.0|\n",
      "|   7|     WN|   LGA| ATL|     0.0|    0.0|\n",
      "|   7|     WN|   LGA| DEN|     0.0|    0.0|\n",
      "|   7|     UA|   IAH| MIA|     1.0|    0.0|\n",
      "|   7|     UA|   SFO| ORD|     0.0|    0.0|\n",
      "|   7|     UA|   EWR| ORD|     0.0|    0.0|\n",
      "|   1|     AA|   LGA| ORD|     0.0|    0.0|\n",
      "|   1|     DL|   EWR| ATL|    10.0|    0.0|\n",
      "|   1|     DL|   LGA| DEN|    17.0|    0.0|\n",
      "|   1|     UA|   EWR| IAH|     0.0|    0.0|\n",
      "|   1|     UA|   LGA| DEN|     0.0|    0.0|\n",
      "|   1|     UA|   EWR| IAH|    83.0|    1.0|\n",
      "|   1|     UA|   IAH| SFO|    70.0|    1.0|\n",
      "|   2|     DL|   ATL| BOS|     0.0|    0.0|\n",
      "|   2|     DL|   MIA| ATL|     0.0|    0.0|\n",
      "|   2|     UA|   IAH| ORD|     9.0|    0.0|\n",
      "|   2|     AA|   DEN| MIA|     0.0|    0.0|\n",
      "|   2|     AA|   SFO| MIA|     0.0|    0.0|\n",
      "|   2|     AA|   ORD| BOS|     0.0|    0.0|\n",
      "|   3|     AA|   LGA| MIA|     0.0|    0.0|\n",
      "+----+-------+------+----+--------+-------+\n",
      "only showing top 20 rows\n",
      "\n"
     ]
    }
   ],
   "source": [
    "train_df.select([\"dofW\", \"carrier\", \"origin\", \"dest\", \"depdelay\", \"delayed\"]).sample(fraction=0.01, withReplacement=False, seed=rnd_seed).show()"
   ]
  },
  {
   "cell_type": "markdown",
   "metadata": {},
   "source": [
    "### 4.11 Create a stacked bar plot of count of departure delays by Origin\n",
    "\n",
    "In the query below, we see the count of not delayed (0=dark blue) and delayed (1=light blue) flights by origin."
   ]
  },
  {
   "cell_type": "code",
   "execution_count": 78,
   "metadata": {},
   "outputs": [
    {
     "data": {
      "text/plain": [
       "DataFrame[origin: string, delayed: double, count: bigint]"
      ]
     },
     "execution_count": 78,
     "metadata": {},
     "output_type": "execute_result"
    }
   ],
   "source": [
    "# Count of Departure Delays by Origin\n",
    "result_df = (train_df\n",
    "                .select([\"origin\", \"delayed\"])\n",
    "                .groupBy([\"origin\", \"delayed\"])\n",
    "                .count()\n",
    "                .orderBy([\"delayed\"]))\n",
    "result_df.cache()"
   ]
  },
  {
   "cell_type": "code",
   "execution_count": 79,
   "metadata": {},
   "outputs": [
    {
     "name": "stdout",
     "output_type": "stream",
     "text": [
      "+------+-------+-----+\n",
      "|origin|delayed|count|\n",
      "+------+-------+-----+\n",
      "|   DEN|    0.0| 3773|\n",
      "|   BOS|    0.0| 3388|\n",
      "|   LGA|    0.0| 4550|\n",
      "|   EWR|    0.0| 3693|\n",
      "|   MIA|    0.0| 3991|\n",
      "|   IAH|    0.0| 3218|\n",
      "|   ORD|    0.0| 5607|\n",
      "|   ATL|    0.0| 5322|\n",
      "|   SFO|    0.0| 3248|\n",
      "|   LGA|    1.0|  442|\n",
      "|   MIA|    1.0|  434|\n",
      "|   IAH|    1.0|  455|\n",
      "|   EWR|    1.0|  526|\n",
      "|   ORD|    1.0|  693|\n",
      "|   SFO|    1.0|  557|\n",
      "+------+-------+-----+\n",
      "only showing top 15 rows\n",
      "\n"
     ]
    }
   ],
   "source": [
    "result_df.show(15)"
   ]
  },
  {
   "cell_type": "markdown",
   "metadata": {},
   "source": [
    "#### 4.11.1 Leverage Panda's pivot method to do a stacked bar plot:"
   ]
  },
  {
   "cell_type": "code",
   "execution_count": 80,
   "metadata": {
    "collapsed": true
   },
   "outputs": [],
   "source": [
    "pdf = result_df.toPandas()"
   ]
  },
  {
   "cell_type": "code",
   "execution_count": 81,
   "metadata": {},
   "outputs": [
    {
     "name": "stdout",
     "output_type": "stream",
     "text": [
      "   origin  delayed  count\n",
      "0     DEN      0.0   3773\n",
      "1     BOS      0.0   3388\n",
      "2     LGA      0.0   4550\n",
      "3     EWR      0.0   3693\n",
      "4     MIA      0.0   3991\n",
      "5     IAH      0.0   3218\n",
      "6     ORD      0.0   5607\n",
      "7     ATL      0.0   5322\n",
      "8     SFO      0.0   3248\n",
      "9     LGA      1.0    442\n",
      "10    MIA      1.0    434\n",
      "11    IAH      1.0    455\n",
      "12    EWR      1.0    526\n",
      "13    ORD      1.0    693\n",
      "14    SFO      1.0    557\n"
     ]
    }
   ],
   "source": [
    "print(pdf.head(15))"
   ]
  },
  {
   "cell_type": "markdown",
   "metadata": {},
   "source": [
    "The above pandas dataframe needs to be pivoted with origin as index to create the bar plot."
   ]
  },
  {
   "cell_type": "code",
   "execution_count": 82,
   "metadata": {
    "collapsed": true
   },
   "outputs": [],
   "source": [
    "pdf = pdf.pivot(index='origin', columns='delayed', values='count').sort_index()"
   ]
  },
  {
   "cell_type": "code",
   "execution_count": 83,
   "metadata": {},
   "outputs": [
    {
     "name": "stdout",
     "output_type": "stream",
     "text": [
      "delayed   0.0  1.0\n",
      "origin            \n",
      "ATL      5322  649\n",
      "BOS      3388  306\n",
      "DEN      3773  496\n",
      "EWR      3693  526\n",
      "IAH      3218  455\n",
      "LGA      4550  442\n",
      "MIA      3991  434\n",
      "ORD      5607  693\n",
      "SFO      3248  557\n"
     ]
    }
   ],
   "source": [
    "print(pdf.head(15))"
   ]
  },
  {
   "cell_type": "code",
   "execution_count": 84,
   "metadata": {},
   "outputs": [
    {
     "data": {
      "image/png": "[encoded data removed]",
      "text/plain": [
       "<matplotlib.figure.Figure at 0x7f35b5677128>"
      ]
     },
     "metadata": {
      "image/png": {
       "height": 275,
       "width": 381
      }
     },
     "output_type": "display_data"
    }
   ],
   "source": [
    "pdf.plot.bar(stacked=True);"
   ]
  },
  {
   "cell_type": "markdown",
   "metadata": {},
   "source": [
    "#### 4.11.2 Can we do the same pivot using Spark?"
   ]
  },
  {
   "cell_type": "code",
   "execution_count": 85,
   "metadata": {
    "scrolled": true
   },
   "outputs": [
    {
     "name": "stdout",
     "output_type": "stream",
     "text": [
      "+------+----+---+\n",
      "|origin| 0.0|1.0|\n",
      "+------+----+---+\n",
      "|   ATL|5322|649|\n",
      "|   BOS|3388|306|\n",
      "|   DEN|3773|496|\n",
      "|   EWR|3693|526|\n",
      "|   IAH|3218|455|\n",
      "|   LGA|4550|442|\n",
      "|   MIA|3991|434|\n",
      "|   ORD|5607|693|\n",
      "|   SFO|3248|557|\n",
      "+------+----+---+\n",
      "\n"
     ]
    }
   ],
   "source": [
    "# careful! we are using train_df and not result_df. Pivot will only work with a Grouped DF is Spark\n",
    "train_df.select([\"origin\", \"delayed\"]).groupBy([\"origin\"]).pivot('delayed').count().orderBy('origin').show(15)"
   ]
  },
  {
   "cell_type": "markdown",
   "metadata": {},
   "source": [
    "**Voila!** The same result as above from pandas dataframe pivot method"
   ]
  },
  {
   "cell_type": "code",
   "execution_count": 86,
   "metadata": {},
   "outputs": [
    {
     "data": {
      "image/png": "[encoded data removed]",
      "text/plain": [
       "<matplotlib.figure.Figure at 0x7f35b57a4128>"
      ]
     },
     "metadata": {
      "image/png": {
       "height": 245,
       "width": 1162
      }
     },
     "output_type": "display_data"
    }
   ],
   "source": [
    "(train_df.select([\"origin\", \"delayed\"])\n",
    "         .groupBy([\"origin\"]).pivot('delayed').count().orderBy('origin')\n",
    "         .toPandas()\n",
    "         .plot.bar(stacked=True, figsize=(20, 4)));"
   ]
  },
  {
   "cell_type": "code",
   "execution_count": 87,
   "metadata": {
    "scrolled": true
   },
   "outputs": [
    {
     "name": "stdout",
     "output_type": "stream",
     "text": [
      "+----+-------+------+----+----------+----------+--------+----------+--------+--------------+------+-------+\n",
      "|dofW|carrier|origin|dest|crsdephour|crsdeptime|depdelay|crsarrtime|arrdelay|crselapsedtime|  dist|delayed|\n",
      "+----+-------+------+----+----------+----------+--------+----------+--------+--------------+------+-------+\n",
      "|   7|     AA|   ATL| LGA|        17|    1700.0|     0.0|    1912.0|     0.0|         132.0| 762.0|    0.0|\n",
      "|   7|     AA|   LGA| ATL|        13|    1343.0|     0.0|    1620.0|     0.0|         157.0| 762.0|    0.0|\n",
      "|   7|     AA|   MIA| ATL|         9|     939.0|     0.0|    1137.0|    10.0|         118.0| 594.0|    0.0|\n",
      "|   7|     AA|   ORD| MIA|        20|    2020.0|     0.0|      26.0|     0.0|         186.0|1197.0|    0.0|\n",
      "|   7|     AA|   LGA| MIA|         7|     700.0|     0.0|    1017.0|     0.0|         197.0|1096.0|    0.0|\n",
      "|   7|     AA|   ORD| DEN|        13|    1345.0|     0.0|    1527.0|     0.0|         162.0| 888.0|    0.0|\n",
      "|   7|     AA|   DEN| MIA|        11|    1100.0|     0.0|    1649.0|     0.0|         229.0|1709.0|    0.0|\n",
      "|   7|     AA|   MIA| DEN|         7|     720.0|     7.0|     949.0|     0.0|         269.0|1709.0|    0.0|\n",
      "|   7|     AA|   DEN| ORD|        12|    1235.0|     0.0|    1600.0|     0.0|         145.0| 888.0|    0.0|\n",
      "|   7|     AA|   ORD| DEN|        10|    1005.0|     5.0|    1145.0|     3.0|         160.0| 888.0|    0.0|\n",
      "+----+-------+------+----+----------+----------+--------+----------+--------+--------------+------+-------+\n",
      "only showing top 10 rows\n",
      "\n"
     ]
    }
   ],
   "source": [
    "train_df.show(10)"
   ]
  },
  {
   "cell_type": "markdown",
   "metadata": {},
   "source": [
    "#### 4.11.3 Can we do the same using SQL Pivot function in Spark?\n",
    "\n",
    "**With Spark 2.4.0 SQL equivalent pivot function was introduced**. Now we can achieve the same same with one query instead to DF + SQL combination."
   ]
  },
  {
   "cell_type": "code",
   "execution_count": 88,
   "metadata": {
    "collapsed": true
   },
   "outputs": [],
   "source": [
    "train_df.createOrReplaceTempView(\"train_df\")"
   ]
  },
  {
   "cell_type": "code",
   "execution_count": 89,
   "metadata": {},
   "outputs": [
    {
     "name": "stdout",
     "output_type": "stream",
     "text": [
      "+------+-------+\n",
      "|origin|delayed|\n",
      "+------+-------+\n",
      "|   ATL|    0.0|\n",
      "|   LGA|    0.0|\n",
      "|   MIA|    0.0|\n",
      "|   ORD|    0.0|\n",
      "|   LGA|    0.0|\n",
      "|   ORD|    0.0|\n",
      "|   DEN|    0.0|\n",
      "|   MIA|    0.0|\n",
      "|   DEN|    0.0|\n",
      "|   ORD|    0.0|\n",
      "|   IAH|    0.0|\n",
      "|   MIA|    1.0|\n",
      "|   MIA|    0.0|\n",
      "|   DEN|    0.0|\n",
      "|   ORD|    0.0|\n",
      "|   MIA|    1.0|\n",
      "|   MIA|    0.0|\n",
      "|   MIA|    1.0|\n",
      "|   MIA|    0.0|\n",
      "|   MIA|    0.0|\n",
      "+------+-------+\n",
      "only showing top 20 rows\n",
      "\n"
     ]
    }
   ],
   "source": [
    "spark.sql(\"SELECT origin, delayed FROM train_df\").show()"
   ]
  },
  {
   "cell_type": "code",
   "execution_count": 90,
   "metadata": {},
   "outputs": [
    {
     "name": "stdout",
     "output_type": "stream",
     "text": [
      "+------+----+---+\n",
      "|origin| 0.0|1.0|\n",
      "+------+----+---+\n",
      "|   ATL|5322|649|\n",
      "|   BOS|3388|306|\n",
      "|   DEN|3773|496|\n",
      "|   EWR|3693|526|\n",
      "|   IAH|3218|455|\n",
      "|   LGA|4550|442|\n",
      "|   MIA|3991|434|\n",
      "|   ORD|5607|693|\n",
      "|   SFO|3248|557|\n",
      "+------+----+---+\n",
      "\n"
     ]
    }
   ],
   "source": [
    "(spark.sql(strip_margin(\n",
    "\"\"\"SELECT * \n",
    "     FROM (SELECT origin, delayed FROM train_df)\n",
    "     PIVOT (\n",
    "        COUNT(1)\n",
    "        FOR delayed IN (0.0, 1.0)\n",
    "     )\n",
    "   ORDER BY origin\n",
    "\"\"\"))).show()"
   ]
  },
  {
   "cell_type": "code",
   "execution_count": 91,
   "metadata": {},
   "outputs": [
    {
     "name": "stdout",
     "output_type": "stream",
     "text": [
      "+------+----+---+\n",
      "|origin| 0.0|1.0|\n",
      "+------+----+---+\n",
      "|   ATL|5322|649|\n",
      "|   BOS|3388|306|\n",
      "|   DEN|3773|496|\n",
      "|   EWR|3693|526|\n",
      "|   IAH|3218|455|\n",
      "|   LGA|4550|442|\n",
      "|   MIA|3991|434|\n",
      "|   ORD|5607|693|\n",
      "|   SFO|3248|557|\n",
      "+------+----+---+\n",
      "\n"
     ]
    }
   ],
   "source": [
    "# above query in one line\n",
    "(spark.sql(\n",
    "    \"SELECT * FROM (SELECT origin, delayed FROM train_df) PIVOT (COUNT(1) FOR delayed IN (0.0, 1.0)) ORDER BY origin\"\n",
    ")).show()"
   ]
  },
  {
   "cell_type": "markdown",
   "metadata": {},
   "source": [
    "### 4.12 Done with Data Exploration: Cleanup"
   ]
  },
  {
   "cell_type": "code",
   "execution_count": 92,
   "metadata": {
    "collapsed": true
   },
   "outputs": [],
   "source": [
    "# For temporary views you can use Catalog.dropTempView:\n",
    "spark.catalog.dropTempView(\"train_df\")\n",
    "spark.catalog.dropTempView(\"train_flights\")"
   ]
  },
  {
   "cell_type": "markdown",
   "metadata": {},
   "source": [
    "## 5. Stratified Sampling\n",
    "\n",
    "In order to ensure that our model is sensitive to the delayed samples, we can put the two sample types on the same footing using stratified sampling. The DataFrames `sampleBy()` function does this when provided with fractions of each sample type to be returned. Here, we're keeping all instances of delayed, but downsampling the not delayed instances to 29%, then displaying the results."
   ]
  },
  {
   "cell_type": "code",
   "execution_count": 93,
   "metadata": {},
   "outputs": [
    {
     "name": "stdout",
     "output_type": "stream",
     "text": [
      "+-------+-----+\n",
      "|delayed|count|\n",
      "+-------+-----+\n",
      "|    0.0|36790|\n",
      "|    1.0| 4558|\n",
      "+-------+-----+\n",
      "\n"
     ]
    }
   ],
   "source": [
    "train_df.groupBy(\"delayed\").count().show()"
   ]
  },
  {
   "cell_type": "code",
   "execution_count": 94,
   "metadata": {
    "collapsed": true
   },
   "outputs": [],
   "source": [
    "# count of delayed=0.0\n",
    "count_not_delayed = train_df.groupBy(\"delayed\").count().select([\"count\"]).where(\"delayed = 0.0\").first()[0]"
   ]
  },
  {
   "cell_type": "code",
   "execution_count": 95,
   "metadata": {
    "collapsed": true
   },
   "outputs": [],
   "source": [
    "# count of delayed=1.0\n",
    "count_delayed = train_df.groupBy(\"delayed\").count().select([\"count\"]).where(\"delayed = 1.0\").first()[0]"
   ]
  },
  {
   "cell_type": "code",
   "execution_count": 96,
   "metadata": {
    "collapsed": true
   },
   "outputs": [],
   "source": [
    "total = train_df.count()"
   ]
  },
  {
   "cell_type": "code",
   "execution_count": 97,
   "metadata": {},
   "outputs": [
    {
     "data": {
      "text/plain": [
       "(36790, 4558, 41348)"
      ]
     },
     "execution_count": 97,
     "metadata": {},
     "output_type": "execute_result"
    }
   ],
   "source": [
    "count_not_delayed, count_delayed, total"
   ]
  },
  {
   "cell_type": "code",
   "execution_count": 98,
   "metadata": {},
   "outputs": [
    {
     "name": "stdout",
     "output_type": "stream",
     "text": [
      "Not Delayed: 88.98%, Delayed: 11.02%\n"
     ]
    }
   ],
   "source": [
    "print(\"Not Delayed: {0}%, Delayed: {1}%\".format(np.round(100 * count_not_delayed / total, 2), np.round(100 * count_delayed / total, 2)))"
   ]
  },
  {
   "cell_type": "code",
   "execution_count": 99,
   "metadata": {
    "collapsed": true
   },
   "outputs": [],
   "source": [
    "# specify the exact fraction desired from each key as a dictionary\n",
    "fractions = {0.0: 0.29, 1.0: 1.0}"
   ]
  },
  {
   "cell_type": "code",
   "execution_count": 100,
   "metadata": {
    "collapsed": true
   },
   "outputs": [],
   "source": [
    "strat_train_df = train_df.stat.sampleBy('delayed', fractions, seed=rnd_seed)"
   ]
  },
  {
   "cell_type": "code",
   "execution_count": 101,
   "metadata": {},
   "outputs": [
    {
     "name": "stdout",
     "output_type": "stream",
     "text": [
      "+-------+-----+\n",
      "|delayed|count|\n",
      "+-------+-----+\n",
      "|    0.0|10555|\n",
      "|    1.0| 4558|\n",
      "+-------+-----+\n",
      "\n"
     ]
    }
   ],
   "source": [
    "strat_train_df.groupBy(\"delayed\").count().show()"
   ]
  },
  {
   "cell_type": "code",
   "execution_count": 102,
   "metadata": {
    "collapsed": true
   },
   "outputs": [],
   "source": [
    "# count of delayed=0.0\n",
    "count_not_delayed = strat_train_df.groupBy(\"delayed\").count().select([\"count\"]).where(\"delayed = 0.0\").first()[0]\n",
    "\n",
    "# count of delayed=1.0\n",
    "count_delayed = strat_train_df.groupBy(\"delayed\").count().select([\"count\"]).where(\"delayed = 1.0\").first()[0]\n",
    "\n",
    "total = count_not_delayed + count_delayed"
   ]
  },
  {
   "cell_type": "code",
   "execution_count": 103,
   "metadata": {},
   "outputs": [
    {
     "name": "stdout",
     "output_type": "stream",
     "text": [
      "Not Delayed: 69.84%, Delayed: 30.16%\n"
     ]
    }
   ],
   "source": [
    "print(\"Not Delayed: {0}%, Delayed: {1}%\".format(np.round(100 * count_not_delayed / total, 2), np.round(100 * count_delayed / total, 2)))"
   ]
  },
  {
   "cell_type": "code",
   "execution_count": 104,
   "metadata": {},
   "outputs": [
    {
     "name": "stdout",
     "output_type": "stream",
     "text": [
      "+----+-------+------+----+----------+----------+--------+----------+--------+--------------+------+-------+\n",
      "|dofW|carrier|origin|dest|crsdephour|crsdeptime|depdelay|crsarrtime|arrdelay|crselapsedtime|  dist|delayed|\n",
      "+----+-------+------+----+----------+----------+--------+----------+--------+--------------+------+-------+\n",
      "|   7|     AA|   ATL| LGA|        17|    1700.0|     0.0|    1912.0|     0.0|         132.0| 762.0|    0.0|\n",
      "|   7|     AA|   LGA| MIA|         7|     700.0|     0.0|    1017.0|     0.0|         197.0|1096.0|    0.0|\n",
      "|   7|     AA|   DEN| ORD|        12|    1235.0|     0.0|    1600.0|     0.0|         145.0| 888.0|    0.0|\n",
      "|   7|     AA|   MIA| IAH|        20|    2045.0|    80.0|    2238.0|    63.0|         173.0| 964.0|    1.0|\n",
      "|   7|     AA|   MIA| LGA|        20|    2025.0|     0.0|    2325.0|     0.0|         180.0|1096.0|    0.0|\n",
      "+----+-------+------+----+----------+----------+--------+----------+--------+--------------+------+-------+\n",
      "only showing top 5 rows\n",
      "\n"
     ]
    }
   ],
   "source": [
    "strat_train_df.show(5)"
   ]
  },
  {
   "cell_type": "code",
   "execution_count": 105,
   "metadata": {
    "collapsed": true
   },
   "outputs": [],
   "source": [
    "# Done with stratifying, we can drop the column\n",
    "strat_train_df = strat_train_df.drop(\"delayed\")"
   ]
  },
  {
   "cell_type": "code",
   "execution_count": 106,
   "metadata": {},
   "outputs": [
    {
     "name": "stdout",
     "output_type": "stream",
     "text": [
      "+----+-------+------+----+----------+----------+--------+----------+--------+--------------+------+\n",
      "|dofW|carrier|origin|dest|crsdephour|crsdeptime|depdelay|crsarrtime|arrdelay|crselapsedtime|  dist|\n",
      "+----+-------+------+----+----------+----------+--------+----------+--------+--------------+------+\n",
      "|   7|     AA|   ATL| LGA|        17|    1700.0|     0.0|    1912.0|     0.0|         132.0| 762.0|\n",
      "|   7|     AA|   LGA| MIA|         7|     700.0|     0.0|    1017.0|     0.0|         197.0|1096.0|\n",
      "|   7|     AA|   DEN| ORD|        12|    1235.0|     0.0|    1600.0|     0.0|         145.0| 888.0|\n",
      "|   7|     AA|   MIA| IAH|        20|    2045.0|    80.0|    2238.0|    63.0|         173.0| 964.0|\n",
      "|   7|     AA|   MIA| LGA|        20|    2025.0|     0.0|    2325.0|     0.0|         180.0|1096.0|\n",
      "+----+-------+------+----+----------+----------+--------+----------+--------+--------------+------+\n",
      "only showing top 5 rows\n",
      "\n"
     ]
    }
   ],
   "source": [
    "strat_train_df.show(5)"
   ]
  },
  {
   "cell_type": "markdown",
   "metadata": {},
   "source": [
    "## 6. Features Array\n",
    "\n",
    "To build a classifier model, you extract the features that most contribute to the classification. In this scenario, we will build a tree to predict the label of delayed or not based on the following features:\n",
    "\n",
    "+ Label: \n",
    "    - delayed = 0\n",
    "    - Delayed = 1 if delay > 40 minutes\n",
    "+ Features -> {day of the week, scheduled departure time, scheduled arrival time, carrier, scheduled elapsed time, origin, destination, distance}\n",
    "\n",
    "In order for the features to be used by a machine learning algorithm, they must be transformed and put into feature vectors, which are vectors of numbers representing the value for each feature."
   ]
  },
  {
   "cell_type": "markdown",
   "metadata": {},
   "source": [
    "### Using the Spark ML Package\n",
    "\n",
    "The [ML package](http://spark.apache.org/docs/latest/ml-guide.html) is the newer library of machine learning routines. [Spark ML provides a uniform set of high-level APIs built on top of DataFrames](http://spark.apache.org/docs/latest/ml-pipeline.html#pipeline-components)."
   ]
  },
  {
   "cell_type": "markdown",
   "metadata": {},
   "source": [
    "![](assets/ml-pipeline.png)"
   ]
  },
  {
   "cell_type": "markdown",
   "metadata": {},
   "source": [
    "We will use an ML Pipeline to pass the data through transformers in order to extract the features and an estimator to produce the model.\n",
    "\n",
    "- Transformer: A Transformer is an algorithm which transforms one DataFrame into another DataFrame. We will use a transformer to get a DataFrame with a features vector column.\n",
    "- Estimator: An Estimator is an algorithm which can be fit on a DataFrame to produce a Transformer. We will use a an estimator to train a model which can transform data to get predictions.\n",
    "- Pipeline: A Pipeline chains multiple Transformers and Estimators together to specify a ML workflow."
   ]
  },
  {
   "cell_type": "markdown",
   "metadata": {},
   "source": [
    "## Feature Extraction and Pipelining\n",
    "\n",
    "The ML package needs the label and feature vector to be added as columns to the input dataframe. We set up a pipeline to pass the data through transformers in order to extract the features and label. We use a StringIndexer to encode a string columns to a column of number indices. We use a OneHotEncoder to map a number indices column to a column of binary vectors, with at most a single one-value. Encoding categorical features allows decision trees to treat categorical features appropriately, improving performance. An example of StringIndexing and OneHotEncoding for carrier is shown below:\n",
    "\n",
    "![](assets/example-category-encoding.png)"
   ]
  },
  {
   "cell_type": "markdown",
   "metadata": {},
   "source": [
    "### 6.1 Use a combination of StringIndexer and OneHotEncoder to encode Categorical columns"
   ]
  },
  {
   "cell_type": "markdown",
   "metadata": {},
   "source": [
    "**Experiment: Let's SringIndex the 'carrier' column**"
   ]
  },
  {
   "cell_type": "code",
   "execution_count": 107,
   "metadata": {
    "collapsed": true
   },
   "outputs": [],
   "source": [
    "colName = \"carrier\""
   ]
  },
  {
   "cell_type": "code",
   "execution_count": 108,
   "metadata": {
    "collapsed": true
   },
   "outputs": [],
   "source": [
    "carrierIndexer = StringIndexer(inputCol=colName, outputCol=\"{0}_indexed\".format(colName)).fit(strat_train_df)"
   ]
  },
  {
   "cell_type": "code",
   "execution_count": 109,
   "metadata": {
    "collapsed": true
   },
   "outputs": [],
   "source": [
    "indexed_df = carrierIndexer.transform(strat_train_df)"
   ]
  },
  {
   "cell_type": "code",
   "execution_count": 110,
   "metadata": {},
   "outputs": [
    {
     "name": "stdout",
     "output_type": "stream",
     "text": [
      "+------+----+-------+---------------+\n",
      "|origin|dest|carrier|carrier_indexed|\n",
      "+------+----+-------+---------------+\n",
      "|   DEN| ORD|     UA|            0.0|\n",
      "|   SFO| ORD|     UA|            0.0|\n",
      "|   ATL| EWR|     DL|            1.0|\n",
      "|   BOS| LGA|     DL|            1.0|\n",
      "|   DEN| IAH|     UA|            0.0|\n",
      "|   MIA| ORD|     AA|            2.0|\n",
      "|   ORD| DEN|     UA|            0.0|\n",
      "|   SFO| ATL|     UA|            0.0|\n",
      "|   IAH| DEN|     UA|            0.0|\n",
      "|   MIA| BOS|     AA|            2.0|\n",
      "|   LGA| BOS|     DL|            1.0|\n",
      "|   MIA| DEN|     AA|            2.0|\n",
      "|   SFO| BOS|     UA|            0.0|\n",
      "+------+----+-------+---------------+\n",
      "\n"
     ]
    }
   ],
   "source": [
    "# create a new \"carrier_indexed\" column\n",
    "(indexed_df.select([\"origin\", \"dest\", \"carrier\", \"carrier_indexed\"])\n",
    "                .sample(fraction=0.001, withReplacement=False, seed=rnd_seed).show())"
   ]
  },
  {
   "cell_type": "code",
   "execution_count": 111,
   "metadata": {},
   "outputs": [
    {
     "data": {
      "text/plain": [
       "['UA', 'DL', 'AA', 'WN']"
      ]
     },
     "execution_count": 111,
     "metadata": {},
     "output_type": "execute_result"
    }
   ],
   "source": [
    "# check the encoded carrier values\n",
    "carrierIndexer.labels"
   ]
  },
  {
   "cell_type": "code",
   "execution_count": 112,
   "metadata": {},
   "outputs": [
    {
     "name": "stdout",
     "output_type": "stream",
     "text": [
      "+-------+---------------+\n",
      "|carrier|carrier_indexed|\n",
      "+-------+---------------+\n",
      "|     UA|            0.0|\n",
      "|     DL|            1.0|\n",
      "|     WN|            3.0|\n",
      "|     AA|            2.0|\n",
      "+-------+---------------+\n",
      "\n"
     ]
    }
   ],
   "source": [
    "# check the carrier code and index mapping \n",
    "indexed_df.select([\"carrier\", \"carrier_indexed\"]).distinct().show()"
   ]
  },
  {
   "cell_type": "markdown",
   "metadata": {},
   "source": [
    "**Experiment: Let's OneHotEncode the 'carrier' column**\n",
    "\n",
    "`pyspark.ml.feature.OneHotEncoder` maps a column of category indices to a column of binary vectors, with at most a single one-value per row that indicates the input category index. For example with 5 categories, an input value of 2.0 would map to an output vector of [0.0, 0.0, 1.0, 0.0]. The last category is not included by default (configurable via dropLast) because it makes the vector entries sum up to one, and hence linearly dependent. So an input value of 4.0 maps to [0.0, 0.0, 0.0, 0.0]. Note that this is different from `scikit-learn's OneHotEncoder`, which keeps all categories. The output vectors are sparse."
   ]
  },
  {
   "cell_type": "code",
   "execution_count": 113,
   "metadata": {
    "collapsed": true
   },
   "outputs": [],
   "source": [
    "carrierEncoder = OneHotEncoder(inputCol=\"{0}_indexed\".format(colName), outputCol=\"{0}_encoded\".format(colName))\n",
    "encoded_df = carrierEncoder.transform(indexed_df)"
   ]
  },
  {
   "cell_type": "code",
   "execution_count": 114,
   "metadata": {},
   "outputs": [
    {
     "name": "stdout",
     "output_type": "stream",
     "text": [
      "+------+----+-------+---------------+---------------+\n",
      "|origin|dest|carrier|carrier_indexed|carrier_encoded|\n",
      "+------+----+-------+---------------+---------------+\n",
      "|   DEN| ORD|     UA|            0.0|  (3,[0],[1.0])|\n",
      "|   SFO| ORD|     UA|            0.0|  (3,[0],[1.0])|\n",
      "|   ATL| EWR|     DL|            1.0|  (3,[1],[1.0])|\n",
      "|   BOS| LGA|     DL|            1.0|  (3,[1],[1.0])|\n",
      "|   DEN| IAH|     UA|            0.0|  (3,[0],[1.0])|\n",
      "|   MIA| ORD|     AA|            2.0|  (3,[2],[1.0])|\n",
      "|   ORD| DEN|     UA|            0.0|  (3,[0],[1.0])|\n",
      "|   SFO| ATL|     UA|            0.0|  (3,[0],[1.0])|\n",
      "|   IAH| DEN|     UA|            0.0|  (3,[0],[1.0])|\n",
      "|   MIA| BOS|     AA|            2.0|  (3,[2],[1.0])|\n",
      "|   LGA| BOS|     DL|            1.0|  (3,[1],[1.0])|\n",
      "|   MIA| DEN|     AA|            2.0|  (3,[2],[1.0])|\n",
      "|   SFO| BOS|     UA|            0.0|  (3,[0],[1.0])|\n",
      "+------+----+-------+---------------+---------------+\n",
      "\n"
     ]
    }
   ],
   "source": [
    "(encoded_df.select([\"origin\", \"dest\", \"carrier\", \"carrier_indexed\", \"carrier_encoded\"])\n",
    "                 .sample(fraction=0.001, withReplacement=False, seed=rnd_seed).show())"
   ]
  },
  {
   "cell_type": "markdown",
   "metadata": {},
   "source": [
    "Note: The column vector is a SparseVector: (3,[0],[1.0]) means there are 3 elements and the 0th position has a 1.0. Similary, (3,[],[]) means that all positions have zeros. All position with 0's also siginifies a category value."
   ]
  },
  {
   "cell_type": "markdown",
   "metadata": {},
   "source": [
    "**Experiment: Let's OneHotEncode the 'carrier' column With dropLast=False**"
   ]
  },
  {
   "cell_type": "code",
   "execution_count": 115,
   "metadata": {
    "collapsed": true
   },
   "outputs": [],
   "source": [
    "carrierEncoder = OneHotEncoder(inputCol=\"{0}_indexed\".format(colName), outputCol=\"{0}_encoded\".format(colName), dropLast=False)\n",
    "encoded_df = carrierEncoder.transform(indexed_df)"
   ]
  },
  {
   "cell_type": "code",
   "execution_count": 116,
   "metadata": {},
   "outputs": [
    {
     "name": "stdout",
     "output_type": "stream",
     "text": [
      "+------+----+-------+---------------+---------------+\n",
      "|origin|dest|carrier|carrier_indexed|carrier_encoded|\n",
      "+------+----+-------+---------------+---------------+\n",
      "|   DEN| ORD|     UA|            0.0|  (4,[0],[1.0])|\n",
      "|   SFO| ORD|     UA|            0.0|  (4,[0],[1.0])|\n",
      "|   ATL| EWR|     DL|            1.0|  (4,[1],[1.0])|\n",
      "|   BOS| LGA|     DL|            1.0|  (4,[1],[1.0])|\n",
      "|   DEN| IAH|     UA|            0.0|  (4,[0],[1.0])|\n",
      "|   MIA| ORD|     AA|            2.0|  (4,[2],[1.0])|\n",
      "|   ORD| DEN|     UA|            0.0|  (4,[0],[1.0])|\n",
      "|   SFO| ATL|     UA|            0.0|  (4,[0],[1.0])|\n",
      "|   IAH| DEN|     UA|            0.0|  (4,[0],[1.0])|\n",
      "|   MIA| BOS|     AA|            2.0|  (4,[2],[1.0])|\n",
      "|   LGA| BOS|     DL|            1.0|  (4,[1],[1.0])|\n",
      "|   MIA| DEN|     AA|            2.0|  (4,[2],[1.0])|\n",
      "|   SFO| BOS|     UA|            0.0|  (4,[0],[1.0])|\n",
      "+------+----+-------+---------------+---------------+\n",
      "\n"
     ]
    }
   ],
   "source": [
    "(encoded_df.select([\"origin\", \"dest\", \"carrier\", \"carrier_indexed\", \"carrier_encoded\"])\n",
    "                 .sample(fraction=0.001, withReplacement=False, seed=rnd_seed).show())"
   ]
  },
  {
   "cell_type": "markdown",
   "metadata": {},
   "source": [
    "Note: Although the column vector is a still a SparseVector but the encoding is of same lenght in all rows because dropLast=False: Hence the  entry (3,[],[]) is the previous encoding scheme is now converted to (4,[0],[1.0]), which means there are 4 elements and the 0th position has a 1.0. Following that it means that there will be no combination where all position are 0's, there will always be a 1.0 in one of the positions."
   ]
  },
  {
   "cell_type": "markdown",
   "metadata": {},
   "source": [
    "#### 6.1.2 Use a VectorAssembler to put features into a feature vector column"
   ]
  },
  {
   "cell_type": "code",
   "execution_count": 117,
   "metadata": {},
   "outputs": [
    {
     "name": "stdout",
     "output_type": "stream",
     "text": [
      "+-------+---------------+---------------+------+\n",
      "|carrier|carrier_indexed|carrier_encoded|  dist|\n",
      "+-------+---------------+---------------+------+\n",
      "|     UA|            0.0|  (4,[0],[1.0])| 888.0|\n",
      "|     UA|            0.0|  (4,[0],[1.0])|1846.0|\n",
      "|     DL|            1.0|  (4,[1],[1.0])| 746.0|\n",
      "|     DL|            1.0|  (4,[1],[1.0])| 184.0|\n",
      "|     UA|            0.0|  (4,[0],[1.0])| 862.0|\n",
      "|     AA|            2.0|  (4,[2],[1.0])|1197.0|\n",
      "|     UA|            0.0|  (4,[0],[1.0])| 888.0|\n",
      "|     UA|            0.0|  (4,[0],[1.0])|2139.0|\n",
      "|     UA|            0.0|  (4,[0],[1.0])| 862.0|\n",
      "|     AA|            2.0|  (4,[2],[1.0])|1258.0|\n",
      "|     DL|            1.0|  (4,[1],[1.0])| 184.0|\n",
      "|     AA|            2.0|  (4,[2],[1.0])|1709.0|\n",
      "|     UA|            0.0|  (4,[0],[1.0])|2704.0|\n",
      "+-------+---------------+---------------+------+\n",
      "\n"
     ]
    }
   ],
   "source": [
    "(encoded_df.select([\"carrier\", \"carrier_indexed\", \"carrier_encoded\", \"dist\"])\n",
    "                 .sample(fraction=0.001, withReplacement=False, seed=rnd_seed).show())"
   ]
  },
  {
   "cell_type": "markdown",
   "metadata": {},
   "source": [
    "**Experiment: Let's choose only two features 'carrier_encoded' & 'dist'**"
   ]
  },
  {
   "cell_type": "code",
   "execution_count": 118,
   "metadata": {
    "collapsed": true
   },
   "outputs": [],
   "source": [
    "featureCols = [\"carrier_encoded\", \"dist\"]"
   ]
  },
  {
   "cell_type": "code",
   "execution_count": 119,
   "metadata": {
    "collapsed": true
   },
   "outputs": [],
   "source": [
    "# put features into a feature vector column\n",
    "assembler = VectorAssembler(inputCols=featureCols, outputCol=\"features\") "
   ]
  },
  {
   "cell_type": "code",
   "execution_count": 120,
   "metadata": {
    "collapsed": true
   },
   "outputs": [],
   "source": [
    "assembled_df = assembler.transform(encoded_df)"
   ]
  },
  {
   "cell_type": "markdown",
   "metadata": {},
   "source": [
    "**Result: SparseVector representation of the Feature Vectors**"
   ]
  },
  {
   "cell_type": "code",
   "execution_count": 121,
   "metadata": {},
   "outputs": [
    {
     "name": "stdout",
     "output_type": "stream",
     "text": [
      "+-------+---------------+---------------+------+----------------------+\n",
      "|carrier|carrier_indexed|carrier_encoded|dist  |features              |\n",
      "+-------+---------------+---------------+------+----------------------+\n",
      "|UA     |0.0            |(4,[0],[1.0])  |888.0 |(5,[0,4],[1.0,888.0]) |\n",
      "|UA     |0.0            |(4,[0],[1.0])  |1846.0|(5,[0,4],[1.0,1846.0])|\n",
      "|DL     |1.0            |(4,[1],[1.0])  |746.0 |(5,[1,4],[1.0,746.0]) |\n",
      "|DL     |1.0            |(4,[1],[1.0])  |184.0 |(5,[1,4],[1.0,184.0]) |\n",
      "|UA     |0.0            |(4,[0],[1.0])  |862.0 |(5,[0,4],[1.0,862.0]) |\n",
      "|AA     |2.0            |(4,[2],[1.0])  |1197.0|(5,[2,4],[1.0,1197.0])|\n",
      "|UA     |0.0            |(4,[0],[1.0])  |888.0 |(5,[0,4],[1.0,888.0]) |\n",
      "|UA     |0.0            |(4,[0],[1.0])  |2139.0|(5,[0,4],[1.0,2139.0])|\n",
      "|UA     |0.0            |(4,[0],[1.0])  |862.0 |(5,[0,4],[1.0,862.0]) |\n",
      "|AA     |2.0            |(4,[2],[1.0])  |1258.0|(5,[2,4],[1.0,1258.0])|\n",
      "|DL     |1.0            |(4,[1],[1.0])  |184.0 |(5,[1,4],[1.0,184.0]) |\n",
      "|AA     |2.0            |(4,[2],[1.0])  |1709.0|(5,[2,4],[1.0,1709.0])|\n",
      "|UA     |0.0            |(4,[0],[1.0])  |2704.0|(5,[0,4],[1.0,2704.0])|\n",
      "+-------+---------------+---------------+------+----------------------+\n",
      "\n"
     ]
    }
   ],
   "source": [
    "(assembled_df.select([\"carrier\", \"carrier_indexed\", \"carrier_encoded\", \"dist\", \"features\"])\n",
    "                .sample(fraction=0.001, withReplacement=False, seed=rnd_seed).show(truncate=False))"
   ]
  },
  {
   "cell_type": "markdown",
   "metadata": {},
   "source": [
    "### 6.2 Combine StringIndexer, OneHotEncoder, VectorAssembler and a Transformer to put features into a feature vector column"
   ]
  },
  {
   "cell_type": "markdown",
   "metadata": {},
   "source": [
    "**Let's OneHotEncode all the categorical columns:**"
   ]
  },
  {
   "cell_type": "code",
   "execution_count": 122,
   "metadata": {
    "collapsed": true
   },
   "outputs": [],
   "source": [
    "# categorical columns\n",
    "categoricalColumns = [\"carrier\", \"origin\", \"dest\", \"dofW\"]"
   ]
  },
  {
   "cell_type": "code",
   "execution_count": 123,
   "metadata": {},
   "outputs": [
    {
     "name": "stdout",
     "output_type": "stream",
     "text": [
      "carrier has 4 distinct values.\n",
      "origin has 9 distinct values.\n",
      "dest has 9 distinct values.\n",
      "dofW has 7 distinct values.\n"
     ]
    }
   ],
   "source": [
    "for cat in categoricalColumns:\n",
    "    print(\"{0} has {1} distinct values.\".format(cat, strat_train_df.select(cat).distinct().count()))"
   ]
  },
  {
   "cell_type": "code",
   "execution_count": 124,
   "metadata": {
    "collapsed": true
   },
   "outputs": [],
   "source": [
    "# String Indexers will encode string categorical columns into a column of numeric indices\n",
    "stringIndexers = [StringIndexer(inputCol=colName, outputCol=\"{0}_indexed\".format(colName)).fit(strat_train_df) for colName in categoricalColumns]"
   ]
  },
  {
   "cell_type": "code",
   "execution_count": 125,
   "metadata": {
    "collapsed": true
   },
   "outputs": [],
   "source": [
    "# OneHotEncoders map number indices column to column of binary vectors\n",
    "encoders = [OneHotEncoder(inputCol=\"{0}_indexed\".format(colName), outputCol=\"{0}_encoded\".format(colName), dropLast=False) for colName in categoricalColumns]"
   ]
  },
  {
   "cell_type": "code",
   "execution_count": 126,
   "metadata": {
    "collapsed": true
   },
   "outputs": [],
   "source": [
    "# Below, a Bucketizer is used to add a label of delayed 0/1. \n",
    "labeler = Bucketizer(splits=[0.0, 40.0, float(\"inf\")], inputCol=\"depdelay\", outputCol=\"label\")"
   ]
  },
  {
   "cell_type": "code",
   "execution_count": 127,
   "metadata": {
    "collapsed": true
   },
   "outputs": [],
   "source": [
    "featureCols = [\"carrier_encoded\", \"dest_encoded\", \"origin_encoded\", \"dofW_encoded\", \"crsdephour\", \"crselapsedtime\", \"crsarrtime\", \"crsdeptime\", \"dist\"]"
   ]
  },
  {
   "cell_type": "code",
   "execution_count": 128,
   "metadata": {
    "collapsed": true
   },
   "outputs": [],
   "source": [
    "# The VectorAssembler combines a given list of columns into a single feature vector #column.\n",
    "assembler = VectorAssembler(inputCols=featureCols, outputCol=\"features\") "
   ]
  },
  {
   "cell_type": "markdown",
   "metadata": {},
   "source": [
    "The result of running these transformers in a pipeline will be to add a label and features column to the dataset as shown below.\n",
    "\n",
    "![](assets/add-label-features-column.png)"
   ]
  },
  {
   "cell_type": "markdown",
   "metadata": {},
   "source": [
    "The final element in our pipeline is an estimator (a decision tree classifier), training on the vector of labels and features."
   ]
  },
  {
   "cell_type": "markdown",
   "metadata": {},
   "source": [
    "## 7. Create Decision Tree Estimator, set Label and Feature Columns"
   ]
  },
  {
   "cell_type": "code",
   "execution_count": 129,
   "metadata": {
    "collapsed": true
   },
   "outputs": [],
   "source": [
    "from pyspark.ml.classification import DecisionTreeClassifier\n",
    "dTree = DecisionTreeClassifier(featuresCol='features', labelCol='label', predictionCol='prediction', maxDepth=5, maxBins=7000)"
   ]
  },
  {
   "cell_type": "markdown",
   "metadata": {},
   "source": [
    "Below, we chain the indexers and tree in a Pipeline."
   ]
  },
  {
   "cell_type": "markdown",
   "metadata": {},
   "source": [
    "### 7.1 Setup pipeline with feature transformers and model estimator"
   ]
  },
  {
   "cell_type": "code",
   "execution_count": 130,
   "metadata": {},
   "outputs": [
    {
     "data": {
      "text/plain": [
       "[StringIndexer_5e121755420b,\n",
       " StringIndexer_b053dbdbf6d0,\n",
       " StringIndexer_013d83784d0a,\n",
       " StringIndexer_31487e6521c9,\n",
       " OneHotEncoder_c32a91af696a,\n",
       " OneHotEncoder_92e1c97a689b,\n",
       " OneHotEncoder_cfab68d1723b,\n",
       " OneHotEncoder_6e026e0c3ca3,\n",
       " Bucketizer_4da46b88cfd3,\n",
       " VectorAssembler_b6b526df22b3,\n",
       " DecisionTreeClassifier_62f9f582312f]"
      ]
     },
     "execution_count": 130,
     "metadata": {},
     "output_type": "execute_result"
    }
   ],
   "source": [
    "steps = stringIndexers + encoders + [labeler, assembler, dTree]\n",
    "steps"
   ]
  },
  {
   "cell_type": "code",
   "execution_count": 131,
   "metadata": {
    "collapsed": true
   },
   "outputs": [],
   "source": [
    "pipeline = Pipeline(stages=steps)"
   ]
  },
  {
   "cell_type": "markdown",
   "metadata": {},
   "source": [
    "## 8. Train the Model\n",
    "\n",
    "We would like to determine which parameter values of the decision tree produce the best model. A common technique for model selection is k-fold cross-validation, where the data is randomly split into k partitions. Each partition is used once as the testing dataset, while the rest are used for training. Models are then generated using the training sets and evaluated with the testing sets, resulting in k model performance measurements. The model parameters leading to the highest performance metric produce the best model."
   ]
  },
  {
   "cell_type": "markdown",
   "metadata": {},
   "source": [
    "Spark ML supports k-fold cross-validation with a transformation/estimation pipeline to try out different combinations of parameters, using a process called grid search, where you set up the parameters to test, and a cross-validation evaluator to construct a model selection workflow.\n",
    "\n",
    "Below, we use a ParamGridBuilder to construct the parameter grid. We define an Evaluator, which will evaluate the model by comparing the test label column with the test prediction column. We use a CrossValidator for model selection."
   ]
  },
  {
   "cell_type": "markdown",
   "metadata": {},
   "source": [
    "### 8.1 Set up a CrossValidator with the parameters, a tree estimator and evaluator"
   ]
  },
  {
   "cell_type": "code",
   "execution_count": 132,
   "metadata": {
    "collapsed": true
   },
   "outputs": [],
   "source": [
    "# set param grid to search through decision tree's maxDepth parameter for best model\n",
    "# Deeper trees are potential more accurate, but are also more likely to overfit\n",
    "paramGrid = ParamGridBuilder().addGrid(dTree.maxDepth, [4, 5, 6]).build()"
   ]
  },
  {
   "cell_type": "code",
   "execution_count": 133,
   "metadata": {
    "collapsed": true
   },
   "outputs": [],
   "source": [
    "#evaluator = BinaryClassificationEvaluator(rawPredictionCol='rawPrediction', labelCol=\"label\", metricName=\"areaUnderROC\")\n",
    "evaluator = MulticlassClassificationEvaluator(predictionCol='prediction', labelCol=\"label\", metricName=\"accuracy\")"
   ]
  },
  {
   "cell_type": "code",
   "execution_count": 134,
   "metadata": {
    "collapsed": true
   },
   "outputs": [],
   "source": [
    "# Set up 3-fold cross validation with paramGrid\n",
    "crossVal = CrossValidator(estimator=pipeline, evaluator=evaluator, estimatorParamMaps=paramGrid, numFolds=3)"
   ]
  },
  {
   "cell_type": "markdown",
   "metadata": {},
   "source": [
    "The CrossValidator uses the Estimator Pipeline, the Parameter Grid, and the Classification Evaluator to fit the training data set and returns a model."
   ]
  },
  {
   "cell_type": "markdown",
   "metadata": {},
   "source": [
    "### 8.2 Use CrossValidator Estimator to fit the training data set"
   ]
  },
  {
   "cell_type": "code",
   "execution_count": 135,
   "metadata": {
    "collapsed": true,
    "scrolled": false
   },
   "outputs": [],
   "source": [
    "cvModel = crossVal.fit(strat_train_df)"
   ]
  },
  {
   "cell_type": "markdown",
   "metadata": {},
   "source": [
    "The CrossValidator uses the ParamGridBuilder to iterate through the maxDepth parameter of the decision tree and evaluate the models, repeating 3 times per parameter value for reliable results.\n",
    "\n",
    "Next, we can get the best decision tree model, in order to print out the decision tree and feature importances. (Note that the OneHotEncoders increases the number of features. In order to understand this printout better I built a tree without the encoders, which gave a slightly lower accuracy)"
   ]
  },
  {
   "cell_type": "code",
   "execution_count": 136,
   "metadata": {},
   "outputs": [
    {
     "data": {
      "text/plain": [
       "[StringIndexer_5e121755420b,\n",
       " StringIndexer_b053dbdbf6d0,\n",
       " StringIndexer_013d83784d0a,\n",
       " StringIndexer_31487e6521c9,\n",
       " OneHotEncoder_c32a91af696a,\n",
       " OneHotEncoder_92e1c97a689b,\n",
       " OneHotEncoder_cfab68d1723b,\n",
       " OneHotEncoder_6e026e0c3ca3,\n",
       " Bucketizer_4da46b88cfd3,\n",
       " VectorAssembler_b6b526df22b3,\n",
       " DecisionTreeClassificationModel (uid=DecisionTreeClassifier_62f9f582312f) of depth 6 with 87 nodes]"
      ]
     },
     "execution_count": 136,
     "metadata": {},
     "output_type": "execute_result"
    }
   ],
   "source": [
    "cvModel.bestModel.stages"
   ]
  },
  {
   "cell_type": "markdown",
   "metadata": {},
   "source": [
    "### 8.3 Get the best Decision Tree Model"
   ]
  },
  {
   "cell_type": "code",
   "execution_count": 137,
   "metadata": {},
   "outputs": [
    {
     "data": {
      "text/plain": [
       "DecisionTreeClassificationModel (uid=DecisionTreeClassifier_62f9f582312f) of depth 6 with 87 nodes"
      ]
     },
     "execution_count": 137,
     "metadata": {},
     "output_type": "execute_result"
    }
   ],
   "source": [
    "treeModel = cvModel.bestModel.stages[-1]\n",
    "treeModel"
   ]
  },
  {
   "cell_type": "code",
   "execution_count": 138,
   "metadata": {},
   "outputs": [
    {
     "data": {
      "text/plain": [
       "pyspark.ml.classification.DecisionTreeClassificationModel"
      ]
     },
     "execution_count": 138,
     "metadata": {},
     "output_type": "execute_result"
    }
   ],
   "source": [
    "type(treeModel)"
   ]
  },
  {
   "cell_type": "markdown",
   "metadata": {},
   "source": [
    "We find that the best tree model produced using the cross-validation process is one with a depth of 6. The toDebugString() function provides a print of the tree's decision nodes and final prediction outcomes at the end leaves. Below is a partial printout of the decision tree:"
   ]
  },
  {
   "cell_type": "code",
   "execution_count": 139,
   "metadata": {
    "scrolled": false
   },
   "outputs": [
    {
     "name": "stdout",
     "output_type": "stream",
     "text": [
      "DecisionTreeClassificationModel (uid=DecisionTreeClassifier_62f9f582312f) of depth 6 with 87 nodes\n",
      "  If (feature 32 <= 1018.5)\n",
      "   If (feature 32 <= 779.5)\n",
      "    If (feature 31 <= 913.5)\n",
      "     If (feature 33 <= 1627.5)\n",
      "      If (feature 32 <= 720.5)\n",
      "       Predict: 0.0\n",
      "      Else (feature 32 > 720.5)\n",
      "       If (feature 31 <= 825.0)\n",
      "        Predict: 1.0\n",
      "       Else (feature 31 > 825.0)\n",
      "        Predict: 0.0\n",
      "     Else (feature 33 > 1627.5)\n",
      "      If (feature 30 <= 217.5)\n",
      "       Predict: 1.0\n",
      "      Else (feature 30 > 217.5)\n",
      "       If (feature 31 <= 630.5)\n",
      "        Predict: 0.0\n",
      "       Else (feature 31 > 630.5)\n",
      "        Predict: 1.0\n",
      "    Else (feature 31 > 913.5)\n",
      "     If (feature 10 in {1.0})\n",
      "      Predict: 0.0\n",
      "     Else (feature 10 not in {1.0})\n",
      "      If (feature 31 <= 1529.5)\n",
      "       Predict: 0.0\n",
      "      Else (feature 31 > 1529.5)\n",
      "       If (feature 22 in {1.0})\n",
      "        Predict: 1.0\n",
      "       Else (feature 22 not in {1.0})\n",
      "        Predict: 0.0\n",
      "   Else (feature 32 > 779.5)\n",
      "    If (feature 8 in {1.0})\n",
      "     If (feature 30 <= 319.5)\n",
      "      If (feature 31 <= 1202.5)\n",
      "       Predict: 0.0\n",
      "      Else (feature 31 > 1202.5)\n",
      "       Predict: 1.0\n",
      "     Else (feature 30 > 319.5)\n",
      "      If (feature 30 <= 398.5)\n",
      "       Predict: 0.0\n",
      "      Else (feature 30 > 398.5)\n",
      "       If (feature 24 in {1.0})\n",
      "        Predict: 1.0\n",
      "       Else (feature 24 not in {1.0})\n",
      "        Predict: 0.0\n",
      "    Else (feature 8 not in {1.0})\n",
      "     If (feature 31 <= 1509.5)\n",
      "      If (feature 20 in {1.0})\n",
      "       If (feature 22 in {1.0})\n",
      "        Predict: 1.0\n",
      "       Else (feature 22 not in {1.0})\n",
      "        Predict: 0.0\n",
      "      Else (feature 20 not in {1.0})\n",
      "       Predict: 0.0\n",
      "     Else (feature 31 > 1509.5)\n",
      "      If (feature 31 <= 1720.5)\n",
      "       If (feature 31 <= 1523.5)\n",
      "        Predict: 1.0\n",
      "       Else (feature 31 > 1523.5)\n",
      "        Predict: 0.0\n",
      "      Else (feature 31 > 1720.5)\n",
      "       If (feature 25 in {1.0})\n",
      "        Predict: 0.0\n",
      "       Else (feature 25 not in {1.0})\n",
      "        Predict: 1.0\n",
      "  Else (feature 32 > 1018.5)\n",
      "   If (feature 8 in {1.0})\n",
      "    If (feature 22 in {1.0})\n",
      "     If (feature 17 in {1.0})\n",
      "      Predict: 0.0\n",
      "     Else (feature 17 not in {1.0})\n",
      "      If (feature 32 <= 2215.0)\n",
      "       If (feature 2 in {1.0})\n",
      "        Predict: 0.0\n",
      "       Else (feature 2 not in {1.0})\n",
      "        Predict: 1.0\n",
      "      Else (feature 32 > 2215.0)\n",
      "       Predict: 0.0\n",
      "    Else (feature 22 not in {1.0})\n",
      "     If (feature 0 in {0.0})\n",
      "      If (feature 30 <= 325.5)\n",
      "       If (feature 29 <= 21.5)\n",
      "        Predict: 0.0\n",
      "       Else (feature 29 > 21.5)\n",
      "        Predict: 1.0\n",
      "      Else (feature 30 > 325.5)\n",
      "       If (feature 31 <= 1319.5)\n",
      "        Predict: 0.0\n",
      "       Else (feature 31 > 1319.5)\n",
      "        Predict: 1.0\n",
      "     Else (feature 0 not in {0.0})\n",
      "      If (feature 17 in {1.0})\n",
      "       If (feature 32 <= 1650.5)\n",
      "        Predict: 0.0\n",
      "       Else (feature 32 > 1650.5)\n",
      "        Predict: 1.0\n",
      "      Else (feature 17 not in {1.0})\n",
      "       If (feature 28 in {1.0})\n",
      "        Predict: 0.0\n",
      "       Else (feature 28 not in {1.0})\n",
      "        Predict: 1.0\n",
      "   Else (feature 8 not in {1.0})\n",
      "    If (feature 31 <= 1606.5)\n",
      "     If (feature 19 in {1.0})\n",
      "      If (feature 32 <= 1824.0)\n",
      "       If (feature 31 <= 1425.5)\n",
      "        Predict: 1.0\n",
      "       Else (feature 31 > 1425.5)\n",
      "        Predict: 0.0\n",
      "      Else (feature 32 > 1824.0)\n",
      "       Predict: 0.0\n",
      "     Else (feature 19 not in {1.0})\n",
      "      Predict: 0.0\n",
      "    Else (feature 31 > 1606.5)\n",
      "     If (feature 7 in {1.0})\n",
      "      If (feature 30 <= 177.5)\n",
      "       Predict: 1.0\n",
      "      Else (feature 30 > 177.5)\n",
      "       If (feature 20 in {1.0})\n",
      "        Predict: 1.0\n",
      "       Else (feature 20 not in {1.0})\n",
      "        Predict: 0.0\n",
      "     Else (feature 7 not in {1.0})\n",
      "      If (feature 19 in {1.0})\n",
      "       If (feature 31 <= 2257.5)\n",
      "        Predict: 0.0\n",
      "       Else (feature 31 > 2257.5)\n",
      "        Predict: 1.0\n",
      "      Else (feature 19 not in {1.0})\n",
      "       Predict: 0.0\n",
      "\n"
     ]
    }
   ],
   "source": [
    "print(treeModel.toDebugString)"
   ]
  },
  {
   "cell_type": "code",
   "execution_count": 140,
   "metadata": {
    "collapsed": true
   },
   "outputs": [],
   "source": [
    "# https://github.com/tristaneljed/Decision-Tree-Visualization-Spark/blob/master/DT.py#L51-L64\n",
    "import json\n",
    "# Parser\n",
    "def parse(lines):\n",
    "    block = []\n",
    "    while lines :\n",
    "\n",
    "        if lines[0].startswith('If'):\n",
    "            bl = ' '.join(lines.pop(0).split()[1:]).replace('(', '').replace(')', '')\n",
    "            block.append({'name':bl, 'children':parse(lines)})\n",
    "\n",
    "\n",
    "            if lines[0].startswith('Else'):\n",
    "                be = ' '.join(lines.pop(0).split()[1:]).replace('(', '').replace(')', '')\n",
    "                block.append({'name':be, 'children':parse(lines)})\n",
    "        elif not lines[0].startswith(('If','Else')):\n",
    "            block2 = lines.pop(0)\n",
    "            block.append({'name':block2})\n",
    "        else:\n",
    "            break\n",
    "    return block\n",
    "\n",
    "# Convert Tree to JSON\n",
    "def tree_json(tree):\n",
    "    data = []\n",
    "    for line in tree.splitlines() : \n",
    "        if line.strip():\n",
    "            line = line.strip()\n",
    "            data.append(line)\n",
    "        else : break\n",
    "        if not line : break\n",
    "    res = []\n",
    "    res.append({'name':'Root', 'children':parse(data[1:])})\n",
    "    #with open('data/structure.json', 'w') as outfile:\n",
    "    #    json.dump(res[0], outfile)\n",
    "    print(json.dumps(res[0], indent=4))\n",
    "    print ('Conversion Success !')"
   ]
  },
  {
   "cell_type": "code",
   "execution_count": 141,
   "metadata": {
    "collapsed": true,
    "scrolled": false
   },
   "outputs": [],
   "source": [
    "#tree_json(treeModel.toDebugString)"
   ]
  },
  {
   "cell_type": "markdown",
   "metadata": {},
   "source": [
    "### 8.4 Get the most important features affecting the delay"
   ]
  },
  {
   "cell_type": "code",
   "execution_count": 142,
   "metadata": {},
   "outputs": [
    {
     "data": {
      "text/plain": [
       "['carrier_encoded',\n",
       " 'dest_encoded',\n",
       " 'origin_encoded',\n",
       " 'dofW_encoded',\n",
       " 'crsdephour',\n",
       " 'crselapsedtime',\n",
       " 'crsarrtime',\n",
       " 'crsdeptime',\n",
       " 'dist']"
      ]
     },
     "execution_count": 142,
     "metadata": {},
     "output_type": "execute_result"
    }
   ],
   "source": [
    "featureCols"
   ]
  },
  {
   "cell_type": "code",
   "execution_count": 143,
   "metadata": {},
   "outputs": [
    {
     "data": {
      "text/plain": [
       "34"
      ]
     },
     "execution_count": 143,
     "metadata": {},
     "output_type": "execute_result"
    }
   ],
   "source": [
    "treeModel.numFeatures"
   ]
  },
  {
   "cell_type": "code",
   "execution_count": 144,
   "metadata": {},
   "outputs": [
    {
     "data": {
      "text/plain": [
       "SparseVector(34, {0: 0.0055, 2: 0.0028, 7: 0.0703, 8: 0.133, 10: 0.003, 17: 0.0141, 19: 0.0698, 20: 0.0186, 22: 0.0274, 24: 0.0024, 25: 0.0032, 28: 0.0049, 29: 0.0058, 30: 0.0367, 31: 0.1235, 32: 0.4758, 33: 0.0034})"
      ]
     },
     "execution_count": 144,
     "metadata": {},
     "output_type": "execute_result"
    }
   ],
   "source": [
    "treeModel.featureImportances"
   ]
  },
  {
   "cell_type": "code",
   "execution_count": 145,
   "metadata": {
    "collapsed": true
   },
   "outputs": [],
   "source": [
    "# the features have been encoded, so create the entire list of features\n",
    "expandedFeatureCols = []\n",
    "for i, cat in enumerate([\"carrier\", \"origin\", \"dest\", \"dofW\"]):\n",
    "    for label in stringIndexers[i].labels:\n",
    "        expandedFeatureCols.append(\"{0}_encoded_{1}\".format(cat, label))\n",
    "for feat in featureCols[4:]:\n",
    "    expandedFeatureCols.append(feat)"
   ]
  },
  {
   "cell_type": "code",
   "execution_count": 146,
   "metadata": {},
   "outputs": [
    {
     "data": {
      "text/plain": [
       "34"
      ]
     },
     "execution_count": 146,
     "metadata": {},
     "output_type": "execute_result"
    }
   ],
   "source": [
    "len(expandedFeatureCols)"
   ]
  },
  {
   "cell_type": "code",
   "execution_count": 147,
   "metadata": {},
   "outputs": [
    {
     "data": {
      "text/plain": [
       "['carrier_encoded_UA',\n",
       " 'carrier_encoded_DL',\n",
       " 'carrier_encoded_AA',\n",
       " 'carrier_encoded_WN',\n",
       " 'origin_encoded_ORD',\n",
       " 'origin_encoded_ATL',\n",
       " 'origin_encoded_LGA',\n",
       " 'origin_encoded_DEN',\n",
       " 'origin_encoded_EWR',\n",
       " 'origin_encoded_MIA',\n",
       " 'origin_encoded_SFO',\n",
       " 'origin_encoded_IAH',\n",
       " 'origin_encoded_BOS',\n",
       " 'dest_encoded_ORD',\n",
       " 'dest_encoded_ATL',\n",
       " 'dest_encoded_LGA',\n",
       " 'dest_encoded_EWR',\n",
       " 'dest_encoded_SFO',\n",
       " 'dest_encoded_MIA',\n",
       " 'dest_encoded_DEN',\n",
       " 'dest_encoded_BOS',\n",
       " 'dest_encoded_IAH',\n",
       " 'dofW_encoded_1',\n",
       " 'dofW_encoded_2',\n",
       " 'dofW_encoded_5',\n",
       " 'dofW_encoded_7',\n",
       " 'dofW_encoded_4',\n",
       " 'dofW_encoded_3',\n",
       " 'dofW_encoded_6',\n",
       " 'crsdephour',\n",
       " 'crselapsedtime',\n",
       " 'crsarrtime',\n",
       " 'crsdeptime',\n",
       " 'dist']"
      ]
     },
     "execution_count": 147,
     "metadata": {},
     "output_type": "execute_result"
    }
   ],
   "source": [
    "expandedFeatureCols"
   ]
  },
  {
   "cell_type": "code",
   "execution_count": 148,
   "metadata": {},
   "outputs": [
    {
     "data": {
      "text/html": [
       "<div>\n",
       "<style>\n",
       "    .dataframe thead tr:only-child th {\n",
       "        text-align: right;\n",
       "    }\n",
       "\n",
       "    .dataframe thead th {\n",
       "        text-align: left;\n",
       "    }\n",
       "\n",
       "    .dataframe tbody tr th {\n",
       "        vertical-align: top;\n",
       "    }\n",
       "</style>\n",
       "<table border=\"1\" class=\"dataframe\">\n",
       "  <thead>\n",
       "    <tr style=\"text-align: right;\">\n",
       "      <th></th>\n",
       "      <th>feature</th>\n",
       "      <th>importance</th>\n",
       "    </tr>\n",
       "  </thead>\n",
       "  <tbody>\n",
       "    <tr>\n",
       "      <th>0</th>\n",
       "      <td>carrier_encoded_UA</td>\n",
       "      <td>0.005454</td>\n",
       "    </tr>\n",
       "    <tr>\n",
       "      <th>1</th>\n",
       "      <td>carrier_encoded_DL</td>\n",
       "      <td>0.000000</td>\n",
       "    </tr>\n",
       "    <tr>\n",
       "      <th>2</th>\n",
       "      <td>carrier_encoded_AA</td>\n",
       "      <td>0.002758</td>\n",
       "    </tr>\n",
       "    <tr>\n",
       "      <th>3</th>\n",
       "      <td>carrier_encoded_WN</td>\n",
       "      <td>0.000000</td>\n",
       "    </tr>\n",
       "    <tr>\n",
       "      <th>4</th>\n",
       "      <td>origin_encoded_ORD</td>\n",
       "      <td>0.000000</td>\n",
       "    </tr>\n",
       "    <tr>\n",
       "      <th>5</th>\n",
       "      <td>origin_encoded_ATL</td>\n",
       "      <td>0.000000</td>\n",
       "    </tr>\n",
       "    <tr>\n",
       "      <th>6</th>\n",
       "      <td>origin_encoded_LGA</td>\n",
       "      <td>0.000000</td>\n",
       "    </tr>\n",
       "    <tr>\n",
       "      <th>7</th>\n",
       "      <td>origin_encoded_DEN</td>\n",
       "      <td>0.070253</td>\n",
       "    </tr>\n",
       "    <tr>\n",
       "      <th>8</th>\n",
       "      <td>origin_encoded_EWR</td>\n",
       "      <td>0.132989</td>\n",
       "    </tr>\n",
       "    <tr>\n",
       "      <th>9</th>\n",
       "      <td>origin_encoded_MIA</td>\n",
       "      <td>0.000000</td>\n",
       "    </tr>\n",
       "    <tr>\n",
       "      <th>10</th>\n",
       "      <td>origin_encoded_SFO</td>\n",
       "      <td>0.002986</td>\n",
       "    </tr>\n",
       "    <tr>\n",
       "      <th>11</th>\n",
       "      <td>origin_encoded_IAH</td>\n",
       "      <td>0.000000</td>\n",
       "    </tr>\n",
       "    <tr>\n",
       "      <th>12</th>\n",
       "      <td>origin_encoded_BOS</td>\n",
       "      <td>0.000000</td>\n",
       "    </tr>\n",
       "    <tr>\n",
       "      <th>13</th>\n",
       "      <td>dest_encoded_ORD</td>\n",
       "      <td>0.000000</td>\n",
       "    </tr>\n",
       "    <tr>\n",
       "      <th>14</th>\n",
       "      <td>dest_encoded_ATL</td>\n",
       "      <td>0.000000</td>\n",
       "    </tr>\n",
       "    <tr>\n",
       "      <th>15</th>\n",
       "      <td>dest_encoded_LGA</td>\n",
       "      <td>0.000000</td>\n",
       "    </tr>\n",
       "    <tr>\n",
       "      <th>16</th>\n",
       "      <td>dest_encoded_EWR</td>\n",
       "      <td>0.000000</td>\n",
       "    </tr>\n",
       "    <tr>\n",
       "      <th>17</th>\n",
       "      <td>dest_encoded_SFO</td>\n",
       "      <td>0.014061</td>\n",
       "    </tr>\n",
       "    <tr>\n",
       "      <th>18</th>\n",
       "      <td>dest_encoded_MIA</td>\n",
       "      <td>0.000000</td>\n",
       "    </tr>\n",
       "    <tr>\n",
       "      <th>19</th>\n",
       "      <td>dest_encoded_DEN</td>\n",
       "      <td>0.069842</td>\n",
       "    </tr>\n",
       "    <tr>\n",
       "      <th>20</th>\n",
       "      <td>dest_encoded_BOS</td>\n",
       "      <td>0.018569</td>\n",
       "    </tr>\n",
       "    <tr>\n",
       "      <th>21</th>\n",
       "      <td>dest_encoded_IAH</td>\n",
       "      <td>0.000000</td>\n",
       "    </tr>\n",
       "    <tr>\n",
       "      <th>22</th>\n",
       "      <td>dofW_encoded_1</td>\n",
       "      <td>0.027362</td>\n",
       "    </tr>\n",
       "    <tr>\n",
       "      <th>23</th>\n",
       "      <td>dofW_encoded_2</td>\n",
       "      <td>0.000000</td>\n",
       "    </tr>\n",
       "    <tr>\n",
       "      <th>24</th>\n",
       "      <td>dofW_encoded_5</td>\n",
       "      <td>0.002446</td>\n",
       "    </tr>\n",
       "    <tr>\n",
       "      <th>25</th>\n",
       "      <td>dofW_encoded_7</td>\n",
       "      <td>0.003194</td>\n",
       "    </tr>\n",
       "    <tr>\n",
       "      <th>26</th>\n",
       "      <td>dofW_encoded_4</td>\n",
       "      <td>0.000000</td>\n",
       "    </tr>\n",
       "    <tr>\n",
       "      <th>27</th>\n",
       "      <td>dofW_encoded_3</td>\n",
       "      <td>0.000000</td>\n",
       "    </tr>\n",
       "    <tr>\n",
       "      <th>28</th>\n",
       "      <td>dofW_encoded_6</td>\n",
       "      <td>0.004911</td>\n",
       "    </tr>\n",
       "    <tr>\n",
       "      <th>29</th>\n",
       "      <td>crsdephour</td>\n",
       "      <td>0.005836</td>\n",
       "    </tr>\n",
       "    <tr>\n",
       "      <th>30</th>\n",
       "      <td>crselapsedtime</td>\n",
       "      <td>0.036692</td>\n",
       "    </tr>\n",
       "    <tr>\n",
       "      <th>31</th>\n",
       "      <td>crsarrtime</td>\n",
       "      <td>0.123474</td>\n",
       "    </tr>\n",
       "    <tr>\n",
       "      <th>32</th>\n",
       "      <td>crsdeptime</td>\n",
       "      <td>0.475812</td>\n",
       "    </tr>\n",
       "    <tr>\n",
       "      <th>33</th>\n",
       "      <td>dist</td>\n",
       "      <td>0.003358</td>\n",
       "    </tr>\n",
       "  </tbody>\n",
       "</table>\n",
       "</div>"
      ],
      "text/plain": [
       "               feature  importance\n",
       "0   carrier_encoded_UA    0.005454\n",
       "1   carrier_encoded_DL    0.000000\n",
       "2   carrier_encoded_AA    0.002758\n",
       "3   carrier_encoded_WN    0.000000\n",
       "4   origin_encoded_ORD    0.000000\n",
       "5   origin_encoded_ATL    0.000000\n",
       "6   origin_encoded_LGA    0.000000\n",
       "7   origin_encoded_DEN    0.070253\n",
       "8   origin_encoded_EWR    0.132989\n",
       "9   origin_encoded_MIA    0.000000\n",
       "10  origin_encoded_SFO    0.002986\n",
       "11  origin_encoded_IAH    0.000000\n",
       "12  origin_encoded_BOS    0.000000\n",
       "13    dest_encoded_ORD    0.000000\n",
       "14    dest_encoded_ATL    0.000000\n",
       "15    dest_encoded_LGA    0.000000\n",
       "16    dest_encoded_EWR    0.000000\n",
       "17    dest_encoded_SFO    0.014061\n",
       "18    dest_encoded_MIA    0.000000\n",
       "19    dest_encoded_DEN    0.069842\n",
       "20    dest_encoded_BOS    0.018569\n",
       "21    dest_encoded_IAH    0.000000\n",
       "22      dofW_encoded_1    0.027362\n",
       "23      dofW_encoded_2    0.000000\n",
       "24      dofW_encoded_5    0.002446\n",
       "25      dofW_encoded_7    0.003194\n",
       "26      dofW_encoded_4    0.000000\n",
       "27      dofW_encoded_3    0.000000\n",
       "28      dofW_encoded_6    0.004911\n",
       "29          crsdephour    0.005836\n",
       "30      crselapsedtime    0.036692\n",
       "31          crsarrtime    0.123474\n",
       "32          crsdeptime    0.475812\n",
       "33                dist    0.003358"
      ]
     },
     "execution_count": 148,
     "metadata": {},
     "output_type": "execute_result"
    }
   ],
   "source": [
    "feature_importance_df = pd.DataFrame({\"feature\":expandedFeatureCols, \"importance\":treeModel.featureImportances.toArray()})\n",
    "feature_importance_df"
   ]
  },
  {
   "cell_type": "code",
   "execution_count": 149,
   "metadata": {},
   "outputs": [
    {
     "data": {
      "image/png": "[encoded data removed]",
      "text/plain": [
       "<matplotlib.figure.Figure at 0x7f35b58c5588>"
      ]
     },
     "metadata": {
      "image/png": {
       "height": 574,
       "width": 475
      }
     },
     "output_type": "display_data"
    }
   ],
   "source": [
    "feature_importance_df.sort_values(by='importance', ascending=True).plot.barh(x='feature', figsize=(6, 10));"
   ]
  },
  {
   "cell_type": "markdown",
   "metadata": {},
   "source": [
    "Decision trees are often used for feature selection because they provide an automated mechanism for determining the most important features (those closest to the tree root).\n",
    "\n",
    "## 9. Predictions and Model Evaluation\n",
    "\n",
    "The actual performance of the model can be determined using the test data set that has not been used for any training or cross-validation activities.\n",
    "\n",
    "We transform the test Dataframe with the model pipeline, which will tranform the features according to the pipeline, estimate and then return the label predictions in a column of a new dataframe."
   ]
  },
  {
   "cell_type": "code",
   "execution_count": 150,
   "metadata": {
    "collapsed": true
   },
   "outputs": [],
   "source": [
    "# transform the test set with the model pipeline,\n",
    "# which will map the features according to the same recipe\n",
    "predictions = cvModel.transform(test_df)"
   ]
  },
  {
   "cell_type": "markdown",
   "metadata": {},
   "source": [
    "### 9.1 Evaluate the predictions accuracy\n",
    "The evaluator will provide us with the score of the predictions. Accuracy is measured by the area under the ROC curve. The area measures the ability of the test to correctly classify true positives from false positives. A random predictor would have .5 accuracy. The closer the value is to 1 the better its predictions are. In this case, the evaluation returns 81% precision."
   ]
  },
  {
   "cell_type": "code",
   "execution_count": 151,
   "metadata": {},
   "outputs": [
    {
     "data": {
      "text/plain": [
       "0.8256028868157015"
      ]
     },
     "execution_count": 151,
     "metadata": {},
     "output_type": "execute_result"
    }
   ],
   "source": [
    "accuracy = evaluator.evaluate(predictions)\n",
    "accuracy"
   ]
  },
  {
   "cell_type": "markdown",
   "metadata": {
    "collapsed": true
   },
   "source": [
    "### 9.2 Calculate some more metrics\n",
    "\n",
    "Below, we calculate some more metrics. The number of false/true positive and negative predictions is also useful:\n",
    "\n",
    "+ True positives are how often the model correctly predicted delayed flights.\n",
    "+ False positives are how often the model incorrectly predicted delayed flights.\n",
    "+ True negatives indicate how often the model correctly predicted not delayed flights.\n",
    "+ False negatives indicate how often the model incorrectly predicted not delayed flights."
   ]
  },
  {
   "cell_type": "code",
   "execution_count": 152,
   "metadata": {
    "collapsed": true
   },
   "outputs": [],
   "source": [
    "predlbls = predictions.select(\"prediction\", \"label\")"
   ]
  },
  {
   "cell_type": "code",
   "execution_count": 153,
   "metadata": {},
   "outputs": [
    {
     "name": "stdout",
     "output_type": "stream",
     "text": [
      "+----------+-----+\n",
      "|prediction|label|\n",
      "+----------+-----+\n",
      "|       0.0|  0.0|\n",
      "|       0.0|  1.0|\n",
      "|       0.0|  0.0|\n",
      "|       0.0|  0.0|\n",
      "|       0.0|  0.0|\n",
      "|       0.0|  0.0|\n",
      "|       0.0|  0.0|\n",
      "|       0.0|  1.0|\n",
      "|       0.0|  1.0|\n",
      "|       0.0|  1.0|\n",
      "|       0.0|  0.0|\n",
      "|       0.0|  0.0|\n",
      "|       0.0|  0.0|\n",
      "|       0.0|  0.0|\n",
      "|       0.0|  0.0|\n",
      "|       0.0|  0.0|\n",
      "|       0.0|  0.0|\n",
      "|       0.0|  0.0|\n",
      "|       0.0|  0.0|\n",
      "|       0.0|  0.0|\n",
      "+----------+-----+\n",
      "only showing top 20 rows\n",
      "\n"
     ]
    }
   ],
   "source": [
    "predlbls.show()"
   ]
  },
  {
   "cell_type": "code",
   "execution_count": 154,
   "metadata": {},
   "outputs": [
    {
     "data": {
      "text/plain": [
       "(39665, 39665, 39665)"
      ]
     },
     "execution_count": 154,
     "metadata": {},
     "output_type": "execute_result"
    }
   ],
   "source": [
    "predlbls.filter(col(\"label\") == 0.0).count(), predlbls.where(\"label = 0.0\").count(), predlbls.filter(\"label = 0.0\").count()"
   ]
  },
  {
   "cell_type": "code",
   "execution_count": 155,
   "metadata": {},
   "outputs": [
    {
     "data": {
      "text/plain": [
       "45448"
      ]
     },
     "execution_count": 155,
     "metadata": {},
     "output_type": "execute_result"
    }
   ],
   "source": [
    "counttotal = predictions.count()\n",
    "counttotal"
   ]
  },
  {
   "cell_type": "code",
   "execution_count": 156,
   "metadata": {},
   "outputs": [
    {
     "data": {
      "text/plain": [
       "(39665, 41473)"
      ]
     },
     "execution_count": 156,
     "metadata": {},
     "output_type": "execute_result"
    }
   ],
   "source": [
    "label0count, pred0count = predlbls.filter(col(\"label\") == 0.0).count(), predlbls.filter(col(\"prediction\") == 0.0).count()\n",
    "label0count, pred0count"
   ]
  },
  {
   "cell_type": "code",
   "execution_count": 157,
   "metadata": {},
   "outputs": [
    {
     "data": {
      "text/plain": [
       "(5783, 3975)"
      ]
     },
     "execution_count": 157,
     "metadata": {},
     "output_type": "execute_result"
    }
   ],
   "source": [
    "label1count, pred1count = predlbls.filter(col(\"label\") == 1.0).count(), predlbls.filter(col(\"prediction\") == 1.0).count()\n",
    "label1count, pred1count"
   ]
  },
  {
   "cell_type": "code",
   "execution_count": 158,
   "metadata": {},
   "outputs": [
    {
     "name": "stdout",
     "output_type": "stream",
     "text": [
      "Ground Truth: 39665 Not Delayed, 5783 Delayed\n"
     ]
    }
   ],
   "source": [
    "print(\"Ground Truth: {0} Not Delayed, {1} Delayed\".format(label0count, label1count))"
   ]
  },
  {
   "cell_type": "code",
   "execution_count": 159,
   "metadata": {},
   "outputs": [
    {
     "name": "stdout",
     "output_type": "stream",
     "text": [
      "Predicted: 41473 Not Delayed, 3975 Delayed\n"
     ]
    }
   ],
   "source": [
    "print(\"Predicted: {0} Not Delayed, {1} Delayed\".format(pred0count, pred1count))"
   ]
  },
  {
   "cell_type": "markdown",
   "metadata": {},
   "source": [
    "**Null Accuracy:**"
   ]
  },
  {
   "cell_type": "code",
   "execution_count": 160,
   "metadata": {},
   "outputs": [
    {
     "name": "stdout",
     "output_type": "stream",
     "text": [
      "Null Accuracy:  0.8727556768174617\n"
     ]
    }
   ],
   "source": [
    "# If we would have predicted everything to be Not Delayed then what would have been the accuracy\n",
    "print(\"Null Accuracy: \", label0count / counttotal)"
   ]
  },
  {
   "cell_type": "code",
   "execution_count": 161,
   "metadata": {},
   "outputs": [
    {
     "data": {
      "text/plain": [
       "37522"
      ]
     },
     "execution_count": 161,
     "metadata": {},
     "output_type": "execute_result"
    }
   ],
   "source": [
    "correct = predlbls.filter(col('label') == col(\"prediction\")).count()\n",
    "correct"
   ]
  },
  {
   "cell_type": "code",
   "execution_count": 162,
   "metadata": {},
   "outputs": [
    {
     "data": {
      "text/plain": [
       "7926"
      ]
     },
     "execution_count": 162,
     "metadata": {},
     "output_type": "execute_result"
    }
   ],
   "source": [
    "wrong = predlbls.filter(col('label') != col(\"prediction\")).count()\n",
    "wrong"
   ]
  },
  {
   "cell_type": "code",
   "execution_count": 163,
   "metadata": {},
   "outputs": [
    {
     "data": {
      "text/plain": [
       "0.17439711318429854"
      ]
     },
     "execution_count": 163,
     "metadata": {},
     "output_type": "execute_result"
    }
   ],
   "source": [
    "ratioWrong = float(wrong)/counttotal\n",
    "ratioWrong"
   ]
  },
  {
   "cell_type": "code",
   "execution_count": 164,
   "metadata": {},
   "outputs": [
    {
     "name": "stdout",
     "output_type": "stream",
     "text": [
      "Accuracy: 0.8256028868157015\n"
     ]
    }
   ],
   "source": [
    "# We are even doing worse than the Null Accuracy\n",
    "ratioCorrect = float(correct)/counttotal\n",
    "print(\"Accuracy: {0}\".format(ratioCorrect))"
   ]
  },
  {
   "cell_type": "markdown",
   "metadata": {},
   "source": [
    "> We are even doing worse than the Null Accuracy."
   ]
  },
  {
   "cell_type": "code",
   "execution_count": 165,
   "metadata": {},
   "outputs": [
    {
     "name": "stdout",
     "output_type": "stream",
     "text": [
      "True Positive: 0.020154902305932053\n"
     ]
    }
   ],
   "source": [
    "truep = predlbls.filter(col(\"prediction\") == 1.0).filter(col(\"prediction\") == col(\"label\")).count()/ float(counttotal)\n",
    "print(\"True Positive: {0}\".format(truep))"
   ]
  },
  {
   "cell_type": "code",
   "execution_count": 166,
   "metadata": {},
   "outputs": [
    {
     "name": "stdout",
     "output_type": "stream",
     "text": [
      "True Negative: 0.8054479845097694\n"
     ]
    }
   ],
   "source": [
    "truen = predlbls.filter(col(\"prediction\") == 0.0).filter(col(\"prediction\") == col(\"label\")).count()/ float(counttotal)\n",
    "print(\"True Negative: {0}\".format(truen))"
   ]
  },
  {
   "cell_type": "code",
   "execution_count": 167,
   "metadata": {},
   "outputs": [
    {
     "name": "stdout",
     "output_type": "stream",
     "text": [
      "False Positive: 0.0673076923076923\n"
     ]
    }
   ],
   "source": [
    "falsep = predlbls.filter(col(\"prediction\") == 1.0).filter(col(\"prediction\") != col(\"label\")).count()/ float(counttotal)\n",
    "print(\"False Positive: {0}\".format(falsep))"
   ]
  },
  {
   "cell_type": "code",
   "execution_count": 168,
   "metadata": {},
   "outputs": [
    {
     "name": "stdout",
     "output_type": "stream",
     "text": [
      "False Negative: 0.10708942087660624\n"
     ]
    }
   ],
   "source": [
    "falsen = predlbls.filter(col(\"prediction\") == 0.0).filter(col(\"prediction\") != col(\"label\")).count()/ float(counttotal)\n",
    "print(\"False Negative: {0}\".format(falsen))"
   ]
  },
  {
   "cell_type": "code",
   "execution_count": 169,
   "metadata": {},
   "outputs": [
    {
     "name": "stdout",
     "output_type": "stream",
     "text": [
      "Precision: 0.23044025157232706\n"
     ]
    }
   ],
   "source": [
    "precision = truep / (truep + falsep)\n",
    "print(\"Precision: {0}\".format(precision))"
   ]
  },
  {
   "cell_type": "code",
   "execution_count": 170,
   "metadata": {},
   "outputs": [
    {
     "name": "stdout",
     "output_type": "stream",
     "text": [
      "Recall: 0.15839529655887946\n"
     ]
    }
   ],
   "source": [
    "recall = truep / (truep + falsen)\n",
    "print(\"Recall: {0}\".format(recall))"
   ]
  },
  {
   "cell_type": "code",
   "execution_count": 171,
   "metadata": {},
   "outputs": [
    {
     "name": "stdout",
     "output_type": "stream",
     "text": [
      "F1 Score: 0.18774339003894241\n"
     ]
    }
   ],
   "source": [
    "f1 = 2 * (precision * recall) / (precision + recall)\n",
    "print(\"F1 Score: {0}\".format(f1))"
   ]
  },
  {
   "cell_type": "markdown",
   "metadata": {},
   "source": [
    "### 9.2 We can calculate similar metrics using `MulticlassMetrics`"
   ]
  },
  {
   "cell_type": "code",
   "execution_count": 172,
   "metadata": {
    "collapsed": true
   },
   "outputs": [],
   "source": [
    "metrics = MulticlassMetrics(predlbls.rdd)"
   ]
  },
  {
   "cell_type": "code",
   "execution_count": 173,
   "metadata": {},
   "outputs": [
    {
     "data": {
      "text/plain": [
       "array([[ 36606.,   3059.],\n",
       "       [  4867.,    916.]])"
      ]
     },
     "execution_count": 173,
     "metadata": {},
     "output_type": "execute_result"
    }
   ],
   "source": [
    "metrics.confusionMatrix().toArray()"
   ]
  },
  {
   "cell_type": "code",
   "execution_count": 174,
   "metadata": {},
   "outputs": [
    {
     "name": "stdout",
     "output_type": "stream",
     "text": [
      "F1 Score: 0.1877433900389424\n"
     ]
    }
   ],
   "source": [
    "f1 = metrics.fMeasure(1.0)\n",
    "print(\"F1 Score: {0}\".format(f1))"
   ]
  },
  {
   "cell_type": "code",
   "execution_count": 175,
   "metadata": {},
   "outputs": [
    {
     "name": "stdout",
     "output_type": "stream",
     "text": [
      "Accuracy: 0.8256028868157015\n"
     ]
    }
   ],
   "source": [
    "ratioCorrect = metrics.accuracy\n",
    "print(\"Accuracy: {0}\".format(ratioCorrect))"
   ]
  },
  {
   "cell_type": "markdown",
   "metadata": {},
   "source": [
    "## 10. Save & Load the Model\n",
    "\n",
    "We can now save our fitted Pipeline for later use with streaming events. This saves both the feature extraction stage and the decision tree model chosen by model tuning.\n",
    "\n",
    "### 10.1 Save the Model to the file system for later use"
   ]
  },
  {
   "cell_type": "code",
   "execution_count": 176,
   "metadata": {},
   "outputs": [
    {
     "data": {
      "text/plain": [
       "pyspark.ml.pipeline.PipelineModel"
      ]
     },
     "execution_count": 176,
     "metadata": {},
     "output_type": "execute_result"
    }
   ],
   "source": [
    "type(cvModel.bestModel)"
   ]
  },
  {
   "cell_type": "code",
   "execution_count": 177,
   "metadata": {
    "collapsed": true
   },
   "outputs": [],
   "source": [
    "MODEL_PATH = 'model/pipeline_model'"
   ]
  },
  {
   "cell_type": "code",
   "execution_count": 178,
   "metadata": {
    "collapsed": true
   },
   "outputs": [],
   "source": [
    "cvModel.bestModel.write().overwrite().save(MODEL_PATH)"
   ]
  },
  {
   "cell_type": "markdown",
   "metadata": {},
   "source": [
    "The result of saving the pipeline model is a JSON file for metadata and a Parquet for model data. We can re-load the model with the load command, the original and re-loaded models are the same:"
   ]
  },
  {
   "cell_type": "markdown",
   "metadata": {
    "collapsed": true
   },
   "source": [
    "### 10.2 Reload the Model from the file system for use in a different context"
   ]
  },
  {
   "cell_type": "code",
   "execution_count": 179,
   "metadata": {
    "collapsed": true
   },
   "outputs": [],
   "source": [
    "same_cv_model = CrossValidatorModel(bestModel=PipelineModel.load(MODEL_PATH))"
   ]
  },
  {
   "cell_type": "code",
   "execution_count": 180,
   "metadata": {
    "collapsed": true
   },
   "outputs": [],
   "source": [
    "same_test_preds = same_cv_model.transform(test_df)"
   ]
  },
  {
   "cell_type": "code",
   "execution_count": 181,
   "metadata": {
    "collapsed": true
   },
   "outputs": [],
   "source": [
    "binary_classif_evaluator = BinaryClassificationEvaluator(labelCol=\"label\", metricName=\"areaUnderROC\")"
   ]
  },
  {
   "cell_type": "code",
   "execution_count": 182,
   "metadata": {},
   "outputs": [
    {
     "name": "stdout",
     "output_type": "stream",
     "text": [
      "areaUnderROC: 0.5520688777329082\n"
     ]
    }
   ],
   "source": [
    "areaUnderROC = binary_classif_evaluator.evaluate(same_test_preds)\n",
    "print(\"areaUnderROC: {0}\".format(areaUnderROC))"
   ]
  },
  {
   "cell_type": "code",
   "execution_count": 183,
   "metadata": {
    "collapsed": true
   },
   "outputs": [],
   "source": [
    "spark.stop()"
   ]
  },
  {
   "cell_type": "code",
   "execution_count": null,
   "metadata": {
    "collapsed": true
   },
   "outputs": [],
   "source": []
  }
 ],
 "metadata": {
  "kernelspec": {
   "display_name": "Python 3",
   "language": "python",
   "name": "python3"
  },
  "language_info": {
   "codemirror_mode": {
    "name": "ipython",
    "version": 3
   },
   "file_extension": ".py",
   "mimetype": "text/x-python",
   "name": "python",
   "nbconvert_exporter": "python",
   "pygments_lexer": "ipython3",
   "version": "3.6.2"
  },
  "toc": {
   "colors": {
    "hover_highlight": "#DAA520",
    "navigate_num": "#000000",
    "navigate_text": "#333333",
    "running_highlight": "#FF0000",
    "selected_highlight": "#FFD700",
    "sidebar_border": "#EEEEEE",
    "wrapper_background": "#FFFFFF"
   },
   "moveMenuLeft": true,
   "nav_menu": {
    "height": "135px",
    "width": "252px"
   },
   "navigate_menu": true,
   "number_sections": true,
   "sideBar": true,
   "threshold": 4,
   "toc_cell": false,
   "toc_section_display": "block",
   "toc_window_display": false,
   "widenNotebook": false
  }
 },
 "nbformat": 4,
 "nbformat_minor": 2
}
