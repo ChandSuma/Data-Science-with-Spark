{
 "cells": [
  {
   "cell_type": "markdown",
   "metadata": {},
   "source": [
    "# Sharing Spark SQLContext and Spark Session between Scala and PySpark\n",
    "\n",
    "This notebook demonstrates how we can create Spark DataFrame using Scala and then share the Spark Session and SQLContext to access the same DataFrame via a temporary view in PySpark.\n",
    "\n",
    "Additionally it demonstrates how can run scala and python matplotlib to run on the same notebook. Scala lacks visaulization features. Switching between Scala and PySpark enable us to write our codes and DataFrames in Scala and then reuse those same DataFrames in PySpark through shared SQLContext to render visualizations usinf Python matplotlib."
   ]
  },
  {
   "cell_type": "markdown",
   "metadata": {},
   "source": [
    "Follow this post\n",
    "https://github.com/ContinuumIO/docker-images/issues/49\n",
    "\n",
    "`\n",
    "$ sudo apt install libgl1-mesa-glx\n",
    "`\n",
    "\n",
    "`\n",
    "$ conda list | grep qt\n",
    "pyqt                      5.6.0                    py27_2\n",
    "qt                        5.6.2                         4\n",
    "qtawesome                 0.4.4                    py27_0\n",
    "qtpy                      1.2.1                    py27_0\n",
    "`\n",
    "\n",
    "If not installed then install:  \n",
    "`conda install pyqt qt qtawesome qtpy -y`"
   ]
  },
  {
   "cell_type": "markdown",
   "metadata": {},
   "source": [
    "**Load Data and create a Temporary View:**"
   ]
  },
  {
   "cell_type": "code",
   "execution_count": 1,
   "metadata": {},
   "outputs": [
    {
     "name": "stdout",
     "output_type": "stream",
     "text": [
      "+----+-------+\n",
      "| age|   name|\n",
      "+----+-------+\n",
      "|null|Michael|\n",
      "|  30|   Andy|\n",
      "|  19| Justin|\n",
      "+----+-------+\n",
      "\n"
     ]
    },
    {
     "data": {
      "text/plain": [
       "people = [age: bigint, name: string]\n"
      ]
     },
     "metadata": {},
     "output_type": "display_data"
    },
    {
     "data": {
      "text/plain": [
       "[age: bigint, name: string]"
      ]
     },
     "execution_count": 1,
     "metadata": {},
     "output_type": "execute_result"
    }
   ],
   "source": [
    "val people = spark.read.json(\"data/people.json\")\n",
    "people.createOrReplaceTempView(\"people\")\n",
    "people.show()"
   ]
  },
  {
   "cell_type": "code",
   "execution_count": 2,
   "metadata": {},
   "outputs": [
    {
     "name": "stdout",
     "output_type": "stream",
     "text": [
      "Available line magics:\n",
      "%lsmagic %showtypes %adddeps %truncation %addjar\n",
      "\n",
      "Available cell magics:\n",
      "%%sql %%html %%javascript %%dataframe %%pyspark %%scala %%sparkr\n",
      "\n",
      "Type %<magic_name> for usage info.\n",
      "         \n"
     ]
    }
   ],
   "source": [
    "%lsmagic"
   ]
  },
  {
   "cell_type": "markdown",
   "metadata": {},
   "source": [
    "**Switch to PySpark using Cell Magics**"
   ]
  },
  {
   "cell_type": "code",
   "execution_count": 3,
   "metadata": {
    "collapsed": true
   },
   "outputs": [],
   "source": [
    "%%pyspark\n",
    "import matplotlib\n",
    "matplotlib.use(\"agg\")\n",
    "from matplotlib import pyplot as plt\n",
    "plt.clf()\n",
    "plt.plot(range(10), label=\"a\")\n",
    "plt.plot(range(4, 14), label=\"b\")\n",
    "plt.plot(range(12, 0, -1), label=\"c\")\n",
    "plt.legend()\n",
    "plt.title(\"Example Plot\")\n",
    "plt.savefig(\"images/test.png\")"
   ]
  },
  {
   "cell_type": "markdown",
   "metadata": {},
   "source": [
    "** We can Render generated Image Using Markdown:**\n",
    "\n",
    "You have to double click the cell to see the hidden markdown\n",
    "![](images/test.png)"
   ]
  },
  {
   "cell_type": "markdown",
   "metadata": {},
   "source": [
    "**Access the temporary View created from Scala Spark Session:**"
   ]
  },
  {
   "cell_type": "code",
   "execution_count": 4,
   "metadata": {},
   "outputs": [
    {
     "data": {
      "text/plain": [
       "    age     name\n",
       "0   NaN  Michael\n",
       "1  30.0     Andy\n",
       "2  19.0   Justin"
      ]
     },
     "execution_count": 4,
     "metadata": {},
     "output_type": "execute_result"
    }
   ],
   "source": [
    "%%pyspark\n",
    "people = spark.table(\"people\")\n",
    "people.toPandas()"
   ]
  },
  {
   "cell_type": "markdown",
   "metadata": {},
   "source": [
    "**Reuse DataFrame created from Scala in PySpark for Visualization:**"
   ]
  },
  {
   "cell_type": "code",
   "execution_count": 5,
   "metadata": {
    "collapsed": true
   },
   "outputs": [],
   "source": [
    "%%pyspark\n",
    "people = spark.table(\"people\")\n",
    "import matplotlib\n",
    "matplotlib.use(\"agg\")\n",
    "from matplotlib import pyplot as plt\n",
    "plt.clf()\n",
    "people.toPandas()[\"age\"].hist()\n",
    "plt.title(\"Example Plot\")\n",
    "plt.savefig(\"images/test1.png\")"
   ]
  },
  {
   "cell_type": "markdown",
   "metadata": {},
   "source": [
    "** 1<sup>st</sup> Option: Render the above generated Histogram Using Markdown:**\n",
    "![](images/test1.png)"
   ]
  },
  {
   "cell_type": "markdown",
   "metadata": {},
   "source": [
    "**2<sup>nd</sup> Option: Render the above generated Histogram Using html magic command:**"
   ]
  },
  {
   "cell_type": "code",
   "execution_count": 6,
   "metadata": {},
   "outputs": [
    {
     "data": {
      "text/html": [
       "<img src=\"images/test1.png\">"
      ]
     },
     "execution_count": 6,
     "metadata": {},
     "output_type": "execute_result"
    }
   ],
   "source": [
    "%%html\n",
    "<img src=\"images/test1.png\">"
   ]
  },
  {
   "cell_type": "code",
   "execution_count": null,
   "metadata": {
    "collapsed": true
   },
   "outputs": [],
   "source": []
  }
 ],
 "metadata": {
  "kernelspec": {
   "display_name": "Apache Toree - Scala",
   "language": "scala",
   "name": "apache_toree_scala"
  },
  "language_info": {
   "codemirror_mode": "text/x-scala",
   "file_extension": ".scala",
   "mimetype": "text/x-scala",
   "name": "scala",
   "pygments_lexer": "scala",
   "version": "2.11.8"
  }
 },
 "nbformat": 4,
 "nbformat_minor": 2
}
