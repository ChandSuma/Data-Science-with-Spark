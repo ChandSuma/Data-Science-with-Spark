{
 "cells": [
  {
   "cell_type": "markdown",
   "metadata": {},
   "source": [
    "# Clustering Uber's Trip Data with Apache Spark\n",
    "\n",
    "## CLUSTERING\n",
    "\n",
    "The original Scala based tutorial on Zeppelin Notebooks is at https://mapr.com/blog/monitoring-real-time-uber-data-using-spark-machine-learning-streaming-and-kafka-api-part-1/. I have coverted them to Python and also configured to run the codes on Jupter Notebooks with Pyspark 2.2 and used the Jupyter Notebook to render visualization and added more stuffs.\n",
    "\n",
    "Cluster analysis or clustering is the task of grouping a set of objects in such a way that objects in the same group (called a cluster) are more similar (in some sense) to each other than to those in other groups (clusters). It is a main task of exploratory data mining, and a common technique for statistical data analysis, used in many fields, including machine learning, pattern recognition, image analysis, information retrieval, bioinformatics, data compression, and computer graphics. [Source:https://en.wikipedia.org/wiki/Cluster_analysis]\n",
    "\n",
    "We will discover the clusters of Uber data based on the longitude and latitude, then we will analyze the cluster centers by date/time."
   ]
  },
  {
   "cell_type": "markdown",
   "metadata": {},
   "source": [
    "## 1. Understanding the Data Set\n",
    "\n",
    "Our data is Uber trip data from http://data.beta.nyc/dataset/uber-trip-data-foiled-apr-sep-2014. In this example, we will discover the clusters of Uber data based on the longitude and latitude, then we will analyze the cluster centers by date/time. The data set has the following schema:.\n",
    "\n",
    "<p style=\"text-align: justify;\"></p>\n",
    "<pre>\n",
    "<strong>Date/Time:</strong>The date and time of the Uber pickup\n",
    "<strong>Lat:</strong>The latitude of the Uber pickup\n",
    "<strong>Lon:</strong>The longitude of the Uber pickup\n",
    "<strong>Base:</strong>The TLC base company affiliated with the Uber pickup\n",
    "</pre>\n",
    "\n",
    "The Data Records are in CSV format. An example line is shown below:\n",
    "\n",
    "`2014-08-01 00:00:00,40.729,-73.9422,B02598`"
   ]
  },
  {
   "cell_type": "code",
   "execution_count": 1,
   "metadata": {
    "collapsed": true
   },
   "outputs": [],
   "source": [
    "import os\n",
    "import pandas as pd\n",
    "import numpy as np\n",
    "\n",
    "from pyspark import SparkConf, SparkContext\n",
    "from pyspark.sql import SparkSession, SQLContext\n",
    "\n",
    "from pyspark.sql.types import *\n",
    "from pyspark.sql.functions import udf, col\n",
    "import pyspark.sql.functions as F\n",
    "\n",
    "from pyspark.ml.feature import VectorAssembler\n",
    "\n",
    "from pyspark.ml.clustering import KMeans, BisectingKMeans, GaussianMixture"
   ]
  },
  {
   "cell_type": "code",
   "execution_count": 2,
   "metadata": {
    "collapsed": true
   },
   "outputs": [],
   "source": [
    "# Visualization\n",
    "from IPython.core.interactiveshell import InteractiveShell\n",
    "InteractiveShell.ast_node_interactivity = \"all\"\n",
    "\n",
    "pd.set_option('display.max_columns', 200)\n",
    "pd.set_option('display.max_colwidth', 400)\n",
    "\n",
    "import matplotlib.pyplot as plt\n",
    "plt.rc('figure', figsize=(18, 4))\n",
    "\n",
    "import seaborn as sns\n",
    "sns.set(context='notebook', style='whitegrid', rc={'figure.figsize': (18,4)})\n",
    "\n",
    "np.set_printoptions(precision=4, suppress=True)\n",
    "\n",
    "%matplotlib inline\n",
    "%config InlineBackend.figure_format = 'retina'"
   ]
  },
  {
   "cell_type": "code",
   "execution_count": 3,
   "metadata": {
    "collapsed": true
   },
   "outputs": [],
   "source": [
    "# setting random seed for notebook reproducability\n",
    "rnd_seed=42\n",
    "np.random.seed=rnd_seed\n",
    "np.random.set_state=rnd_seed"
   ]
  },
  {
   "cell_type": "markdown",
   "metadata": {},
   "source": [
    "## 2. Creating the Spark Session"
   ]
  },
  {
   "cell_type": "code",
   "execution_count": 4,
   "metadata": {
    "collapsed": true
   },
   "outputs": [],
   "source": [
    "# The following must be set in your .bashrc file\n",
    "#SPARK_HOME=\"/home/ubuntu/spark-2.4.0-bin-hadoop2.7\"\n",
    "#ANACONDA_HOME=\"/home/ubuntu/anaconda3/envs/pyspark\"\n",
    "#PYSPARK_PYTHON=\"$ANACONDA_HOME/bin/python\"\n",
    "#PYSPARK_DRIVER_PYTHON=\"$ANACONDA_HOME/bin/python\"\n",
    "#PYTHONPATH=\"$ANACONDA_HOME/bin/python\"\n",
    "#export PATH=\"$ANACONDA_HOME/bin:$SPARK_HOME/bin:$PATH\""
   ]
  },
  {
   "cell_type": "code",
   "execution_count": 5,
   "metadata": {},
   "outputs": [
    {
     "data": {
      "text/html": [
       "\n",
       "            <div>\n",
       "                <p><b>SparkSession - in-memory</b></p>\n",
       "                \n",
       "        <div>\n",
       "            <p><b>SparkContext</b></p>\n",
       "\n",
       "            <p><a href=\"http://ip-172-30-2-158.ec2.internal:4040\">Spark UI</a></p>\n",
       "\n",
       "            <dl>\n",
       "              <dt>Version</dt>\n",
       "                <dd><code>v2.4.0</code></dd>\n",
       "              <dt>Master</dt>\n",
       "                <dd><code>local[*]</code></dd>\n",
       "              <dt>AppName</dt>\n",
       "                <dd><code>cluster-uber-trip-data</code></dd>\n",
       "            </dl>\n",
       "        </div>\n",
       "        \n",
       "            </div>\n",
       "        "
      ],
      "text/plain": [
       "<pyspark.sql.session.SparkSession at 0x7f11e22c7f60>"
      ]
     },
     "execution_count": 5,
     "metadata": {},
     "output_type": "execute_result"
    }
   ],
   "source": [
    "spark = (SparkSession\n",
    "         .builder\n",
    "         .master(\"local[*]\")\n",
    "         .appName(\"cluster-uber-trip-data\")\n",
    "         .getOrCreate())\n",
    "spark"
   ]
  },
  {
   "cell_type": "markdown",
   "metadata": {},
   "source": [
    "## 3. Load The Data From a File Into a Dataframe"
   ]
  },
  {
   "cell_type": "code",
   "execution_count": 6,
   "metadata": {
    "collapsed": true
   },
   "outputs": [],
   "source": [
    "UBER_DATA = 'data/uber.csv'"
   ]
  },
  {
   "cell_type": "code",
   "execution_count": 7,
   "metadata": {
    "collapsed": true
   },
   "outputs": [],
   "source": [
    "# define the schema, corresponding to a line in the JSON data file.\n",
    "schema = StructType([\n",
    "    StructField(\"dt\", TimestampType(), nullable=False),\n",
    "    StructField(\"lat\", DoubleType(), nullable=False),\n",
    "    StructField(\"lon\", DoubleType(), nullable=False),\n",
    "    StructField(\"base\", StringType(), nullable=True)]\n",
    "  )"
   ]
  },
  {
   "cell_type": "code",
   "execution_count": 8,
   "metadata": {},
   "outputs": [
    {
     "data": {
      "text/plain": [
       "DataFrame[dt: timestamp, lat: double, lon: double, base: string]"
      ]
     },
     "execution_count": 8,
     "metadata": {},
     "output_type": "execute_result"
    }
   ],
   "source": [
    "# Load training data\n",
    "uber_df = spark.read.csv(path=UBER_DATA, schema=schema)\n",
    "uber_df.cache()"
   ]
  },
  {
   "cell_type": "code",
   "execution_count": 9,
   "metadata": {},
   "outputs": [
    {
     "name": "stdout",
     "output_type": "stream",
     "text": [
      "+-------------------+-------+--------+------+\n",
      "|                 dt|    lat|     lon|  base|\n",
      "+-------------------+-------+--------+------+\n",
      "|2014-08-01 00:00:00| 40.729|-73.9422|B02598|\n",
      "|2014-08-01 00:00:00|40.7476|-73.9871|B02598|\n",
      "|2014-08-01 00:00:00|40.7424|-74.0044|B02598|\n",
      "|2014-08-01 00:00:00| 40.751|-73.9869|B02598|\n",
      "|2014-08-01 00:00:00|40.7406|-73.9902|B02598|\n",
      "|2014-08-01 00:00:00|40.6994|-73.9591|B02617|\n",
      "|2014-08-01 00:00:00|40.6917|-73.9398|B02617|\n",
      "|2014-08-01 00:00:00|40.7063|-73.9223|B02617|\n",
      "|2014-08-01 00:00:00|40.6759|-74.0168|B02617|\n",
      "|2014-08-01 00:00:00|40.7617|-73.9847|B02617|\n",
      "+-------------------+-------+--------+------+\n",
      "only showing top 10 rows\n",
      "\n"
     ]
    }
   ],
   "source": [
    "uber_df.show(10)"
   ]
  },
  {
   "cell_type": "code",
   "execution_count": 10,
   "metadata": {},
   "outputs": [
    {
     "name": "stdout",
     "output_type": "stream",
     "text": [
      "root\n",
      " |-- dt: timestamp (nullable = true)\n",
      " |-- lat: double (nullable = true)\n",
      " |-- lon: double (nullable = true)\n",
      " |-- base: string (nullable = true)\n",
      "\n"
     ]
    }
   ],
   "source": [
    "uber_df.printSchema()"
   ]
  },
  {
   "cell_type": "code",
   "execution_count": 11,
   "metadata": {},
   "outputs": [
    {
     "data": {
      "text/plain": [
       "829275"
      ]
     },
     "execution_count": 11,
     "metadata": {},
     "output_type": "execute_result"
    }
   ],
   "source": [
    "# How may Records?\n",
    "uber_df.count()"
   ]
  },
  {
   "cell_type": "markdown",
   "metadata": {},
   "source": [
    "### Summary Statistics\n",
    "\n",
    "Spark DataFrames include some built-in functions for statistical processing. The describe() function performs summary statistics calculations on all numeric columns and returns them as a DataFrame."
   ]
  },
  {
   "cell_type": "code",
   "execution_count": 12,
   "metadata": {},
   "outputs": [
    {
     "name": "stdout",
     "output_type": "stream",
     "text": [
      "+-------+------------------+--------------------+\n",
      "|summary|               lat|                 lon|\n",
      "+-------+------------------+--------------------+\n",
      "|  count|            829275|              829275|\n",
      "|   mean|40.737780735823684|  -73.97016031316477|\n",
      "| stddev|0.0436280608468733|0.061482728345184666|\n",
      "|    min|           39.6569|            -74.7737|\n",
      "|    max|           41.3182|            -72.3359|\n",
      "+-------+------------------+--------------------+\n",
      "\n"
     ]
    }
   ],
   "source": [
    "uber_df.describe([\"dt\", \"lat\", \"lon\"]).show()"
   ]
  },
  {
   "cell_type": "markdown",
   "metadata": {},
   "source": [
    "## 4. Prepare Train and Test Set"
   ]
  },
  {
   "cell_type": "markdown",
   "metadata": {},
   "source": [
    "**4.1 Define Features Array:**"
   ]
  },
  {
   "cell_type": "code",
   "execution_count": 13,
   "metadata": {
    "collapsed": true
   },
   "outputs": [],
   "source": [
    "feature_columns = ['lat', 'lon']"
   ]
  },
  {
   "cell_type": "code",
   "execution_count": 14,
   "metadata": {
    "collapsed": true
   },
   "outputs": [],
   "source": [
    "# Vectorize the numerical features first\n",
    "feature_assembler = VectorAssembler(inputCols=feature_columns, outputCol=\"features\")"
   ]
  },
  {
   "cell_type": "code",
   "execution_count": 15,
   "metadata": {},
   "outputs": [
    {
     "data": {
      "text/plain": [
       "DataFrame[dt: timestamp, lat: double, lon: double, base: string, features: vector]"
      ]
     },
     "execution_count": 15,
     "metadata": {},
     "output_type": "execute_result"
    }
   ],
   "source": [
    "uber_assembled_df = feature_assembler.transform(uber_df)\n",
    "uber_assembled_df.cache()"
   ]
  },
  {
   "cell_type": "code",
   "execution_count": 16,
   "metadata": {},
   "outputs": [
    {
     "name": "stdout",
     "output_type": "stream",
     "text": [
      "+-------------------+-------+--------+------+------------------+\n",
      "|                 dt|    lat|     lon|  base|          features|\n",
      "+-------------------+-------+--------+------+------------------+\n",
      "|2014-08-01 00:00:00| 40.729|-73.9422|B02598| [40.729,-73.9422]|\n",
      "|2014-08-01 00:00:00|40.7476|-73.9871|B02598|[40.7476,-73.9871]|\n",
      "|2014-08-01 00:00:00|40.7424|-74.0044|B02598|[40.7424,-74.0044]|\n",
      "|2014-08-01 00:00:00| 40.751|-73.9869|B02598| [40.751,-73.9869]|\n",
      "|2014-08-01 00:00:00|40.7406|-73.9902|B02598|[40.7406,-73.9902]|\n",
      "|2014-08-01 00:00:00|40.6994|-73.9591|B02617|[40.6994,-73.9591]|\n",
      "|2014-08-01 00:00:00|40.6917|-73.9398|B02617|[40.6917,-73.9398]|\n",
      "|2014-08-01 00:00:00|40.7063|-73.9223|B02617|[40.7063,-73.9223]|\n",
      "|2014-08-01 00:00:00|40.6759|-74.0168|B02617|[40.6759,-74.0168]|\n",
      "|2014-08-01 00:00:00|40.7617|-73.9847|B02617|[40.7617,-73.9847]|\n",
      "+-------------------+-------+--------+------+------------------+\n",
      "only showing top 10 rows\n",
      "\n"
     ]
    }
   ],
   "source": [
    "uber_assembled_df.show(10)"
   ]
  },
  {
   "cell_type": "markdown",
   "metadata": {},
   "source": [
    "**4.2 Split into Training and Testing Set:**"
   ]
  },
  {
   "cell_type": "code",
   "execution_count": 17,
   "metadata": {
    "collapsed": true
   },
   "outputs": [],
   "source": [
    "train_df, test_df = uber_assembled_df.randomSplit([0.7, 0.3], seed=rnd_seed)"
   ]
  },
  {
   "cell_type": "code",
   "execution_count": 18,
   "metadata": {},
   "outputs": [
    {
     "data": {
      "text/plain": [
       "DataFrame[dt: timestamp, lat: double, lon: double, base: string, features: vector]"
      ]
     },
     "execution_count": 18,
     "metadata": {},
     "output_type": "execute_result"
    },
    {
     "data": {
      "text/plain": [
       "DataFrame[dt: timestamp, lat: double, lon: double, base: string, features: vector]"
      ]
     },
     "execution_count": 18,
     "metadata": {},
     "output_type": "execute_result"
    }
   ],
   "source": [
    "# cache the training and testing set\n",
    "train_df.cache()\n",
    "test_df.cache()"
   ]
  },
  {
   "cell_type": "code",
   "execution_count": 19,
   "metadata": {},
   "outputs": [
    {
     "data": {
      "text/plain": [
       "DataFrame[dt: timestamp, lat: double, lon: double, base: string]"
      ]
     },
     "execution_count": 19,
     "metadata": {},
     "output_type": "execute_result"
    },
    {
     "data": {
      "text/plain": [
       "DataFrame[dt: timestamp, lat: double, lon: double, base: string, features: vector]"
      ]
     },
     "execution_count": 19,
     "metadata": {},
     "output_type": "execute_result"
    }
   ],
   "source": [
    "# remove the not needed dataframes\n",
    "uber_df.unpersist()\n",
    "uber_assembled_df.unpersist()"
   ]
  },
  {
   "cell_type": "markdown",
   "metadata": {},
   "source": [
    "## 5. k-means\n",
    "\n",
    "`k-means` is one of the most popular clustering algorithms. In this algorithm, a user-specified number of clusters `(k)` are randomly assigned to different points in the dataset. The unassigned points are then \"assigned\" to a cluster based on their proximity (measured in Euclidean distance) to the previously assigned point. Once this assignment happens, the center of this cluster (called the `centroid`) is computed, and the process repeats. All points are assigned to a particular centroid, and a new centroid is computed. We repeat this process for a finite number of iterations or until convergence (i.e., when our centroid locations stop changing). This does not, however, mean that our clusters are always sensical. For instance, a given \"logical\" cluster of data might be split right down the middle simply because of the starting points of two distinct clusters. Thus, it is often a good idea to perform multiple runs of k-means starting with different initializations.\n",
    "\n",
    "Choosing the right value for `k` is an extremely important aspect of using this algorithm successfully, as well as a hard task. There’s no real prescription for the number of clusters you need, so we’ll likely have to experiment with different values and consider what we would like the end result to be."
   ]
  },
  {
   "cell_type": "markdown",
   "metadata": {},
   "source": [
    "### 5.1 Train k-Means:"
   ]
  },
  {
   "cell_type": "code",
   "execution_count": 20,
   "metadata": {
    "collapsed": true
   },
   "outputs": [],
   "source": [
    "kmeans = KMeans(k=8, initMode='k-means||', featuresCol='features', predictionCol='cluster', maxIter=10)"
   ]
  },
  {
   "cell_type": "code",
   "execution_count": 21,
   "metadata": {
    "collapsed": true
   },
   "outputs": [],
   "source": [
    "kmModel = kmeans.fit(train_df)"
   ]
  },
  {
   "cell_type": "code",
   "execution_count": 22,
   "metadata": {},
   "outputs": [
    {
     "name": "stdout",
     "output_type": "stream",
     "text": [
      "KMeans Cluster Centers: \n",
      "[ 40.7285 -74.005 ]\n",
      "[ 40.6703 -73.9773]\n",
      "[ 40.8256 -73.8865]\n",
      "[ 40.6662 -73.752 ]\n",
      "[ 40.7394 -73.8784]\n",
      "[ 40.3674 -74.2174]\n",
      "[ 40.7652 -73.9751]\n",
      "[ 40.7167 -73.9546]\n"
     ]
    }
   ],
   "source": [
    "print(\"KMeans Cluster Centers: \")\n",
    "for center in kmModel.clusterCenters():\n",
    "    print(center)"
   ]
  },
  {
   "cell_type": "markdown",
   "metadata": {},
   "source": [
    "### 5.2 Predict with k-Means:"
   ]
  },
  {
   "cell_type": "code",
   "execution_count": 23,
   "metadata": {},
   "outputs": [
    {
     "data": {
      "text/plain": [
       "DataFrame[dt: timestamp, lat: double, lon: double, base: string, features: vector, cluster: int]"
      ]
     },
     "execution_count": 23,
     "metadata": {},
     "output_type": "execute_result"
    }
   ],
   "source": [
    "test_preds = kmModel.transform(test_df)\n",
    "test_preds.cache()"
   ]
  },
  {
   "cell_type": "code",
   "execution_count": 24,
   "metadata": {},
   "outputs": [
    {
     "name": "stdout",
     "output_type": "stream",
     "text": [
      "+-------------------+-------+--------+------+------------------+-------+\n",
      "|                 dt|    lat|     lon|  base|          features|cluster|\n",
      "+-------------------+-------+--------+------+------------------+-------+\n",
      "|2014-08-01 00:00:00|40.3495|-74.0667|B02682|[40.3495,-74.0667]|      5|\n",
      "|2014-08-01 00:00:00|40.6754| -74.017|B02682| [40.6754,-74.017]|      1|\n",
      "|2014-08-01 00:00:00|40.6759|-74.0168|B02617|[40.6759,-74.0168]|      1|\n",
      "|2014-08-01 00:00:00|40.7303|-74.0029|B02682|[40.7303,-74.0029]|      0|\n",
      "|2014-08-01 00:00:00|40.7424|-74.0044|B02598|[40.7424,-74.0044]|      0|\n",
      "|2014-08-01 00:01:00|40.7052|-74.0094|B02598|[40.7052,-74.0094]|      0|\n",
      "|2014-08-01 00:01:00|40.7108|-73.9679|B02598|[40.7108,-73.9679]|      7|\n",
      "|2014-08-01 00:01:00|40.7341| -73.989|B02617| [40.7341,-73.989]|      0|\n",
      "|2014-08-01 00:01:00|40.7552|-73.9724|B02682|[40.7552,-73.9724]|      6|\n",
      "|2014-08-01 00:01:00|40.7633|-73.9891|B02617|[40.7633,-73.9891]|      6|\n",
      "+-------------------+-------+--------+------+------------------+-------+\n",
      "only showing top 10 rows\n",
      "\n"
     ]
    }
   ],
   "source": [
    "test_preds.show(10)"
   ]
  },
  {
   "cell_type": "markdown",
   "metadata": {},
   "source": [
    "### 5.3 k-means Metrics Summary:\n",
    "\n",
    "`k-means` includes a summary class that we can use to evaluate our model. This class provides some common measures for `k-means` success (whether these apply to our problem set is another question). The `k-means` summary includes information about the clusters created, as well as their relative sizes (number of examples).\n",
    "\n",
    "We can also compute the `within set sum of squared errors`, which can help measure how close our values are from each cluster centroid, using `computeCost`. The implicit goal in `k-means` is that we want to minimize the within set sum of squared error, subject to the given number k of clusters:"
   ]
  },
  {
   "cell_type": "code",
   "execution_count": 25,
   "metadata": {},
   "outputs": [
    {
     "name": "stdout",
     "output_type": "stream",
     "text": [
      "[213275, 45748, 13291, 19640, 26871, 619, 210829, 50154]\n"
     ]
    }
   ],
   "source": [
    "print(kmModel.summary.clusterSizes) # No of pints in each cluster"
   ]
  },
  {
   "cell_type": "code",
   "execution_count": 26,
   "metadata": {
    "scrolled": true
   },
   "outputs": [
    {
     "name": "stdout",
     "output_type": "stream",
     "text": [
      "946.9906526721418\n"
     ]
    }
   ],
   "source": [
    "print(kmModel.computeCost(train_df))"
   ]
  },
  {
   "cell_type": "markdown",
   "metadata": {},
   "source": [
    "### 5.4 Persist k-means Model:"
   ]
  },
  {
   "cell_type": "code",
   "execution_count": 27,
   "metadata": {
    "collapsed": true
   },
   "outputs": [],
   "source": [
    "kmModel.write().overwrite().save(\"data/model\")"
   ]
  },
  {
   "cell_type": "markdown",
   "metadata": {},
   "source": [
    "## 6. Data Exploration\n",
    "\n",
    "We can use Spark SQL to explore the dataset. Here are some example queries using the Spark SQL. We will also replicate the same results that we get using Spark SQL by calling the Spark Dataframe APIs directly."
   ]
  },
  {
   "cell_type": "code",
   "execution_count": 28,
   "metadata": {
    "collapsed": true
   },
   "outputs": [],
   "source": [
    "test_preds.createOrReplaceTempView(\"test_preds\")"
   ]
  },
  {
   "cell_type": "code",
   "execution_count": 29,
   "metadata": {
    "collapsed": true
   },
   "outputs": [],
   "source": [
    "import re\n",
    "\n",
    "def strip_margin(text):\n",
    "    nomargin = re.sub('\\n[ \\t]*\\|', ' ', text)\n",
    "    trimmed = re.sub('\\s+', ' ', nomargin)\n",
    "    return trimmed"
   ]
  },
  {
   "cell_type": "markdown",
   "metadata": {},
   "source": [
    "### 6.1 Which hours of the day and which cluster had the highest number of pickups?"
   ]
  },
  {
   "cell_type": "markdown",
   "metadata": {},
   "source": [
    "**SQL:**"
   ]
  },
  {
   "cell_type": "code",
   "execution_count": 30,
   "metadata": {},
   "outputs": [
    {
     "data": {
      "text/plain": [
       "DataFrame[hour: int, cluster: int, count: bigint]"
      ]
     },
     "execution_count": 30,
     "metadata": {},
     "output_type": "execute_result"
    }
   ],
   "source": [
    "sql_result_df = spark.sql(strip_margin(\n",
    "                        \"\"\"SELECT \n",
    "                          |    HOUR(dt) AS hour, \n",
    "                          |    cluster,\n",
    "                          |    COUNT(*) as count\n",
    "                          |FROM test_preds\n",
    "                          |GROUP BY hour, cluster\n",
    "                          |ORDER BY count DESC\n",
    "                        \"\"\"))\n",
    "sql_result_df.cache()"
   ]
  },
  {
   "cell_type": "code",
   "execution_count": 31,
   "metadata": {},
   "outputs": [
    {
     "name": "stdout",
     "output_type": "stream",
     "text": [
      "+----+-------+-----+\n",
      "|hour|cluster|count|\n",
      "+----+-------+-----+\n",
      "|  17|      6| 7068|\n",
      "|  16|      6| 6849|\n",
      "|  18|      6| 6641|\n",
      "|  17|      0| 6314|\n",
      "|  19|      6| 6019|\n",
      "|  18|      0| 6014|\n",
      "|  21|      0| 5923|\n",
      "|  19|      0| 5862|\n",
      "|  20|      0| 5853|\n",
      "|  16|      0| 5849|\n",
      "+----+-------+-----+\n",
      "only showing top 10 rows\n",
      "\n"
     ]
    }
   ],
   "source": [
    "sql_result_df.show(10)"
   ]
  },
  {
   "cell_type": "code",
   "execution_count": 32,
   "metadata": {
    "scrolled": false
   },
   "outputs": [
    {
     "data": {
      "image/png": "[encoded data removed]",
      "text/plain": [
       "<matplotlib.figure.Figure at 0x7f11e188c240>"
      ]
     },
     "metadata": {
      "image/png": {
       "height": 262,
       "width": 1065
      }
     },
     "output_type": "display_data"
    }
   ],
   "source": [
    "plt.figure(figsize=(18,4))\n",
    "sns.barplot(x=\"hour\", y=\"count\", hue=\"cluster\", data=sql_result_df.toPandas());"
   ]
  },
  {
   "cell_type": "code",
   "execution_count": 33,
   "metadata": {},
   "outputs": [
    {
     "data": {
      "text/plain": [
       "DataFrame[hour: int, cluster: int, count: bigint]"
      ]
     },
     "execution_count": 33,
     "metadata": {},
     "output_type": "execute_result"
    }
   ],
   "source": [
    "sql_result_df.unpersist()"
   ]
  },
  {
   "cell_type": "markdown",
   "metadata": {},
   "source": [
    "**DF API:**"
   ]
  },
  {
   "cell_type": "code",
   "execution_count": 34,
   "metadata": {
    "scrolled": false
   },
   "outputs": [
    {
     "name": "stdout",
     "output_type": "stream",
     "text": [
      "+----+-------+-----+\n",
      "|hour|cluster|count|\n",
      "+----+-------+-----+\n",
      "|  17|      6| 7068|\n",
      "|  16|      6| 6849|\n",
      "|  18|      6| 6641|\n",
      "|  17|      0| 6314|\n",
      "|  19|      6| 6019|\n",
      "|  18|      0| 6014|\n",
      "|  21|      0| 5923|\n",
      "|  19|      0| 5862|\n",
      "|  20|      0| 5853|\n",
      "|  16|      0| 5849|\n",
      "+----+-------+-----+\n",
      "only showing top 10 rows\n",
      "\n"
     ]
    }
   ],
   "source": [
    "(test_preds\n",
    "    .select(F.hour(\"dt\").alias(\"hour\"), \"cluster\")\n",
    "    .groupBy([\"hour\", \"cluster\"])\n",
    "    .count()\n",
    "    .orderBy(F.desc(\"count\"))).show(10)"
   ]
  },
  {
   "cell_type": "markdown",
   "metadata": {},
   "source": [
    "### 6.2 How many pickups occurred in each cluster?"
   ]
  },
  {
   "cell_type": "markdown",
   "metadata": {},
   "source": [
    "**SQL:**"
   ]
  },
  {
   "cell_type": "code",
   "execution_count": 35,
   "metadata": {},
   "outputs": [
    {
     "data": {
      "text/plain": [
       "DataFrame[cluster: int, count: bigint]"
      ]
     },
     "execution_count": 35,
     "metadata": {},
     "output_type": "execute_result"
    }
   ],
   "source": [
    "sql_result_df = spark.sql(strip_margin(\n",
    "                        \"\"\"SELECT cluster, COUNT(cluster) AS count\n",
    "                          |FROM test_preds\n",
    "                          |GROUP BY cluster\n",
    "                          |ORDER BY cluster\n",
    "                        \"\"\"))\n",
    "sql_result_df.cache()"
   ]
  },
  {
   "cell_type": "code",
   "execution_count": 36,
   "metadata": {},
   "outputs": [
    {
     "name": "stdout",
     "output_type": "stream",
     "text": [
      "+-------+-----+\n",
      "|cluster|count|\n",
      "+-------+-----+\n",
      "|      0|91415|\n",
      "|      1|19720|\n",
      "|      2| 5765|\n",
      "|      3| 8297|\n",
      "|      4|11646|\n",
      "|      5|  264|\n",
      "|      6|90443|\n",
      "|      7|21298|\n",
      "+-------+-----+\n",
      "\n"
     ]
    }
   ],
   "source": [
    "sql_result_df.show(10)"
   ]
  },
  {
   "cell_type": "code",
   "execution_count": 37,
   "metadata": {},
   "outputs": [
    {
     "data": {
      "image/png": "[encoded data removed]",
      "text/plain": [
       "<matplotlib.figure.Figure at 0x7f11e13d8a20>"
      ]
     },
     "metadata": {
      "image/png": {
       "height": 277,
       "width": 1071
      }
     },
     "output_type": "display_data"
    }
   ],
   "source": [
    "plt.figure(figsize=(18,4))\n",
    "sns.barplot(x=\"cluster\", y=\"count\", data=sql_result_df.toPandas())\n",
    "plt.title(\"Total Pickups By Cluster\");"
   ]
  },
  {
   "cell_type": "code",
   "execution_count": 38,
   "metadata": {},
   "outputs": [
    {
     "data": {
      "text/plain": [
       "DataFrame[cluster: int, count: bigint]"
      ]
     },
     "execution_count": 38,
     "metadata": {},
     "output_type": "execute_result"
    }
   ],
   "source": [
    "sql_result_df.unpersist()"
   ]
  },
  {
   "cell_type": "markdown",
   "metadata": {},
   "source": [
    "**DF API:**"
   ]
  },
  {
   "cell_type": "code",
   "execution_count": 39,
   "metadata": {
    "scrolled": false
   },
   "outputs": [
    {
     "name": "stdout",
     "output_type": "stream",
     "text": [
      "+-------+-----+\n",
      "|cluster|count|\n",
      "+-------+-----+\n",
      "|      0|91415|\n",
      "|      1|19720|\n",
      "|      2| 5765|\n",
      "|      3| 8297|\n",
      "|      4|11646|\n",
      "|      5|  264|\n",
      "|      6|90443|\n",
      "|      7|21298|\n",
      "+-------+-----+\n",
      "\n"
     ]
    }
   ],
   "source": [
    "(test_preds\n",
    "    .groupBy(\"cluster\")\n",
    "    .count()\n",
    "    .orderBy(\"cluster\")).show(10)"
   ]
  },
  {
   "cell_type": "markdown",
   "metadata": {},
   "source": [
    "### 6.3 How many pickups occurred in each hour?"
   ]
  },
  {
   "cell_type": "markdown",
   "metadata": {},
   "source": [
    "**SQL:**"
   ]
  },
  {
   "cell_type": "code",
   "execution_count": 40,
   "metadata": {},
   "outputs": [
    {
     "data": {
      "text/plain": [
       "DataFrame[hour: int, count: bigint]"
      ]
     },
     "execution_count": 40,
     "metadata": {},
     "output_type": "execute_result"
    }
   ],
   "source": [
    "sql_result_df = spark.sql(strip_margin(\n",
    "                        \"\"\"SELECT \n",
    "                          |    HOUR(dt) AS hour, \n",
    "                          |    COUNT(cluster) AS count\n",
    "                          |FROM test_preds\n",
    "                          |GROUP BY hour\n",
    "                          |ORDER BY hour\n",
    "                        \"\"\"))\n",
    "sql_result_df.cache()"
   ]
  },
  {
   "cell_type": "code",
   "execution_count": 41,
   "metadata": {},
   "outputs": [
    {
     "name": "stdout",
     "output_type": "stream",
     "text": [
      "+----+-----+\n",
      "|hour|count|\n",
      "+----+-----+\n",
      "|   0| 6404|\n",
      "|   1| 4373|\n",
      "|   2| 2934|\n",
      "|   3| 3132|\n",
      "|   4| 3495|\n",
      "|   5| 4980|\n",
      "|   6| 7554|\n",
      "|   7|10206|\n",
      "|   8|10414|\n",
      "|   9| 8959|\n",
      "+----+-----+\n",
      "only showing top 10 rows\n",
      "\n"
     ]
    }
   ],
   "source": [
    "sql_result_df.show(10)"
   ]
  },
  {
   "cell_type": "code",
   "execution_count": 42,
   "metadata": {
    "scrolled": true
   },
   "outputs": [
    {
     "data": {
      "image/png": "[encoded data removed]",
      "text/plain": [
       "<matplotlib.figure.Figure at 0x7f11e02d4cc0>"
      ]
     },
     "metadata": {
      "image/png": {
       "height": 277,
       "width": 1071
      }
     },
     "output_type": "display_data"
    }
   ],
   "source": [
    "plt.figure(figsize=(18,4))\n",
    "sns.barplot(x=\"hour\", y=\"count\", data=sql_result_df.toPandas())\n",
    "plt.title(\"Total Pickups By Hour\");"
   ]
  },
  {
   "cell_type": "code",
   "execution_count": 43,
   "metadata": {},
   "outputs": [
    {
     "data": {
      "text/plain": [
       "DataFrame[hour: int, count: bigint]"
      ]
     },
     "execution_count": 43,
     "metadata": {},
     "output_type": "execute_result"
    }
   ],
   "source": [
    "sql_result_df.unpersist()"
   ]
  },
  {
   "cell_type": "markdown",
   "metadata": {},
   "source": [
    "**DF API:**"
   ]
  },
  {
   "cell_type": "code",
   "execution_count": 44,
   "metadata": {},
   "outputs": [
    {
     "name": "stdout",
     "output_type": "stream",
     "text": [
      "+----+-----+\n",
      "|hour|count|\n",
      "+----+-----+\n",
      "|   0| 6404|\n",
      "|   1| 4373|\n",
      "|   2| 2934|\n",
      "|   3| 3132|\n",
      "|   4| 3495|\n",
      "|   5| 4980|\n",
      "|   6| 7554|\n",
      "|   7|10206|\n",
      "|   8|10414|\n",
      "|   9| 8959|\n",
      "+----+-----+\n",
      "only showing top 10 rows\n",
      "\n"
     ]
    }
   ],
   "source": [
    "(test_preds\n",
    "    .select(F.hour(\"dt\").alias(\"hour\"))\n",
    "    .groupBy(\"hour\")\n",
    "    .count()\n",
    "    .orderBy(\"hour\")).show(10)"
   ]
  },
  {
   "cell_type": "markdown",
   "metadata": {},
   "source": [
    "## 8. Bisecting k-means\n",
    "`Bisecting k-means` is a variant of `k-means`. The core difference is that instead of clustering points by starting \"bottom-up\" and assigning a bunch of different groups in the data, this is a top-down clustering method. This means that it will start by creating a single group and then splitting that group into smaller groups in order to end up with the `k` number of clusters specified by the user. This is usually a faster method than `k-means` and will yield different results."
   ]
  },
  {
   "cell_type": "code",
   "execution_count": 45,
   "metadata": {
    "collapsed": true
   },
   "outputs": [],
   "source": [
    "bkm = BisectingKMeans(featuresCol='features', predictionCol='cluster', maxIter=20, k=8)"
   ]
  },
  {
   "cell_type": "code",
   "execution_count": 46,
   "metadata": {},
   "outputs": [
    {
     "data": {
      "text/plain": [
       "\"distanceMeasure: the distance measure. Supported options: 'euclidean' and 'cosine'. (default: euclidean)\\nfeaturesCol: features column name. (default: features, current: features)\\nk: The desired number of leaf clusters. Must be > 1. (default: 4, current: 8)\\nmaxIter: max number of iterations (>= 0). (default: 20, current: 20)\\nminDivisibleClusterSize: The minimum number of points (if >= 1.0) or the minimum proportion of points (if < 1.0) of a divisible cluster. (default: 1.0)\\npredictionCol: prediction column name. (default: prediction, current: cluster)\\nseed: random seed. (default: 6273406621647201097)\""
      ]
     },
     "execution_count": 46,
     "metadata": {},
     "output_type": "execute_result"
    }
   ],
   "source": [
    "bkm.explainParams()"
   ]
  },
  {
   "cell_type": "code",
   "execution_count": 47,
   "metadata": {
    "collapsed": true
   },
   "outputs": [],
   "source": [
    "bkmModel = bkm.fit(train_df)"
   ]
  },
  {
   "cell_type": "code",
   "execution_count": 48,
   "metadata": {},
   "outputs": [
    {
     "name": "stdout",
     "output_type": "stream",
     "text": [
      "+-------------------+-------+--------+------+------------------+-------+\n",
      "|                 dt|    lat|     lon|  base|          features|cluster|\n",
      "+-------------------+-------+--------+------+------------------+-------+\n",
      "|2014-08-01 00:00:00|40.3495|-74.0667|B02682|[40.3495,-74.0667]|      0|\n",
      "|2014-08-01 00:00:00|40.6754| -74.017|B02682| [40.6754,-74.017]|      1|\n",
      "|2014-08-01 00:00:00|40.6759|-74.0168|B02617|[40.6759,-74.0168]|      1|\n",
      "|2014-08-01 00:00:00|40.7303|-74.0029|B02682|[40.7303,-74.0029]|      1|\n",
      "|2014-08-01 00:00:00|40.7424|-74.0044|B02598|[40.7424,-74.0044]|      1|\n",
      "|2014-08-01 00:01:00|40.7052|-74.0094|B02598|[40.7052,-74.0094]|      1|\n",
      "|2014-08-01 00:01:00|40.7108|-73.9679|B02598|[40.7108,-73.9679]|      1|\n",
      "|2014-08-01 00:01:00|40.7341| -73.989|B02617| [40.7341,-73.989]|      1|\n",
      "|2014-08-01 00:01:00|40.7552|-73.9724|B02682|[40.7552,-73.9724]|      2|\n",
      "|2014-08-01 00:01:00|40.7633|-73.9891|B02617|[40.7633,-73.9891]|      2|\n",
      "+-------------------+-------+--------+------+------------------+-------+\n",
      "only showing top 10 rows\n",
      "\n"
     ]
    }
   ],
   "source": [
    "bkmModel.transform(test_df).show(10)"
   ]
  },
  {
   "cell_type": "markdown",
   "metadata": {},
   "source": [
    "**Bisecting k-means Summary**\n",
    "\n",
    "`Bisecting k-means` includes a summary class that we can use to evaluate our model, that is largely the same as the `k-means` summary. This includes information about the clusters created, as well as their relative sizes (number of examples):"
   ]
  },
  {
   "cell_type": "code",
   "execution_count": 49,
   "metadata": {},
   "outputs": [
    {
     "name": "stdout",
     "output_type": "stream",
     "text": [
      "[6175, 278747, 189087, 61129, 18610, 1562, 23194, 1923]\n"
     ]
    }
   ],
   "source": [
    "print(bkmModel.summary.clusterSizes) # number of points"
   ]
  },
  {
   "cell_type": "code",
   "execution_count": 50,
   "metadata": {},
   "outputs": [
    {
     "data": {
      "text/plain": [
       "772.3023226857927"
      ]
     },
     "execution_count": 50,
     "metadata": {},
     "output_type": "execute_result"
    }
   ],
   "source": [
    "bkmModel.computeCost(train_df)"
   ]
  },
  {
   "cell_type": "code",
   "execution_count": 51,
   "metadata": {},
   "outputs": [
    {
     "name": "stdout",
     "output_type": "stream",
     "text": [
      "Bisecting k-means Cluster Centers: \n",
      "[ 40.6693 -74.1934]\n",
      "[ 40.7153 -73.9884]\n",
      "[ 40.7574 -73.9807]\n",
      "[ 40.7924 -73.9497]\n",
      "[ 40.6561 -73.7797]\n",
      "[ 40.7688 -73.4668]\n",
      "[ 40.7657 -73.8626]\n",
      "[ 40.979  -73.7823]\n"
     ]
    }
   ],
   "source": [
    "print(\"Bisecting k-means Cluster Centers: \")\n",
    "for center in bkmModel.clusterCenters():\n",
    "    print(center)"
   ]
  },
  {
   "cell_type": "markdown",
   "metadata": {},
   "source": [
    "## Gaussian Mixture Models\n",
    "`Gaussian mixture models (GMM)` are another popular clustering algorithm that makes different assumptions than `bisecting k-means` or `k-means` do. Those algorithms try to group data by reducing the sum of squared distances from the center of the cluster. Gaussian mixture models, on the other hand, assume that each cluster produces data based upon random draws from a Gaussian distribution. This means that clusters of data should be less likely to have data at the edge of the cluster (reflected in the Guassian distribution) and much higher probability of having data in the center. Each Gaussian cluster can be of arbitrary size with its own mean and standard deviation (and hence a possibly different, ellipsoid shape). There are still `k` user-specified clusters that will be created during training.\n",
    "\n",
    "A simplified way of thinking about Gaussian mixture models is that they’re like a soft version of 𝘬-means. 𝘬-means creates very rigid clusters - each point is only within one cluster. GMMs allow for a more nuanced cluster associated with probabilities, instead of rigid boundaries."
   ]
  },
  {
   "cell_type": "code",
   "execution_count": 52,
   "metadata": {
    "collapsed": true
   },
   "outputs": [],
   "source": [
    "gmm = GaussianMixture(featuresCol='features', predictionCol='cluster', k=8)"
   ]
  },
  {
   "cell_type": "code",
   "execution_count": 53,
   "metadata": {},
   "outputs": [
    {
     "data": {
      "text/plain": [
       "'featuresCol: features column name. (default: features, current: features)\\nk: Number of independent Gaussians in the mixture model. Must be > 1. (default: 2, current: 8)\\nmaxIter: max number of iterations (>= 0). (default: 100)\\npredictionCol: prediction column name. (default: prediction, current: cluster)\\nprobabilityCol: Column name for predicted class conditional probabilities. Note: Not all models output well-calibrated probability estimates! These probabilities should be treated as confidences, not precise probabilities. (default: probability)\\nseed: random seed. (default: 8705189966447162735)\\ntol: the convergence tolerance for iterative algorithms (>= 0). (default: 0.01)'"
      ]
     },
     "execution_count": 53,
     "metadata": {},
     "output_type": "execute_result"
    }
   ],
   "source": [
    "gmm.explainParams()"
   ]
  },
  {
   "cell_type": "code",
   "execution_count": 54,
   "metadata": {
    "collapsed": true
   },
   "outputs": [],
   "source": [
    "gmmModel = gmm.fit(train_df)"
   ]
  },
  {
   "cell_type": "code",
   "execution_count": 55,
   "metadata": {},
   "outputs": [
    {
     "name": "stdout",
     "output_type": "stream",
     "text": [
      "+-------------------+-------+--------+------+------------------+-------+--------------------+\n",
      "|                 dt|    lat|     lon|  base|          features|cluster|         probability|\n",
      "+-------------------+-------+--------+------+------------------+-------+--------------------+\n",
      "|2014-08-01 00:00:00|40.3495|-74.0667|B02682|[40.3495,-74.0667]|      3|[1.06308663207616...|\n",
      "|2014-08-01 00:00:00|40.6754| -74.017|B02682| [40.6754,-74.017]|      4|[9.15865650722991...|\n",
      "|2014-08-01 00:00:00|40.6759|-74.0168|B02617|[40.6759,-74.0168]|      4|[9.60775165626833...|\n",
      "|2014-08-01 00:00:00|40.7303|-74.0029|B02682|[40.7303,-74.0029]|      7|[0.00138784100546...|\n",
      "|2014-08-01 00:00:00|40.7424|-74.0044|B02598|[40.7424,-74.0044]|      6|[0.00112649565277...|\n",
      "|2014-08-01 00:01:00|40.7052|-74.0094|B02598|[40.7052,-74.0094]|      1|[0.00107517269203...|\n",
      "|2014-08-01 00:01:00|40.7108|-73.9679|B02598|[40.7108,-73.9679]|      4|[4.16398943190282...|\n",
      "|2014-08-01 00:01:00|40.7341| -73.989|B02617| [40.7341,-73.989]|      1|[0.00372386869943...|\n",
      "|2014-08-01 00:01:00|40.7552|-73.9724|B02682|[40.7552,-73.9724]|      7|[0.00879958725327...|\n",
      "|2014-08-01 00:01:00|40.7633|-73.9891|B02617|[40.7633,-73.9891]|      6|[0.00532599325455...|\n",
      "+-------------------+-------+--------+------+------------------+-------+--------------------+\n",
      "only showing top 10 rows\n",
      "\n"
     ]
    }
   ],
   "source": [
    "gmmModel.transform(test_df).show(10)"
   ]
  },
  {
   "cell_type": "markdown",
   "metadata": {},
   "source": [
    "**Gaussian Mixture Model Summary**\n",
    "\n",
    "Like our other clustering algorithms, Gaussian mixture models include a summary class to help with model evaluation. This includes information about the clusters created, like the weights, the means, and the covariance of the Gaussian mixture, which can help us learn more about the underlying structure inside of our data:"
   ]
  },
  {
   "cell_type": "code",
   "execution_count": 56,
   "metadata": {},
   "outputs": [
    {
     "data": {
      "text/plain": [
       "[0.033444679292671954,\n",
       " 0.1907077608722158,\n",
       " 0.09846089658833762,\n",
       " 0.020507531179239213,\n",
       " 0.15863651342428708,\n",
       " 0.0192104771636125,\n",
       " 0.19685292472549695,\n",
       " 0.282179216754139]"
      ]
     },
     "execution_count": 56,
     "metadata": {},
     "output_type": "execute_result"
    }
   ],
   "source": [
    "gmmModel.weights"
   ]
  },
  {
   "cell_type": "code",
   "execution_count": 57,
   "metadata": {},
   "outputs": [
    {
     "data": {
      "text/html": [
       "<div>\n",
       "<style>\n",
       "    .dataframe thead tr:only-child th {\n",
       "        text-align: right;\n",
       "    }\n",
       "\n",
       "    .dataframe thead th {\n",
       "        text-align: left;\n",
       "    }\n",
       "\n",
       "    .dataframe tbody tr th {\n",
       "        vertical-align: top;\n",
       "    }\n",
       "</style>\n",
       "<table border=\"1\" class=\"dataframe\">\n",
       "  <thead>\n",
       "    <tr style=\"text-align: right;\">\n",
       "      <th></th>\n",
       "      <th>mean</th>\n",
       "      <th>cov</th>\n",
       "    </tr>\n",
       "  </thead>\n",
       "  <tbody>\n",
       "    <tr>\n",
       "      <th>0</th>\n",
       "      <td>[40.8122891258, -73.948132837]</td>\n",
       "      <td>DenseMatrix([[ 0.0012,  0.0006],\\n             [ 0.0006,  0.0004]])</td>\n",
       "    </tr>\n",
       "    <tr>\n",
       "      <th>1</th>\n",
       "      <td>[40.7226007532, -73.9961921164]</td>\n",
       "      <td>DenseMatrix([[ 0.0001,  0.0001],\\n             [ 0.0001,  0.0001]])</td>\n",
       "    </tr>\n",
       "    <tr>\n",
       "      <th>2</th>\n",
       "      <td>[40.6940616769, -73.9107197668]</td>\n",
       "      <td>DenseMatrix([[ 0.0024, -0.0017],\\n             [-0.0017,  0.0148]])</td>\n",
       "    </tr>\n",
       "    <tr>\n",
       "      <th>3</th>\n",
       "      <td>[40.786598669, -73.8843730099]</td>\n",
       "      <td>DenseMatrix([[ 0.0255,  0.0091],\\n             [ 0.0091,  0.0559]])</td>\n",
       "    </tr>\n",
       "    <tr>\n",
       "      <th>4</th>\n",
       "      <td>[40.7043786628, -73.9624994418]</td>\n",
       "      <td>DenseMatrix([[ 0.0009,  0.0004],\\n             [ 0.0004,  0.0006]])</td>\n",
       "    </tr>\n",
       "    <tr>\n",
       "      <th>5</th>\n",
       "      <td>[40.7718590177, -73.8682761546]</td>\n",
       "      <td>DenseMatrix([[ 0., -0.],\\n             [-0.,  0.]])</td>\n",
       "    </tr>\n",
       "    <tr>\n",
       "      <th>6</th>\n",
       "      <td>[40.7565713922, -73.9928070532]</td>\n",
       "      <td>DenseMatrix([[ 0.0004,  0.0002],\\n             [ 0.0002,  0.0001]])</td>\n",
       "    </tr>\n",
       "    <tr>\n",
       "      <th>7</th>\n",
       "      <td>[40.7542611718, -73.9776916525]</td>\n",
       "      <td>DenseMatrix([[ 0.0002,  0.0002],\\n             [ 0.0002,  0.0002]])</td>\n",
       "    </tr>\n",
       "  </tbody>\n",
       "</table>\n",
       "</div>"
      ],
      "text/plain": [
       "                              mean  \\\n",
       "0   [40.8122891258, -73.948132837]   \n",
       "1  [40.7226007532, -73.9961921164]   \n",
       "2  [40.6940616769, -73.9107197668]   \n",
       "3   [40.786598669, -73.8843730099]   \n",
       "4  [40.7043786628, -73.9624994418]   \n",
       "5  [40.7718590177, -73.8682761546]   \n",
       "6  [40.7565713922, -73.9928070532]   \n",
       "7  [40.7542611718, -73.9776916525]   \n",
       "\n",
       "                                                                   cov  \n",
       "0  DenseMatrix([[ 0.0012,  0.0006],\\n             [ 0.0006,  0.0004]])  \n",
       "1  DenseMatrix([[ 0.0001,  0.0001],\\n             [ 0.0001,  0.0001]])  \n",
       "2  DenseMatrix([[ 0.0024, -0.0017],\\n             [-0.0017,  0.0148]])  \n",
       "3  DenseMatrix([[ 0.0255,  0.0091],\\n             [ 0.0091,  0.0559]])  \n",
       "4  DenseMatrix([[ 0.0009,  0.0004],\\n             [ 0.0004,  0.0006]])  \n",
       "5                  DenseMatrix([[ 0., -0.],\\n             [-0.,  0.]])  \n",
       "6  DenseMatrix([[ 0.0004,  0.0002],\\n             [ 0.0002,  0.0001]])  \n",
       "7  DenseMatrix([[ 0.0002,  0.0002],\\n             [ 0.0002,  0.0002]])  "
      ]
     },
     "execution_count": 57,
     "metadata": {},
     "output_type": "execute_result"
    }
   ],
   "source": [
    "gmmModel.gaussiansDF.limit(10).toPandas()"
   ]
  },
  {
   "cell_type": "code",
   "execution_count": 58,
   "metadata": {},
   "outputs": [
    {
     "name": "stdout",
     "output_type": "stream",
     "text": [
      "[14972, 120785, 47314, 7950, 96722, 11175, 118533, 162976]\n"
     ]
    }
   ],
   "source": [
    "print(gmmModel.summary.clusterSizes)"
   ]
  },
  {
   "cell_type": "code",
   "execution_count": 59,
   "metadata": {},
   "outputs": [
    {
     "name": "stdout",
     "output_type": "stream",
     "text": [
      "+-------+\n",
      "|cluster|\n",
      "+-------+\n",
      "|      3|\n",
      "|      4|\n",
      "|      2|\n",
      "|      4|\n",
      "|      4|\n",
      "|      4|\n",
      "|      1|\n",
      "|      1|\n",
      "|      1|\n",
      "|      4|\n",
      "+-------+\n",
      "only showing top 10 rows\n",
      "\n"
     ]
    }
   ],
   "source": [
    "gmmModel.summary.cluster.show(10)"
   ]
  },
  {
   "cell_type": "code",
   "execution_count": 60,
   "metadata": {},
   "outputs": [
    {
     "data": {
      "text/html": [
       "<div>\n",
       "<style>\n",
       "    .dataframe thead tr:only-child th {\n",
       "        text-align: right;\n",
       "    }\n",
       "\n",
       "    .dataframe thead th {\n",
       "        text-align: left;\n",
       "    }\n",
       "\n",
       "    .dataframe tbody tr th {\n",
       "        vertical-align: top;\n",
       "    }\n",
       "</style>\n",
       "<table border=\"1\" class=\"dataframe\">\n",
       "  <thead>\n",
       "    <tr style=\"text-align: right;\">\n",
       "      <th></th>\n",
       "      <th>probability</th>\n",
       "    </tr>\n",
       "  </thead>\n",
       "  <tbody>\n",
       "    <tr>\n",
       "      <th>0</th>\n",
       "      <td>[1.06308663208e-13, 1.06308663208e-13, 1.13259982348e-10, 0.999999999886, 1.06308663208e-13, 1.06308663208e-13, 1.06308663208e-13, 1.06308663208e-13]</td>\n",
       "    </tr>\n",
       "    <tr>\n",
       "      <th>1</th>\n",
       "      <td>[2.57258559538e-13, 1.31857383539e-17, 0.155959876674, 0.00441320151399, 0.839626921812, 1.31857383467e-17, 1.31857383467e-17, 1.31857383467e-17]</td>\n",
       "    </tr>\n",
       "    <tr>\n",
       "      <th>2</th>\n",
       "      <td>[6.60625331474e-17, 6.60624841925e-17, 0.807242421341, 0.0226088865525, 0.170148692107, 6.60624841925e-17, 6.60624841925e-17, 6.60624841925e-17]</td>\n",
       "    </tr>\n",
       "    <tr>\n",
       "      <th>3</th>\n",
       "      <td>[1.03256700635e-06, 2.07043908927e-10, 0.0574508453329, 0.00175264171873, 0.940795480174, 5.22026489005e-18, 5.2202649101e-18, 5.22185401869e-18]</td>\n",
       "    </tr>\n",
       "    <tr>\n",
       "      <th>4</th>\n",
       "      <td>[6.70330357779e-08, 6.17953014992e-13, 0.0606290287811, 0.00181683549189, 0.937554068693, 5.35361245269e-18, 5.35361245269e-18, 5.35361264148e-18]</td>\n",
       "    </tr>\n",
       "    <tr>\n",
       "      <th>5</th>\n",
       "      <td>[1.68566376282e-15, 2.42308769481e-17, 0.28787510493, 0.00855777277577, 0.703567122294, 2.42308769477e-17, 2.42308769477e-17, 2.42308769477e-17]</td>\n",
       "    </tr>\n",
       "    <tr>\n",
       "      <th>6</th>\n",
       "      <td>[0.000558001653922, 0.923436925318, 0.00860096129908, 0.0003254051003, 0.00799715564531, 9.88264761474e-19, 0.0397719289251, 0.0193096220586]</td>\n",
       "    </tr>\n",
       "    <tr>\n",
       "      <th>7</th>\n",
       "      <td>[0.000915324237272, 0.973232017504, 0.00510028079851, 0.000192184935525, 0.012488620428, 5.63470906052e-19, 0.00097214507283, 0.00709942702433]</td>\n",
       "    </tr>\n",
       "    <tr>\n",
       "      <th>8</th>\n",
       "      <td>[0.000937241498729, 0.960671866484, 0.00442443745055, 0.000171071954326, 0.00868028103944, 4.99943986072e-19, 0.00353403892256, 0.0215810626508]</td>\n",
       "    </tr>\n",
       "    <tr>\n",
       "      <th>9</th>\n",
       "      <td>[5.03015669596e-07, 1.91361991824e-08, 0.0731236865718, 0.00285118563098, 0.924024605645, 7.68684305229e-18, 7.6868430523e-18, 2.95435029e-16]</td>\n",
       "    </tr>\n",
       "  </tbody>\n",
       "</table>\n",
       "</div>"
      ],
      "text/plain": [
       "                                                                                                                                             probability\n",
       "0  [1.06308663208e-13, 1.06308663208e-13, 1.13259982348e-10, 0.999999999886, 1.06308663208e-13, 1.06308663208e-13, 1.06308663208e-13, 1.06308663208e-13]\n",
       "1      [2.57258559538e-13, 1.31857383539e-17, 0.155959876674, 0.00441320151399, 0.839626921812, 1.31857383467e-17, 1.31857383467e-17, 1.31857383467e-17]\n",
       "2       [6.60625331474e-17, 6.60624841925e-17, 0.807242421341, 0.0226088865525, 0.170148692107, 6.60624841925e-17, 6.60624841925e-17, 6.60624841925e-17]\n",
       "3      [1.03256700635e-06, 2.07043908927e-10, 0.0574508453329, 0.00175264171873, 0.940795480174, 5.22026489005e-18, 5.2202649101e-18, 5.22185401869e-18]\n",
       "4     [6.70330357779e-08, 6.17953014992e-13, 0.0606290287811, 0.00181683549189, 0.937554068693, 5.35361245269e-18, 5.35361245269e-18, 5.35361264148e-18]\n",
       "5       [1.68566376282e-15, 2.42308769481e-17, 0.28787510493, 0.00855777277577, 0.703567122294, 2.42308769477e-17, 2.42308769477e-17, 2.42308769477e-17]\n",
       "6          [0.000558001653922, 0.923436925318, 0.00860096129908, 0.0003254051003, 0.00799715564531, 9.88264761474e-19, 0.0397719289251, 0.0193096220586]\n",
       "7        [0.000915324237272, 0.973232017504, 0.00510028079851, 0.000192184935525, 0.012488620428, 5.63470906052e-19, 0.00097214507283, 0.00709942702433]\n",
       "8       [0.000937241498729, 0.960671866484, 0.00442443745055, 0.000171071954326, 0.00868028103944, 4.99943986072e-19, 0.00353403892256, 0.0215810626508]\n",
       "9         [5.03015669596e-07, 1.91361991824e-08, 0.0731236865718, 0.00285118563098, 0.924024605645, 7.68684305229e-18, 7.6868430523e-18, 2.95435029e-16]"
      ]
     },
     "execution_count": 60,
     "metadata": {},
     "output_type": "execute_result"
    }
   ],
   "source": [
    "gmmModel.summary.probability.limit(10).toPandas()"
   ]
  },
  {
   "cell_type": "code",
   "execution_count": 61,
   "metadata": {
    "collapsed": true
   },
   "outputs": [],
   "source": [
    "spark.stop()"
   ]
  },
  {
   "cell_type": "code",
   "execution_count": null,
   "metadata": {
    "collapsed": true
   },
   "outputs": [],
   "source": []
  }
 ],
 "metadata": {
  "kernelspec": {
   "display_name": "Python 3",
   "language": "python",
   "name": "python3"
  },
  "language_info": {
   "codemirror_mode": {
    "name": "ipython",
    "version": 3
   },
   "file_extension": ".py",
   "mimetype": "text/x-python",
   "name": "python",
   "nbconvert_exporter": "python",
   "pygments_lexer": "ipython3",
   "version": "3.6.2"
  }
 },
 "nbformat": 4,
 "nbformat_minor": 2
}
